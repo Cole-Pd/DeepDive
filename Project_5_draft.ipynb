{
  "nbformat": 4,
  "nbformat_minor": 0,
  "metadata": {
    "colab": {
      "provenance": [],
      "include_colab_link": true
    },
    "kernelspec": {
      "name": "python3",
      "display_name": "Python 3"
    },
    "language_info": {
      "name": "python"
    }
  },
  "cells": [
    {
      "cell_type": "markdown",
      "metadata": {
        "id": "view-in-github",
        "colab_type": "text"
      },
      "source": [
        "<a href=\"https://colab.research.google.com/github/Cole-Pd/DeepDive/blob/main/Project_5_draft.ipynb\" target=\"_parent\"><img src=\"https://colab.research.google.com/assets/colab-badge.svg\" alt=\"Open In Colab\"/></a>"
      ]
    },
    {
      "cell_type": "markdown",
      "source": [
        "# Part 1 Draft"
      ],
      "metadata": {
        "id": "cJG_e1vK2NMI"
      }
    },
    {
      "cell_type": "markdown",
      "source": [
        "## Data Collection/Sources\n"
      ],
      "metadata": {
        "id": "jaq46wHS2Uh1"
      }
    },
    {
      "cell_type": "code",
      "source": [
        "import pandas as pd\n",
        "import numpy as np\n",
        "import pickle #yay :)\n",
        "import random\n",
        "from textblob import TextBlob, Word\n",
        "import nltk\n",
        "nltk.download('omw-1.4')\n",
        "\n",
        "from sklearn.feature_extraction.text import CountVectorizer as BagOfWords\n",
        "from sklearn.feature_extraction.text import TfidfTransformer\n",
        "from sklearn.feature_extraction.text import TfidfVectorizer\n",
        "from sklearn.neighbors import NearestNeighbors"
      ],
      "metadata": {
        "id": "mNOARr9i2qW8"
      },
      "execution_count": null,
      "outputs": []
    },
    {
      "cell_type": "code",
      "source": [
        "from google.colab import drive\n",
        "drive.mount('/content/drive')"
      ],
      "metadata": {
        "colab": {
          "base_uri": "https://localhost:8080/"
        },
        "id": "NJr3SrcSXmN0",
        "outputId": "77db2943-4e5e-4566-da29-453ea95eb1a3"
      },
      "execution_count": null,
      "outputs": [
        {
          "output_type": "stream",
          "name": "stdout",
          "text": [
            "Drive already mounted at /content/drive; to attempt to forcibly remount, call drive.mount(\"/content/drive\", force_remount=True).\n"
          ]
        }
      ]
    },
    {
      "cell_type": "code",
      "source": [
        "%%capture\n",
        "!python -m textblob.download_corpora"
      ],
      "metadata": {
        "id": "ykaAv9u0yEDR"
      },
      "execution_count": null,
      "outputs": []
    },
    {
      "cell_type": "code",
      "source": [
        "url = 'https://ddc-datascience.s3.amazonaws.com/Projects/Project.5-NLP/Data/NLP.csv'\n",
        "df = pd.read_csv(url)"
      ],
      "metadata": {
        "id": "9RFnuGL6x-zl"
      },
      "execution_count": null,
      "outputs": []
    },
    {
      "cell_type": "code",
      "source": [
        "df"
      ],
      "metadata": {
        "id": "W-Qous7L1JXe"
      },
      "execution_count": null,
      "outputs": []
    },
    {
      "cell_type": "code",
      "source": [
        "#importing our pickle file was good practice.\n",
        "#however it resulted in a file that for some reason was blowing up our ram\n",
        "#to get around this we split our strings into two pickles\n",
        "#they are below and squished together\n",
        "\n",
        "p1 = pickle.load(open('/content/drive/MyDrive/pickle_part_1.p','rb'))\n",
        "p2 = pickle.load(open('/content/drive/MyDrive/pickle_part_2.p','rb'))"
      ],
      "metadata": {
        "id": "X4n9K0GlyHmK"
      },
      "execution_count": null,
      "outputs": []
    },
    {
      "cell_type": "code",
      "source": [
        "singularized = pd.concat([p1,p2], axis = 0)"
      ],
      "metadata": {
        "id": "RaRBA7f_NowP"
      },
      "execution_count": null,
      "outputs": []
    },
    {
      "cell_type": "code",
      "source": [
        "Bag_of_Words = BagOfWords(stop_words = 'english')\n",
        "word_vector = Bag_of_Words.fit_transform(singularized.str.join(', '))"
      ],
      "metadata": {
        "id": "fdG42fowF9Nm"
      },
      "execution_count": null,
      "outputs": []
    },
    {
      "cell_type": "code",
      "source": [
        "tf_idf = TfidfTransformer()\n",
        "tf_idf_vw = tf_idf.fit_transform(word_vector)"
      ],
      "metadata": {
        "id": "m0y9eeJ2QLID"
      },
      "execution_count": null,
      "outputs": []
    },
    {
      "cell_type": "code",
      "source": [
        "tf_idf_vw.shape #Big Matrix"
      ],
      "metadata": {
        "colab": {
          "base_uri": "https://localhost:8080/"
        },
        "id": "mKUakT9ExLd2",
        "outputId": "db68ef22-181b-4bb0-e65c-4e753f7fd2f4"
      },
      "execution_count": null,
      "outputs": [
        {
          "output_type": "execute_result",
          "data": {
            "text/plain": [
              "(42786, 404869)"
            ]
          },
          "metadata": {},
          "execution_count": 18
        }
      ]
    },
    {
      "cell_type": "code",
      "source": [
        "nearest_neighbors = NearestNeighbors().fit(tf_idf_vw)"
      ],
      "metadata": {
        "id": "ai9bFWz6QqCk"
      },
      "execution_count": null,
      "outputs": []
    },
    {
      "cell_type": "code",
      "source": [
        "random.seed(42)\n",
        "Page = random.randrange(0, len(df))\n",
        "Wikipage = tf_idf_vw[Page]\n",
        "Wikipage"
      ],
      "metadata": {
        "colab": {
          "base_uri": "https://localhost:8080/"
        },
        "id": "kqpeIL3yRGr1",
        "outputId": "32ee0143-47da-495c-e8e8-5aa330d71feb"
      },
      "execution_count": null,
      "outputs": [
        {
          "output_type": "execute_result",
          "data": {
            "text/plain": [
              "41905"
            ]
          },
          "metadata": {},
          "execution_count": 24
        }
      ]
    },
    {
      "cell_type": "code",
      "source": [
        "distances, indecies = nearest_neighbors.kneighbors(\n",
        "    X = Wikipage,\n",
        "    n_neighbors = 11\n",
        ")"
      ],
      "metadata": {
        "id": "U-NkljrexzrW"
      },
      "execution_count": null,
      "outputs": []
    },
    {
      "cell_type": "code",
      "source": [
        "indecies"
      ],
      "metadata": {
        "colab": {
          "base_uri": "https://localhost:8080/"
        },
        "id": "He0ORa8qzfFg",
        "outputId": "86d1a2c1-2824-4121-b27e-10fbf2e8c441"
      },
      "execution_count": null,
      "outputs": [
        {
          "output_type": "execute_result",
          "data": {
            "text/plain": [
              "array([[41905, 27470, 17489, 41837,  4894, 29122, 13733, 14191, 25554,\n",
              "        15167,  2813]])"
            ]
          },
          "metadata": {},
          "execution_count": 30
        }
      ]
    },
    {
      "cell_type": "code",
      "source": [
        "df.iloc[41905]"
      ],
      "metadata": {
        "colab": {
          "base_uri": "https://localhost:8080/"
        },
        "id": "UD6J8Io6zvdc",
        "outputId": "f04154b9-cbeb-4929-edc0-899743332af0"
      },
      "execution_count": null,
      "outputs": [
        {
          "output_type": "execute_result",
          "data": {
            "text/plain": [
              "URI       <http://dbpedia.org/resource/Michael_P._Kearns>\n",
              "name                                    Michael P. Kearns\n",
              "text    michael p mickey kearns is a member of the new...\n",
              "Name: 41905, dtype: object"
            ]
          },
          "metadata": {},
          "execution_count": 31
        }
      ]
    },
    {
      "cell_type": "code",
      "source": [
        "ten_nn = df.iloc[[27470, 17489, 41837,  4894, 29122, 13733, 14191, 25554,\n",
        "        15167,  2813]]\n",
        "ten_nn"
      ],
      "metadata": {
        "colab": {
          "base_uri": "https://localhost:8080/",
          "height": 640
        },
        "id": "XeJbGhFbz0AP",
        "outputId": "9898527d-7da2-41d2-881b-0383ffd016ef"
      },
      "execution_count": null,
      "outputs": [
        {
          "output_type": "execute_result",
          "data": {
            "text/plain": [
              "                                                     URI  \\\n",
              "27470          <http://dbpedia.org/resource/Phil_Kearns>   \n",
              "17489        <http://dbpedia.org/resource/Tricia_Hunter>   \n",
              "41837     <http://dbpedia.org/resource/Dennis_T._Gorski>   \n",
              "4894         <http://dbpedia.org/resource/Rodney_Berman>   \n",
              "29122  <http://dbpedia.org/resource/Josef_%C5%98ih%C3...   \n",
              "13733       <http://dbpedia.org/resource/Maureen_Howard>   \n",
              "14191        <http://dbpedia.org/resource/Roslyn_Dundas>   \n",
              "25554       <http://dbpedia.org/resource/Alfred_Coppola>   \n",
              "15167        <http://dbpedia.org/resource/Bernhard_Hess>   \n",
              "2813         <http://dbpedia.org/resource/Kate_Reynolds>   \n",
              "\n",
              "                        name  \\\n",
              "27470            Phil Kearns   \n",
              "17489          Tricia Hunter   \n",
              "41837       Dennis T. Gorski   \n",
              "4894           Rodney Berman   \n",
              "29122  Josef %C5%98ih%C3%A1k   \n",
              "13733         Maureen Howard   \n",
              "14191          Roslyn Dundas   \n",
              "25554         Alfred Coppola   \n",
              "15167          Bernhard Hess   \n",
              "2813           Kate Reynolds   \n",
              "\n",
              "                                                    text  \n",
              "27470  philip nicholas kearns born 27 june 1967 is a ...  \n",
              "17489  patricia rae hunter known by her nickname tric...  \n",
              "41837  dennis t gorski born july 20 1944 is a politic...  \n",
              "4894   rodney berman obe is a liberal democrat politi...  \n",
              "29122  josef ihk born april 25 1959 in karlovy vary i...  \n",
              "13733  maureen howard born june 28 1930 is an america...  \n",
              "14191  roslyn dundas born 28 july 1978 is an australi...  \n",
              "25554  alfred al coppola is a former state senator an...  \n",
              "15167  bernhard hess born 5 april 1966 is a swiss pol...  \n",
              "2813   kathryn joy kate reynolds born 1962 was an aus...  "
            ],
            "text/html": [
              "\n",
              "  <div id=\"df-1a0a9589-05bd-46e0-8f71-1b3b576e3140\" class=\"colab-df-container\">\n",
              "    <div>\n",
              "<style scoped>\n",
              "    .dataframe tbody tr th:only-of-type {\n",
              "        vertical-align: middle;\n",
              "    }\n",
              "\n",
              "    .dataframe tbody tr th {\n",
              "        vertical-align: top;\n",
              "    }\n",
              "\n",
              "    .dataframe thead th {\n",
              "        text-align: right;\n",
              "    }\n",
              "</style>\n",
              "<table border=\"1\" class=\"dataframe\">\n",
              "  <thead>\n",
              "    <tr style=\"text-align: right;\">\n",
              "      <th></th>\n",
              "      <th>URI</th>\n",
              "      <th>name</th>\n",
              "      <th>text</th>\n",
              "    </tr>\n",
              "  </thead>\n",
              "  <tbody>\n",
              "    <tr>\n",
              "      <th>27470</th>\n",
              "      <td>&lt;http://dbpedia.org/resource/Phil_Kearns&gt;</td>\n",
              "      <td>Phil Kearns</td>\n",
              "      <td>philip nicholas kearns born 27 june 1967 is a ...</td>\n",
              "    </tr>\n",
              "    <tr>\n",
              "      <th>17489</th>\n",
              "      <td>&lt;http://dbpedia.org/resource/Tricia_Hunter&gt;</td>\n",
              "      <td>Tricia Hunter</td>\n",
              "      <td>patricia rae hunter known by her nickname tric...</td>\n",
              "    </tr>\n",
              "    <tr>\n",
              "      <th>41837</th>\n",
              "      <td>&lt;http://dbpedia.org/resource/Dennis_T._Gorski&gt;</td>\n",
              "      <td>Dennis T. Gorski</td>\n",
              "      <td>dennis t gorski born july 20 1944 is a politic...</td>\n",
              "    </tr>\n",
              "    <tr>\n",
              "      <th>4894</th>\n",
              "      <td>&lt;http://dbpedia.org/resource/Rodney_Berman&gt;</td>\n",
              "      <td>Rodney Berman</td>\n",
              "      <td>rodney berman obe is a liberal democrat politi...</td>\n",
              "    </tr>\n",
              "    <tr>\n",
              "      <th>29122</th>\n",
              "      <td>&lt;http://dbpedia.org/resource/Josef_%C5%98ih%C3...</td>\n",
              "      <td>Josef %C5%98ih%C3%A1k</td>\n",
              "      <td>josef ihk born april 25 1959 in karlovy vary i...</td>\n",
              "    </tr>\n",
              "    <tr>\n",
              "      <th>13733</th>\n",
              "      <td>&lt;http://dbpedia.org/resource/Maureen_Howard&gt;</td>\n",
              "      <td>Maureen Howard</td>\n",
              "      <td>maureen howard born june 28 1930 is an america...</td>\n",
              "    </tr>\n",
              "    <tr>\n",
              "      <th>14191</th>\n",
              "      <td>&lt;http://dbpedia.org/resource/Roslyn_Dundas&gt;</td>\n",
              "      <td>Roslyn Dundas</td>\n",
              "      <td>roslyn dundas born 28 july 1978 is an australi...</td>\n",
              "    </tr>\n",
              "    <tr>\n",
              "      <th>25554</th>\n",
              "      <td>&lt;http://dbpedia.org/resource/Alfred_Coppola&gt;</td>\n",
              "      <td>Alfred Coppola</td>\n",
              "      <td>alfred al coppola is a former state senator an...</td>\n",
              "    </tr>\n",
              "    <tr>\n",
              "      <th>15167</th>\n",
              "      <td>&lt;http://dbpedia.org/resource/Bernhard_Hess&gt;</td>\n",
              "      <td>Bernhard Hess</td>\n",
              "      <td>bernhard hess born 5 april 1966 is a swiss pol...</td>\n",
              "    </tr>\n",
              "    <tr>\n",
              "      <th>2813</th>\n",
              "      <td>&lt;http://dbpedia.org/resource/Kate_Reynolds&gt;</td>\n",
              "      <td>Kate Reynolds</td>\n",
              "      <td>kathryn joy kate reynolds born 1962 was an aus...</td>\n",
              "    </tr>\n",
              "  </tbody>\n",
              "</table>\n",
              "</div>\n",
              "    <div class=\"colab-df-buttons\">\n",
              "\n",
              "  <div class=\"colab-df-container\">\n",
              "    <button class=\"colab-df-convert\" onclick=\"convertToInteractive('df-1a0a9589-05bd-46e0-8f71-1b3b576e3140')\"\n",
              "            title=\"Convert this dataframe to an interactive table.\"\n",
              "            style=\"display:none;\">\n",
              "\n",
              "  <svg xmlns=\"http://www.w3.org/2000/svg\" height=\"24px\" viewBox=\"0 -960 960 960\">\n",
              "    <path d=\"M120-120v-720h720v720H120Zm60-500h600v-160H180v160Zm220 220h160v-160H400v160Zm0 220h160v-160H400v160ZM180-400h160v-160H180v160Zm440 0h160v-160H620v160ZM180-180h160v-160H180v160Zm440 0h160v-160H620v160Z\"/>\n",
              "  </svg>\n",
              "    </button>\n",
              "\n",
              "  <style>\n",
              "    .colab-df-container {\n",
              "      display:flex;\n",
              "      gap: 12px;\n",
              "    }\n",
              "\n",
              "    .colab-df-convert {\n",
              "      background-color: #E8F0FE;\n",
              "      border: none;\n",
              "      border-radius: 50%;\n",
              "      cursor: pointer;\n",
              "      display: none;\n",
              "      fill: #1967D2;\n",
              "      height: 32px;\n",
              "      padding: 0 0 0 0;\n",
              "      width: 32px;\n",
              "    }\n",
              "\n",
              "    .colab-df-convert:hover {\n",
              "      background-color: #E2EBFA;\n",
              "      box-shadow: 0px 1px 2px rgba(60, 64, 67, 0.3), 0px 1px 3px 1px rgba(60, 64, 67, 0.15);\n",
              "      fill: #174EA6;\n",
              "    }\n",
              "\n",
              "    .colab-df-buttons div {\n",
              "      margin-bottom: 4px;\n",
              "    }\n",
              "\n",
              "    [theme=dark] .colab-df-convert {\n",
              "      background-color: #3B4455;\n",
              "      fill: #D2E3FC;\n",
              "    }\n",
              "\n",
              "    [theme=dark] .colab-df-convert:hover {\n",
              "      background-color: #434B5C;\n",
              "      box-shadow: 0px 1px 3px 1px rgba(0, 0, 0, 0.15);\n",
              "      filter: drop-shadow(0px 1px 2px rgba(0, 0, 0, 0.3));\n",
              "      fill: #FFFFFF;\n",
              "    }\n",
              "  </style>\n",
              "\n",
              "    <script>\n",
              "      const buttonEl =\n",
              "        document.querySelector('#df-1a0a9589-05bd-46e0-8f71-1b3b576e3140 button.colab-df-convert');\n",
              "      buttonEl.style.display =\n",
              "        google.colab.kernel.accessAllowed ? 'block' : 'none';\n",
              "\n",
              "      async function convertToInteractive(key) {\n",
              "        const element = document.querySelector('#df-1a0a9589-05bd-46e0-8f71-1b3b576e3140');\n",
              "        const dataTable =\n",
              "          await google.colab.kernel.invokeFunction('convertToInteractive',\n",
              "                                                    [key], {});\n",
              "        if (!dataTable) return;\n",
              "\n",
              "        const docLinkHtml = 'Like what you see? Visit the ' +\n",
              "          '<a target=\"_blank\" href=https://colab.research.google.com/notebooks/data_table.ipynb>data table notebook</a>'\n",
              "          + ' to learn more about interactive tables.';\n",
              "        element.innerHTML = '';\n",
              "        dataTable['output_type'] = 'display_data';\n",
              "        await google.colab.output.renderOutput(dataTable, element);\n",
              "        const docLink = document.createElement('div');\n",
              "        docLink.innerHTML = docLinkHtml;\n",
              "        element.appendChild(docLink);\n",
              "      }\n",
              "    </script>\n",
              "  </div>\n",
              "\n",
              "\n",
              "<div id=\"df-e11ef369-9fb4-45b1-b835-a42cc11475c6\">\n",
              "  <button class=\"colab-df-quickchart\" onclick=\"quickchart('df-e11ef369-9fb4-45b1-b835-a42cc11475c6')\"\n",
              "            title=\"Suggest charts\"\n",
              "            style=\"display:none;\">\n",
              "\n",
              "<svg xmlns=\"http://www.w3.org/2000/svg\" height=\"24px\"viewBox=\"0 0 24 24\"\n",
              "     width=\"24px\">\n",
              "    <g>\n",
              "        <path d=\"M19 3H5c-1.1 0-2 .9-2 2v14c0 1.1.9 2 2 2h14c1.1 0 2-.9 2-2V5c0-1.1-.9-2-2-2zM9 17H7v-7h2v7zm4 0h-2V7h2v10zm4 0h-2v-4h2v4z\"/>\n",
              "    </g>\n",
              "</svg>\n",
              "  </button>\n",
              "\n",
              "<style>\n",
              "  .colab-df-quickchart {\n",
              "      --bg-color: #E8F0FE;\n",
              "      --fill-color: #1967D2;\n",
              "      --hover-bg-color: #E2EBFA;\n",
              "      --hover-fill-color: #174EA6;\n",
              "      --disabled-fill-color: #AAA;\n",
              "      --disabled-bg-color: #DDD;\n",
              "  }\n",
              "\n",
              "  [theme=dark] .colab-df-quickchart {\n",
              "      --bg-color: #3B4455;\n",
              "      --fill-color: #D2E3FC;\n",
              "      --hover-bg-color: #434B5C;\n",
              "      --hover-fill-color: #FFFFFF;\n",
              "      --disabled-bg-color: #3B4455;\n",
              "      --disabled-fill-color: #666;\n",
              "  }\n",
              "\n",
              "  .colab-df-quickchart {\n",
              "    background-color: var(--bg-color);\n",
              "    border: none;\n",
              "    border-radius: 50%;\n",
              "    cursor: pointer;\n",
              "    display: none;\n",
              "    fill: var(--fill-color);\n",
              "    height: 32px;\n",
              "    padding: 0;\n",
              "    width: 32px;\n",
              "  }\n",
              "\n",
              "  .colab-df-quickchart:hover {\n",
              "    background-color: var(--hover-bg-color);\n",
              "    box-shadow: 0 1px 2px rgba(60, 64, 67, 0.3), 0 1px 3px 1px rgba(60, 64, 67, 0.15);\n",
              "    fill: var(--button-hover-fill-color);\n",
              "  }\n",
              "\n",
              "  .colab-df-quickchart-complete:disabled,\n",
              "  .colab-df-quickchart-complete:disabled:hover {\n",
              "    background-color: var(--disabled-bg-color);\n",
              "    fill: var(--disabled-fill-color);\n",
              "    box-shadow: none;\n",
              "  }\n",
              "\n",
              "  .colab-df-spinner {\n",
              "    border: 2px solid var(--fill-color);\n",
              "    border-color: transparent;\n",
              "    border-bottom-color: var(--fill-color);\n",
              "    animation:\n",
              "      spin 1s steps(1) infinite;\n",
              "  }\n",
              "\n",
              "  @keyframes spin {\n",
              "    0% {\n",
              "      border-color: transparent;\n",
              "      border-bottom-color: var(--fill-color);\n",
              "      border-left-color: var(--fill-color);\n",
              "    }\n",
              "    20% {\n",
              "      border-color: transparent;\n",
              "      border-left-color: var(--fill-color);\n",
              "      border-top-color: var(--fill-color);\n",
              "    }\n",
              "    30% {\n",
              "      border-color: transparent;\n",
              "      border-left-color: var(--fill-color);\n",
              "      border-top-color: var(--fill-color);\n",
              "      border-right-color: var(--fill-color);\n",
              "    }\n",
              "    40% {\n",
              "      border-color: transparent;\n",
              "      border-right-color: var(--fill-color);\n",
              "      border-top-color: var(--fill-color);\n",
              "    }\n",
              "    60% {\n",
              "      border-color: transparent;\n",
              "      border-right-color: var(--fill-color);\n",
              "    }\n",
              "    80% {\n",
              "      border-color: transparent;\n",
              "      border-right-color: var(--fill-color);\n",
              "      border-bottom-color: var(--fill-color);\n",
              "    }\n",
              "    90% {\n",
              "      border-color: transparent;\n",
              "      border-bottom-color: var(--fill-color);\n",
              "    }\n",
              "  }\n",
              "</style>\n",
              "\n",
              "  <script>\n",
              "    async function quickchart(key) {\n",
              "      const quickchartButtonEl =\n",
              "        document.querySelector('#' + key + ' button');\n",
              "      quickchartButtonEl.disabled = true;  // To prevent multiple clicks.\n",
              "      quickchartButtonEl.classList.add('colab-df-spinner');\n",
              "      try {\n",
              "        const charts = await google.colab.kernel.invokeFunction(\n",
              "            'suggestCharts', [key], {});\n",
              "      } catch (error) {\n",
              "        console.error('Error during call to suggestCharts:', error);\n",
              "      }\n",
              "      quickchartButtonEl.classList.remove('colab-df-spinner');\n",
              "      quickchartButtonEl.classList.add('colab-df-quickchart-complete');\n",
              "    }\n",
              "    (() => {\n",
              "      let quickchartButtonEl =\n",
              "        document.querySelector('#df-e11ef369-9fb4-45b1-b835-a42cc11475c6 button');\n",
              "      quickchartButtonEl.style.display =\n",
              "        google.colab.kernel.accessAllowed ? 'block' : 'none';\n",
              "    })();\n",
              "  </script>\n",
              "</div>\n",
              "\n",
              "  <div id=\"id_d22afd1e-9f6b-4b38-9861-05fe55a27c3e\">\n",
              "    <style>\n",
              "      .colab-df-generate {\n",
              "        background-color: #E8F0FE;\n",
              "        border: none;\n",
              "        border-radius: 50%;\n",
              "        cursor: pointer;\n",
              "        display: none;\n",
              "        fill: #1967D2;\n",
              "        height: 32px;\n",
              "        padding: 0 0 0 0;\n",
              "        width: 32px;\n",
              "      }\n",
              "\n",
              "      .colab-df-generate:hover {\n",
              "        background-color: #E2EBFA;\n",
              "        box-shadow: 0px 1px 2px rgba(60, 64, 67, 0.3), 0px 1px 3px 1px rgba(60, 64, 67, 0.15);\n",
              "        fill: #174EA6;\n",
              "      }\n",
              "\n",
              "      [theme=dark] .colab-df-generate {\n",
              "        background-color: #3B4455;\n",
              "        fill: #D2E3FC;\n",
              "      }\n",
              "\n",
              "      [theme=dark] .colab-df-generate:hover {\n",
              "        background-color: #434B5C;\n",
              "        box-shadow: 0px 1px 3px 1px rgba(0, 0, 0, 0.15);\n",
              "        filter: drop-shadow(0px 1px 2px rgba(0, 0, 0, 0.3));\n",
              "        fill: #FFFFFF;\n",
              "      }\n",
              "    </style>\n",
              "    <button class=\"colab-df-generate\" onclick=\"generateWithVariable('ten_nn')\"\n",
              "            title=\"Generate code using this dataframe.\"\n",
              "            style=\"display:none;\">\n",
              "\n",
              "  <svg xmlns=\"http://www.w3.org/2000/svg\" height=\"24px\"viewBox=\"0 0 24 24\"\n",
              "       width=\"24px\">\n",
              "    <path d=\"M7,19H8.4L18.45,9,17,7.55,7,17.6ZM5,21V16.75L18.45,3.32a2,2,0,0,1,2.83,0l1.4,1.43a1.91,1.91,0,0,1,.58,1.4,1.91,1.91,0,0,1-.58,1.4L9.25,21ZM18.45,9,17,7.55Zm-12,3A5.31,5.31,0,0,0,4.9,8.1,5.31,5.31,0,0,0,1,6.5,5.31,5.31,0,0,0,4.9,4.9,5.31,5.31,0,0,0,6.5,1,5.31,5.31,0,0,0,8.1,4.9,5.31,5.31,0,0,0,12,6.5,5.46,5.46,0,0,0,6.5,12Z\"/>\n",
              "  </svg>\n",
              "    </button>\n",
              "    <script>\n",
              "      (() => {\n",
              "      const buttonEl =\n",
              "        document.querySelector('#id_d22afd1e-9f6b-4b38-9861-05fe55a27c3e button.colab-df-generate');\n",
              "      buttonEl.style.display =\n",
              "        google.colab.kernel.accessAllowed ? 'block' : 'none';\n",
              "\n",
              "      buttonEl.onclick = () => {\n",
              "        google.colab.notebook.generateWithVariable('ten_nn');\n",
              "      }\n",
              "      })();\n",
              "    </script>\n",
              "  </div>\n",
              "\n",
              "    </div>\n",
              "  </div>\n"
            ],
            "application/vnd.google.colaboratory.intrinsic+json": {
              "type": "dataframe",
              "variable_name": "ten_nn",
              "summary": "{\n  \"name\": \"ten_nn\",\n  \"rows\": 10,\n  \"fields\": [\n    {\n      \"column\": \"URI\",\n      \"properties\": {\n        \"dtype\": \"string\",\n        \"num_unique_values\": 10,\n        \"samples\": [\n          \"<http://dbpedia.org/resource/Bernhard_Hess>\",\n          \"<http://dbpedia.org/resource/Tricia_Hunter>\",\n          \"<http://dbpedia.org/resource/Maureen_Howard>\"\n        ],\n        \"semantic_type\": \"\",\n        \"description\": \"\"\n      }\n    },\n    {\n      \"column\": \"name\",\n      \"properties\": {\n        \"dtype\": \"string\",\n        \"num_unique_values\": 10,\n        \"samples\": [\n          \"Bernhard Hess\",\n          \"Tricia Hunter\",\n          \"Maureen Howard\"\n        ],\n        \"semantic_type\": \"\",\n        \"description\": \"\"\n      }\n    },\n    {\n      \"column\": \"text\",\n      \"properties\": {\n        \"dtype\": \"string\",\n        \"num_unique_values\": 10,\n        \"samples\": [\n          \"bernhard hess born 5 april 1966 is a swiss politician from the canton of bern he is the president of the swiss democrats and from 19992007 he was a member of the national councilhess was born in solothurn and grew up in langnau im emmental the son of karl and margot hess his father was a secondary school teacher of latin and greek and an activist of the nationale aktion later the swiss democrats his mother was the daughter of swiss expatriates in germany and she lived knigsberg until the end of world war ii hess completed a management apprenticeship and then started a career as a loan officer at a bankin 1988 hess joined the nationale aktion between 1994 and 1998 he served on the city council of bern in 1998 he was elected to the grand council of bern the cantonal parliament in the federal assembly elections in 1999 hess was elected as the only swiss democrat in the national council in the 2007 election he lost this seatsince 1992 hess has worked full time for the swiss democrats from 1993 to 1995 he was secretary of the swiss democratsticino league group in the federal assembly and from 1995 to 1999 he was secretary for the swiss democrats group from 2003 to 2005 he was general secretary of the party hess is a member of the campaign for an independent and neutral switzerland pro libertate and the sprachkreises deutsch during his time in the leadership of the swiss democrats he has discussed forming an alliance of rightwing parties in switzerland including the ticino league and geneva citizens movement\",\n          \"patricia rae hunter known by her nickname tricia is a former california state assemblywoman in san diego california a nurse by profession and a former member of the registered nurse board she won a special election to the state assembly in 1989 in a major upset that caught both political parties by surprise in the assembly she became known as an expert in health care and an advocate for the practicing registered nurses considered a moderate she was disliked by conservatives and faced vigorous primary challenges she was reelected by a comfortable margin in 1990 and in 1991 an attempt was made to recall her but it failed however the following year redistricting dramatically changed the boundaries of her district and she had to run in a different district in 1992 that year she was narrowly defeated by democrat julie bornstein after the election she also worked for the flannery group a lobbying firm she sought to return to the state assembly in 1996 but lost a close race to democrat howard wayne a former state assistant attorney general after her second election loss she was appointed special assistant to the health and human services agency and to the california medical assistance commission by governor pete wilson in 2004 she sought to return to the state assembly again in but lost the election to democrat lori saldaahunter is currently a member of the government relations group a lobbying group that she helped found she continues to be outspoken on health care issues and do volunteer nursing work\",\n          \"maureen howard born june 28 1930 is an american writer editor and lecturer known for her awardwinning autobiography facts of lifeshe was born maureen kearns in bridgeport connecticut her father william l kearns worked for the states attorneys office as a detective where he was assigned to the harold israel case howard attended smith college graduating with a ba in 1952 after graduation she worked in advertising for several years and married professor daniel f howard in 1954 in 1960 howard published her first novel not a word about nightingales which tells the story of a new england girl who is sent to perugia italy to retrieve her father who is on an extended sabbatical the book was a bestseller and she followed it with several other novels set in new england with irishamerican protagonists she divorced daniel howard in 1967 and married david j gordon the following year in 1967 she was awarded a guggenheim fellowship the same year she was named a radcliffe institute fellow during the late 1960s and 1970s she taught literature drama and creative writing at the new school and ucsb and lectured at cuny and columbia university in 1978 she published her autobiography facts of life which won a national book critics circle award she continued writing novels and taught english at amherst college in 1981 she married author and stockbroker mark probst she was named a fellow by the ingram merrill foundation in 1988 in 1993 she was awarded the literary lion award by the new york public library\"\n        ],\n        \"semantic_type\": \"\",\n        \"description\": \"\"\n      }\n    }\n  ]\n}"
            }
          },
          "metadata": {},
          "execution_count": 45
        }
      ]
    },
    {
      "cell_type": "code",
      "source": [
        "sentiments = []\n",
        "for i in range(10):\n",
        "  sentiments.append(TextBlob(ten_nn['text'].iloc[i]).sentiment)\n",
        "sentiments"
      ],
      "metadata": {
        "colab": {
          "base_uri": "https://localhost:8080/"
        },
        "id": "W-M13Zpe1qJD",
        "outputId": "f06e0a16-f78a-4022-ca69-bbe4438b38af"
      },
      "execution_count": null,
      "outputs": [
        {
          "output_type": "execute_result",
          "data": {
            "text/plain": [
              "[Sentiment(polarity=0.08787878787878789, subjectivity=0.4138694638694638),\n",
              " Sentiment(polarity=0.02508503401360545, subjectivity=0.3401360544217687),\n",
              " Sentiment(polarity=0.10277161862527714, subjectivity=0.27757831599295013),\n",
              " Sentiment(polarity=0.11328671328671328, subjectivity=0.24300699300699302),\n",
              " Sentiment(polarity=0.0821969696969697, subjectivity=0.15871212121212122),\n",
              " Sentiment(polarity=0.09055023923444976, subjectivity=0.27727272727272717),\n",
              " Sentiment(polarity=0.056818181818181816, subjectivity=0.20858585858585857),\n",
              " Sentiment(polarity=0.1929180194805195, subjectivity=0.41166125541125537),\n",
              " Sentiment(polarity=0.07500000000000001, subjectivity=0.43437499999999996),\n",
              " Sentiment(polarity=0.1544047619047619, subjectivity=0.3538095238095238)]"
            ]
          },
          "metadata": {},
          "execution_count": 60
        }
      ]
    }
  ]
}