{
  "cells": [
    {
      "cell_type": "markdown",
      "metadata": {
        "id": "view-in-github",
        "colab_type": "text"
      },
      "source": [
        "<a href=\"https://colab.research.google.com/github/Cole-Pd/DeepDive/blob/main/Project_5_draft.ipynb\" target=\"_parent\"><img src=\"https://colab.research.google.com/assets/colab-badge.svg\" alt=\"Open In Colab\"/></a>"
      ]
    },
    {
      "cell_type": "markdown",
      "metadata": {
        "id": "cJG_e1vK2NMI"
      },
      "source": [
        "# Part 0 Build the Pickles"
      ]
    },
    {
      "cell_type": "code",
      "execution_count": 1,
      "metadata": {
        "id": "QtLzZ061ho9J"
      },
      "outputs": [],
      "source": [
        "%%capture\n",
        "!python -m textblob.download_corpora"
      ]
    },
    {
      "cell_type": "code",
      "execution_count": 2,
      "metadata": {
        "id": "3L_aN72kn1AM"
      },
      "outputs": [],
      "source": [
        "import pandas as pd\n",
        "from textblob import TextBlob, Word\n",
        "import pickle\n",
        "url = 'https://ddc-datascience.s3.amazonaws.com/Projects/Project.5-NLP/Data/NLP.csv'\n",
        "df = pd.read_csv(url)"
      ]
    },
    {
      "cell_type": "code",
      "execution_count": 3,
      "metadata": {
        "id": "UAsEoDVzblnR"
      },
      "outputs": [],
      "source": [
        "df['tb'] = df['text'].apply(TextBlob)\n",
        "l = df['tb'][:20000].apply(lambda x: [x.singularize() for x in x.words])\n",
        "pickle.dump(l, open('pickle_part_1.p','wb'))\n",
        "%reset -f\n",
        "import pickle\n",
        "l = pickle.load(open('pickle_part_1.p','rb'))"
      ]
    },
    {
      "cell_type": "code",
      "execution_count": 4,
      "metadata": {
        "id": "X21Zv55PZNZk"
      },
      "outputs": [],
      "source": [
        "%%capture\n",
        "!python -m textblob.download_corpora"
      ]
    },
    {
      "cell_type": "code",
      "execution_count": 5,
      "metadata": {
        "id": "-KrKGl9vZGj8"
      },
      "outputs": [],
      "source": [
        "import pandas as pd\n",
        "from textblob import TextBlob, Word\n",
        "import pickle\n",
        "url = 'https://ddc-datascience.s3.amazonaws.com/Projects/Project.5-NLP/Data/NLP.csv'\n",
        "df = pd.read_csv(url)"
      ]
    },
    {
      "cell_type": "code",
      "execution_count": 6,
      "metadata": {
        "id": "yIo-SmqNYEv0"
      },
      "outputs": [],
      "source": [
        "df['tb'] = df['text'].apply(TextBlob)\n",
        "a = df['tb'][20000:].apply(lambda x: [x.singularize() for x in x.words])\n",
        "pickle.dump(a, open('pickle_part_2.p','wb'))\n",
        "%reset -f\n",
        "import pickle\n",
        "a = pickle.load(open('pickle_part_2.p','rb'))"
      ]
    },
    {
      "cell_type": "code",
      "execution_count": 7,
      "metadata": {
        "id": "NJr3SrcSXmN0"
      },
      "outputs": [],
      "source": [
        "%reset -f"
      ]
    },
    {
      "cell_type": "markdown",
      "metadata": {
        "id": "AozdighyQBdT"
      },
      "source": [
        "# Part 1: Find a Random Page and It's 10 Nearest Neighbors."
      ]
    },
    {
      "cell_type": "code",
      "execution_count": 8,
      "metadata": {
        "id": "mNOARr9i2qW8",
        "colab": {
          "base_uri": "https://localhost:8080/"
        },
        "outputId": "f130add7-ef75-4269-e8a8-6322a84f38ed"
      },
      "outputs": [
        {
          "output_type": "stream",
          "name": "stderr",
          "text": [
            "[nltk_data] Downloading package omw-1.4 to /root/nltk_data...\n"
          ]
        }
      ],
      "source": [
        "import pandas as pd\n",
        "import numpy as np\n",
        "import pickle #yay :)\n",
        "import random\n",
        "from textblob import TextBlob, Word\n",
        "import nltk\n",
        "nltk.download('omw-1.4')\n",
        "\n",
        "from sklearn.feature_extraction.text import CountVectorizer as BagOfWords\n",
        "from sklearn.feature_extraction.text import TfidfTransformer\n",
        "from sklearn.feature_extraction.text import TfidfVectorizer\n",
        "from sklearn.neighbors import NearestNeighbors"
      ]
    },
    {
      "cell_type": "code",
      "execution_count": 9,
      "metadata": {
        "id": "ykaAv9u0yEDR"
      },
      "outputs": [],
      "source": [
        "%%capture\n",
        "!python -m textblob.download_corpora"
      ]
    },
    {
      "cell_type": "code",
      "execution_count": 10,
      "metadata": {
        "id": "9RFnuGL6x-zl"
      },
      "outputs": [],
      "source": [
        "url = 'https://ddc-datascience.s3.amazonaws.com/Projects/Project.5-NLP/Data/NLP.csv'\n",
        "df = pd.read_csv(url)"
      ]
    },
    {
      "cell_type": "code",
      "execution_count": 11,
      "metadata": {
        "id": "W-Qous7L1JXe"
      },
      "outputs": [],
      "source": [
        "df = df.drop(29122, axis = 0).reset_index(drop = True)"
      ]
    },
    {
      "cell_type": "code",
      "execution_count": 12,
      "metadata": {
        "id": "X4n9K0GlyHmK"
      },
      "outputs": [],
      "source": [
        "#importing our pickle file was good practice.\n",
        "#however it resulted in a file that for some reason was blowing up our ram\n",
        "#to get around this we split our strings into two pickles\n",
        "#they are below and squished together\n",
        "\n",
        "p1 = pickle.load(open('/content/pickle_part_1.p','rb'))\n",
        "p2 = pickle.load(open('/content/pickle_part_2.p','rb'))"
      ]
    },
    {
      "cell_type": "code",
      "execution_count": 13,
      "metadata": {
        "id": "RaRBA7f_NowP",
        "colab": {
          "base_uri": "https://localhost:8080/"
        },
        "outputId": "eb90a76e-95a9-4dcc-979f-3f51f1aaefc5"
      },
      "outputs": [
        {
          "output_type": "execute_result",
          "data": {
            "text/plain": [
              "0        [digby, morrell, born, 10, october, 1979, is, ...\n",
              "1        [alfred, j, lewy, aka, sandy, lewy, graduated,...\n",
              "2        [harpdog, brown, is, a, singer, and, harmonica...\n",
              "3        [franz, rottensteiner, born, in, waidmannsfeld...\n",
              "4        [henry, krvit, born, 30, december, 1974, in, t...\n",
              "                               ...                        \n",
              "42780    [motoaki, takenouchi, born, july, 8, 1967, sai...\n",
              "42781    [alan, graham, judge, born, 14, may, 1960, is,...\n",
              "42782    [eduardo, lara, lozano, born, 4, september, 19...\n",
              "42783    [tatiana, faberg, is, an, author, and, faberg,...\n",
              "42784    [kenneth, thoma, born, february, 24, 1938, wa,...\n",
              "Name: tb, Length: 42785, dtype: object"
            ]
          },
          "metadata": {},
          "execution_count": 13
        }
      ],
      "source": [
        "singularized = pd.concat([p1,p2], axis = 0)\n",
        "singularized = singularized.drop(29122).reset_index(drop = True)\n",
        "singularized"
      ]
    },
    {
      "cell_type": "code",
      "execution_count": 14,
      "metadata": {
        "id": "fdG42fowF9Nm"
      },
      "outputs": [],
      "source": [
        "Bag_of_Words = BagOfWords(stop_words = 'english')\n",
        "word_vector = Bag_of_Words.fit_transform(singularized.str.join(', '))"
      ]
    },
    {
      "cell_type": "code",
      "execution_count": 15,
      "metadata": {
        "id": "m0y9eeJ2QLID"
      },
      "outputs": [],
      "source": [
        "tf_idf = TfidfTransformer()\n",
        "tf_idf_vw = tf_idf.fit_transform(word_vector)"
      ]
    },
    {
      "cell_type": "code",
      "execution_count": 16,
      "metadata": {
        "id": "mKUakT9ExLd2",
        "colab": {
          "base_uri": "https://localhost:8080/"
        },
        "outputId": "0ac560e6-624c-4dc8-9c73-aebee13829e1"
      },
      "outputs": [
        {
          "output_type": "execute_result",
          "data": {
            "text/plain": [
              "(42785, 404863)"
            ]
          },
          "metadata": {},
          "execution_count": 16
        }
      ],
      "source": [
        "tf_idf_vw.shape #Big Matrix"
      ]
    },
    {
      "cell_type": "code",
      "execution_count": 17,
      "metadata": {
        "id": "ai9bFWz6QqCk"
      },
      "outputs": [],
      "source": [
        "nearest_neighbors = NearestNeighbors().fit(tf_idf_vw)"
      ]
    },
    {
      "cell_type": "code",
      "execution_count": 18,
      "metadata": {
        "id": "kqpeIL3yRGr1",
        "colab": {
          "base_uri": "https://localhost:8080/"
        },
        "outputId": "5bc4b09e-b90b-41f9-be40-887870d97e70"
      },
      "outputs": [
        {
          "output_type": "execute_result",
          "data": {
            "text/plain": [
              "<1x404863 sparse matrix of type '<class 'numpy.float64'>'\n",
              "\twith 78 stored elements in Compressed Sparse Row format>"
            ]
          },
          "metadata": {},
          "execution_count": 18
        }
      ],
      "source": [
        "random.seed(42)\n",
        "Page = random.randrange(0, len(df))\n",
        "Wikipage = tf_idf_vw[Page]\n",
        "Wikipage"
      ]
    },
    {
      "cell_type": "code",
      "execution_count": 19,
      "metadata": {
        "id": "U-NkljrexzrW"
      },
      "outputs": [],
      "source": [
        "distances, indecies = nearest_neighbors.kneighbors(\n",
        "    X = Wikipage,\n",
        "    n_neighbors = 11\n",
        ")"
      ]
    },
    {
      "cell_type": "code",
      "execution_count": 20,
      "metadata": {
        "id": "He0ORa8qzfFg",
        "colab": {
          "base_uri": "https://localhost:8080/"
        },
        "outputId": "f611a7fc-de18-4275-8283-28c6a5d275ea"
      },
      "outputs": [
        {
          "output_type": "execute_result",
          "data": {
            "text/plain": [
              "array([[41905, 36112, 20856, 36166, 26386, 25545,  8366,   895, 12286,\n",
              "         9732, 31511]])"
            ]
          },
          "metadata": {},
          "execution_count": 20
        }
      ],
      "source": [
        "indecies"
      ]
    },
    {
      "cell_type": "code",
      "source": [
        "nn_index = list(indecies[0][0:])"
      ],
      "metadata": {
        "id": "q8Xba4gSSPHY"
      },
      "execution_count": 21,
      "outputs": []
    },
    {
      "cell_type": "code",
      "source": [
        "nn_index_dist = list(distances[0][0:])"
      ],
      "metadata": {
        "id": "3S-lpkSlPHx5"
      },
      "execution_count": 22,
      "outputs": []
    },
    {
      "cell_type": "code",
      "execution_count": 23,
      "metadata": {
        "id": "UD6J8Io6zvdc",
        "colab": {
          "base_uri": "https://localhost:8080/"
        },
        "outputId": "d92b4692-8ea4-48d8-8261-4d8708d2f400"
      },
      "outputs": [
        {
          "output_type": "execute_result",
          "data": {
            "text/plain": [
              "URI               <http://dbpedia.org/resource/Tom_Jaine>\n",
              "name                                            Tom Jaine\n",
              "text    tom jaine born 4 june 1943 is a former restaur...\n",
              "Name: 41905, dtype: object"
            ]
          },
          "metadata": {},
          "execution_count": 23
        }
      ],
      "source": [
        "df.iloc[41905]"
      ]
    },
    {
      "cell_type": "code",
      "execution_count": 24,
      "metadata": {
        "id": "XeJbGhFbz0AP",
        "colab": {
          "base_uri": "https://localhost:8080/",
          "height": 585
        },
        "outputId": "f558ea06-fb58-4bd0-bb22-a05811b8c18b"
      },
      "outputs": [
        {
          "output_type": "execute_result",
          "data": {
            "text/plain": [
              "                                                     URI  \\\n",
              "41905            <http://dbpedia.org/resource/Tom_Jaine>   \n",
              "36112      <http://dbpedia.org/resource/Joanna_Blythman>   \n",
              "20856         <http://dbpedia.org/resource/Matthew_Fort>   \n",
              "36166         <http://dbpedia.org/resource/Stefan_Gates>   \n",
              "26386    <http://dbpedia.org/resource/Oran_B._Hesterman>   \n",
              "25545         <http://dbpedia.org/resource/Russ_Parsons>   \n",
              "8366       <http://dbpedia.org/resource/Charles_Campion>   \n",
              "895            <http://dbpedia.org/resource/Manju_Malhi>   \n",
              "12286      <http://dbpedia.org/resource/Anna_Lapp%C3%A9>   \n",
              "9732   <http://dbpedia.org/resource/Rose_Prince_(writ...   \n",
              "31511  <http://dbpedia.org/resource/Pamela_Sheldon_Jo...   \n",
              "\n",
              "                       name                                               text  \n",
              "41905             Tom Jaine  tom jaine born 4 june 1943 is a former restaur...  \n",
              "36112       Joanna Blythman  joanna blythman is a british investigative foo...  \n",
              "20856          Matthew Fort  matthew fort born 29 january 1947 is a british...  \n",
              "36166          Stefan Gates  stefan gates born 19 september 1967 in london ...  \n",
              "26386     Oran B. Hesterman  oran b hesterman is the president and chief ex...  \n",
              "25545          Russ Parsons  russ parsons is the food editor and columnist ...  \n",
              "8366        Charles Campion  charles campion is an english food critic who ...  \n",
              "895             Manju Malhi  manju malhi is a britishborn chef and food wri...  \n",
              "12286       Anna Lapp%C3%A9  anna lapp is an author and educator known for ...  \n",
              "9732   Rose Prince (writer)  rose prince born 4 december 1962 in hampshire ...  \n",
              "31511  Pamela Sheldon Johns  pamela sheldon johns is the author of seventee...  "
            ],
            "text/html": [
              "\n",
              "  <div id=\"df-3b42da31-e033-4231-afdf-3bc9caf17c4d\" class=\"colab-df-container\">\n",
              "    <div>\n",
              "<style scoped>\n",
              "    .dataframe tbody tr th:only-of-type {\n",
              "        vertical-align: middle;\n",
              "    }\n",
              "\n",
              "    .dataframe tbody tr th {\n",
              "        vertical-align: top;\n",
              "    }\n",
              "\n",
              "    .dataframe thead th {\n",
              "        text-align: right;\n",
              "    }\n",
              "</style>\n",
              "<table border=\"1\" class=\"dataframe\">\n",
              "  <thead>\n",
              "    <tr style=\"text-align: right;\">\n",
              "      <th></th>\n",
              "      <th>URI</th>\n",
              "      <th>name</th>\n",
              "      <th>text</th>\n",
              "    </tr>\n",
              "  </thead>\n",
              "  <tbody>\n",
              "    <tr>\n",
              "      <th>41905</th>\n",
              "      <td>&lt;http://dbpedia.org/resource/Tom_Jaine&gt;</td>\n",
              "      <td>Tom Jaine</td>\n",
              "      <td>tom jaine born 4 june 1943 is a former restaur...</td>\n",
              "    </tr>\n",
              "    <tr>\n",
              "      <th>36112</th>\n",
              "      <td>&lt;http://dbpedia.org/resource/Joanna_Blythman&gt;</td>\n",
              "      <td>Joanna Blythman</td>\n",
              "      <td>joanna blythman is a british investigative foo...</td>\n",
              "    </tr>\n",
              "    <tr>\n",
              "      <th>20856</th>\n",
              "      <td>&lt;http://dbpedia.org/resource/Matthew_Fort&gt;</td>\n",
              "      <td>Matthew Fort</td>\n",
              "      <td>matthew fort born 29 january 1947 is a british...</td>\n",
              "    </tr>\n",
              "    <tr>\n",
              "      <th>36166</th>\n",
              "      <td>&lt;http://dbpedia.org/resource/Stefan_Gates&gt;</td>\n",
              "      <td>Stefan Gates</td>\n",
              "      <td>stefan gates born 19 september 1967 in london ...</td>\n",
              "    </tr>\n",
              "    <tr>\n",
              "      <th>26386</th>\n",
              "      <td>&lt;http://dbpedia.org/resource/Oran_B._Hesterman&gt;</td>\n",
              "      <td>Oran B. Hesterman</td>\n",
              "      <td>oran b hesterman is the president and chief ex...</td>\n",
              "    </tr>\n",
              "    <tr>\n",
              "      <th>25545</th>\n",
              "      <td>&lt;http://dbpedia.org/resource/Russ_Parsons&gt;</td>\n",
              "      <td>Russ Parsons</td>\n",
              "      <td>russ parsons is the food editor and columnist ...</td>\n",
              "    </tr>\n",
              "    <tr>\n",
              "      <th>8366</th>\n",
              "      <td>&lt;http://dbpedia.org/resource/Charles_Campion&gt;</td>\n",
              "      <td>Charles Campion</td>\n",
              "      <td>charles campion is an english food critic who ...</td>\n",
              "    </tr>\n",
              "    <tr>\n",
              "      <th>895</th>\n",
              "      <td>&lt;http://dbpedia.org/resource/Manju_Malhi&gt;</td>\n",
              "      <td>Manju Malhi</td>\n",
              "      <td>manju malhi is a britishborn chef and food wri...</td>\n",
              "    </tr>\n",
              "    <tr>\n",
              "      <th>12286</th>\n",
              "      <td>&lt;http://dbpedia.org/resource/Anna_Lapp%C3%A9&gt;</td>\n",
              "      <td>Anna Lapp%C3%A9</td>\n",
              "      <td>anna lapp is an author and educator known for ...</td>\n",
              "    </tr>\n",
              "    <tr>\n",
              "      <th>9732</th>\n",
              "      <td>&lt;http://dbpedia.org/resource/Rose_Prince_(writ...</td>\n",
              "      <td>Rose Prince (writer)</td>\n",
              "      <td>rose prince born 4 december 1962 in hampshire ...</td>\n",
              "    </tr>\n",
              "    <tr>\n",
              "      <th>31511</th>\n",
              "      <td>&lt;http://dbpedia.org/resource/Pamela_Sheldon_Jo...</td>\n",
              "      <td>Pamela Sheldon Johns</td>\n",
              "      <td>pamela sheldon johns is the author of seventee...</td>\n",
              "    </tr>\n",
              "  </tbody>\n",
              "</table>\n",
              "</div>\n",
              "    <div class=\"colab-df-buttons\">\n",
              "\n",
              "  <div class=\"colab-df-container\">\n",
              "    <button class=\"colab-df-convert\" onclick=\"convertToInteractive('df-3b42da31-e033-4231-afdf-3bc9caf17c4d')\"\n",
              "            title=\"Convert this dataframe to an interactive table.\"\n",
              "            style=\"display:none;\">\n",
              "\n",
              "  <svg xmlns=\"http://www.w3.org/2000/svg\" height=\"24px\" viewBox=\"0 -960 960 960\">\n",
              "    <path d=\"M120-120v-720h720v720H120Zm60-500h600v-160H180v160Zm220 220h160v-160H400v160Zm0 220h160v-160H400v160ZM180-400h160v-160H180v160Zm440 0h160v-160H620v160ZM180-180h160v-160H180v160Zm440 0h160v-160H620v160Z\"/>\n",
              "  </svg>\n",
              "    </button>\n",
              "\n",
              "  <style>\n",
              "    .colab-df-container {\n",
              "      display:flex;\n",
              "      gap: 12px;\n",
              "    }\n",
              "\n",
              "    .colab-df-convert {\n",
              "      background-color: #E8F0FE;\n",
              "      border: none;\n",
              "      border-radius: 50%;\n",
              "      cursor: pointer;\n",
              "      display: none;\n",
              "      fill: #1967D2;\n",
              "      height: 32px;\n",
              "      padding: 0 0 0 0;\n",
              "      width: 32px;\n",
              "    }\n",
              "\n",
              "    .colab-df-convert:hover {\n",
              "      background-color: #E2EBFA;\n",
              "      box-shadow: 0px 1px 2px rgba(60, 64, 67, 0.3), 0px 1px 3px 1px rgba(60, 64, 67, 0.15);\n",
              "      fill: #174EA6;\n",
              "    }\n",
              "\n",
              "    .colab-df-buttons div {\n",
              "      margin-bottom: 4px;\n",
              "    }\n",
              "\n",
              "    [theme=dark] .colab-df-convert {\n",
              "      background-color: #3B4455;\n",
              "      fill: #D2E3FC;\n",
              "    }\n",
              "\n",
              "    [theme=dark] .colab-df-convert:hover {\n",
              "      background-color: #434B5C;\n",
              "      box-shadow: 0px 1px 3px 1px rgba(0, 0, 0, 0.15);\n",
              "      filter: drop-shadow(0px 1px 2px rgba(0, 0, 0, 0.3));\n",
              "      fill: #FFFFFF;\n",
              "    }\n",
              "  </style>\n",
              "\n",
              "    <script>\n",
              "      const buttonEl =\n",
              "        document.querySelector('#df-3b42da31-e033-4231-afdf-3bc9caf17c4d button.colab-df-convert');\n",
              "      buttonEl.style.display =\n",
              "        google.colab.kernel.accessAllowed ? 'block' : 'none';\n",
              "\n",
              "      async function convertToInteractive(key) {\n",
              "        const element = document.querySelector('#df-3b42da31-e033-4231-afdf-3bc9caf17c4d');\n",
              "        const dataTable =\n",
              "          await google.colab.kernel.invokeFunction('convertToInteractive',\n",
              "                                                    [key], {});\n",
              "        if (!dataTable) return;\n",
              "\n",
              "        const docLinkHtml = 'Like what you see? Visit the ' +\n",
              "          '<a target=\"_blank\" href=https://colab.research.google.com/notebooks/data_table.ipynb>data table notebook</a>'\n",
              "          + ' to learn more about interactive tables.';\n",
              "        element.innerHTML = '';\n",
              "        dataTable['output_type'] = 'display_data';\n",
              "        await google.colab.output.renderOutput(dataTable, element);\n",
              "        const docLink = document.createElement('div');\n",
              "        docLink.innerHTML = docLinkHtml;\n",
              "        element.appendChild(docLink);\n",
              "      }\n",
              "    </script>\n",
              "  </div>\n",
              "\n",
              "\n",
              "<div id=\"df-6859c779-089b-433d-a089-a93ca43884e0\">\n",
              "  <button class=\"colab-df-quickchart\" onclick=\"quickchart('df-6859c779-089b-433d-a089-a93ca43884e0')\"\n",
              "            title=\"Suggest charts\"\n",
              "            style=\"display:none;\">\n",
              "\n",
              "<svg xmlns=\"http://www.w3.org/2000/svg\" height=\"24px\"viewBox=\"0 0 24 24\"\n",
              "     width=\"24px\">\n",
              "    <g>\n",
              "        <path d=\"M19 3H5c-1.1 0-2 .9-2 2v14c0 1.1.9 2 2 2h14c1.1 0 2-.9 2-2V5c0-1.1-.9-2-2-2zM9 17H7v-7h2v7zm4 0h-2V7h2v10zm4 0h-2v-4h2v4z\"/>\n",
              "    </g>\n",
              "</svg>\n",
              "  </button>\n",
              "\n",
              "<style>\n",
              "  .colab-df-quickchart {\n",
              "      --bg-color: #E8F0FE;\n",
              "      --fill-color: #1967D2;\n",
              "      --hover-bg-color: #E2EBFA;\n",
              "      --hover-fill-color: #174EA6;\n",
              "      --disabled-fill-color: #AAA;\n",
              "      --disabled-bg-color: #DDD;\n",
              "  }\n",
              "\n",
              "  [theme=dark] .colab-df-quickchart {\n",
              "      --bg-color: #3B4455;\n",
              "      --fill-color: #D2E3FC;\n",
              "      --hover-bg-color: #434B5C;\n",
              "      --hover-fill-color: #FFFFFF;\n",
              "      --disabled-bg-color: #3B4455;\n",
              "      --disabled-fill-color: #666;\n",
              "  }\n",
              "\n",
              "  .colab-df-quickchart {\n",
              "    background-color: var(--bg-color);\n",
              "    border: none;\n",
              "    border-radius: 50%;\n",
              "    cursor: pointer;\n",
              "    display: none;\n",
              "    fill: var(--fill-color);\n",
              "    height: 32px;\n",
              "    padding: 0;\n",
              "    width: 32px;\n",
              "  }\n",
              "\n",
              "  .colab-df-quickchart:hover {\n",
              "    background-color: var(--hover-bg-color);\n",
              "    box-shadow: 0 1px 2px rgba(60, 64, 67, 0.3), 0 1px 3px 1px rgba(60, 64, 67, 0.15);\n",
              "    fill: var(--button-hover-fill-color);\n",
              "  }\n",
              "\n",
              "  .colab-df-quickchart-complete:disabled,\n",
              "  .colab-df-quickchart-complete:disabled:hover {\n",
              "    background-color: var(--disabled-bg-color);\n",
              "    fill: var(--disabled-fill-color);\n",
              "    box-shadow: none;\n",
              "  }\n",
              "\n",
              "  .colab-df-spinner {\n",
              "    border: 2px solid var(--fill-color);\n",
              "    border-color: transparent;\n",
              "    border-bottom-color: var(--fill-color);\n",
              "    animation:\n",
              "      spin 1s steps(1) infinite;\n",
              "  }\n",
              "\n",
              "  @keyframes spin {\n",
              "    0% {\n",
              "      border-color: transparent;\n",
              "      border-bottom-color: var(--fill-color);\n",
              "      border-left-color: var(--fill-color);\n",
              "    }\n",
              "    20% {\n",
              "      border-color: transparent;\n",
              "      border-left-color: var(--fill-color);\n",
              "      border-top-color: var(--fill-color);\n",
              "    }\n",
              "    30% {\n",
              "      border-color: transparent;\n",
              "      border-left-color: var(--fill-color);\n",
              "      border-top-color: var(--fill-color);\n",
              "      border-right-color: var(--fill-color);\n",
              "    }\n",
              "    40% {\n",
              "      border-color: transparent;\n",
              "      border-right-color: var(--fill-color);\n",
              "      border-top-color: var(--fill-color);\n",
              "    }\n",
              "    60% {\n",
              "      border-color: transparent;\n",
              "      border-right-color: var(--fill-color);\n",
              "    }\n",
              "    80% {\n",
              "      border-color: transparent;\n",
              "      border-right-color: var(--fill-color);\n",
              "      border-bottom-color: var(--fill-color);\n",
              "    }\n",
              "    90% {\n",
              "      border-color: transparent;\n",
              "      border-bottom-color: var(--fill-color);\n",
              "    }\n",
              "  }\n",
              "</style>\n",
              "\n",
              "  <script>\n",
              "    async function quickchart(key) {\n",
              "      const quickchartButtonEl =\n",
              "        document.querySelector('#' + key + ' button');\n",
              "      quickchartButtonEl.disabled = true;  // To prevent multiple clicks.\n",
              "      quickchartButtonEl.classList.add('colab-df-spinner');\n",
              "      try {\n",
              "        const charts = await google.colab.kernel.invokeFunction(\n",
              "            'suggestCharts', [key], {});\n",
              "      } catch (error) {\n",
              "        console.error('Error during call to suggestCharts:', error);\n",
              "      }\n",
              "      quickchartButtonEl.classList.remove('colab-df-spinner');\n",
              "      quickchartButtonEl.classList.add('colab-df-quickchart-complete');\n",
              "    }\n",
              "    (() => {\n",
              "      let quickchartButtonEl =\n",
              "        document.querySelector('#df-6859c779-089b-433d-a089-a93ca43884e0 button');\n",
              "      quickchartButtonEl.style.display =\n",
              "        google.colab.kernel.accessAllowed ? 'block' : 'none';\n",
              "    })();\n",
              "  </script>\n",
              "</div>\n",
              "\n",
              "  <div id=\"id_278e9005-1eb6-4396-83fc-7b2089371115\">\n",
              "    <style>\n",
              "      .colab-df-generate {\n",
              "        background-color: #E8F0FE;\n",
              "        border: none;\n",
              "        border-radius: 50%;\n",
              "        cursor: pointer;\n",
              "        display: none;\n",
              "        fill: #1967D2;\n",
              "        height: 32px;\n",
              "        padding: 0 0 0 0;\n",
              "        width: 32px;\n",
              "      }\n",
              "\n",
              "      .colab-df-generate:hover {\n",
              "        background-color: #E2EBFA;\n",
              "        box-shadow: 0px 1px 2px rgba(60, 64, 67, 0.3), 0px 1px 3px 1px rgba(60, 64, 67, 0.15);\n",
              "        fill: #174EA6;\n",
              "      }\n",
              "\n",
              "      [theme=dark] .colab-df-generate {\n",
              "        background-color: #3B4455;\n",
              "        fill: #D2E3FC;\n",
              "      }\n",
              "\n",
              "      [theme=dark] .colab-df-generate:hover {\n",
              "        background-color: #434B5C;\n",
              "        box-shadow: 0px 1px 3px 1px rgba(0, 0, 0, 0.15);\n",
              "        filter: drop-shadow(0px 1px 2px rgba(0, 0, 0, 0.3));\n",
              "        fill: #FFFFFF;\n",
              "      }\n",
              "    </style>\n",
              "    <button class=\"colab-df-generate\" onclick=\"generateWithVariable('ten_nn')\"\n",
              "            title=\"Generate code using this dataframe.\"\n",
              "            style=\"display:none;\">\n",
              "\n",
              "  <svg xmlns=\"http://www.w3.org/2000/svg\" height=\"24px\"viewBox=\"0 0 24 24\"\n",
              "       width=\"24px\">\n",
              "    <path d=\"M7,19H8.4L18.45,9,17,7.55,7,17.6ZM5,21V16.75L18.45,3.32a2,2,0,0,1,2.83,0l1.4,1.43a1.91,1.91,0,0,1,.58,1.4,1.91,1.91,0,0,1-.58,1.4L9.25,21ZM18.45,9,17,7.55Zm-12,3A5.31,5.31,0,0,0,4.9,8.1,5.31,5.31,0,0,0,1,6.5,5.31,5.31,0,0,0,4.9,4.9,5.31,5.31,0,0,0,6.5,1,5.31,5.31,0,0,0,8.1,4.9,5.31,5.31,0,0,0,12,6.5,5.46,5.46,0,0,0,6.5,12Z\"/>\n",
              "  </svg>\n",
              "    </button>\n",
              "    <script>\n",
              "      (() => {\n",
              "      const buttonEl =\n",
              "        document.querySelector('#id_278e9005-1eb6-4396-83fc-7b2089371115 button.colab-df-generate');\n",
              "      buttonEl.style.display =\n",
              "        google.colab.kernel.accessAllowed ? 'block' : 'none';\n",
              "\n",
              "      buttonEl.onclick = () => {\n",
              "        google.colab.notebook.generateWithVariable('ten_nn');\n",
              "      }\n",
              "      })();\n",
              "    </script>\n",
              "  </div>\n",
              "\n",
              "    </div>\n",
              "  </div>\n"
            ],
            "application/vnd.google.colaboratory.intrinsic+json": {
              "type": "dataframe",
              "variable_name": "ten_nn",
              "summary": "{\n  \"name\": \"ten_nn\",\n  \"rows\": 11,\n  \"fields\": [\n    {\n      \"column\": \"URI\",\n      \"properties\": {\n        \"dtype\": \"string\",\n        \"num_unique_values\": 11,\n        \"samples\": [\n          \"<http://dbpedia.org/resource/Russ_Parsons>\",\n          \"<http://dbpedia.org/resource/Tom_Jaine>\",\n          \"<http://dbpedia.org/resource/Rose_Prince_(writer)>\"\n        ],\n        \"semantic_type\": \"\",\n        \"description\": \"\"\n      }\n    },\n    {\n      \"column\": \"name\",\n      \"properties\": {\n        \"dtype\": \"string\",\n        \"num_unique_values\": 11,\n        \"samples\": [\n          \"Russ Parsons\",\n          \"Tom Jaine\",\n          \"Rose Prince (writer)\"\n        ],\n        \"semantic_type\": \"\",\n        \"description\": \"\"\n      }\n    },\n    {\n      \"column\": \"text\",\n      \"properties\": {\n        \"dtype\": \"string\",\n        \"num_unique_values\": 11,\n        \"samples\": [\n          \"russ parsons is the food editor and columnist of the los angeles times he has been writing about food for more than 30 years including more than 25 years at the times where he has also been managing editor and deputy editor he is the author of the cookbooks how to read a french fry and how to pick a peach which were published by houghtonmifflin in 2008 he was inducted into the james beard foundations whos who of food and beverage the hall of fame of american cooking he has won many food journalism awards including those from the international association of culinary professionals the association of food journalists the james beard foundation and the university of missouri lifestyle journalism awards how to read a french fry was a finalist for two julia child cookbook awards how to pick a peach which was published in 2007 was named one of the best 100 books of the year by both publishers weekly and amazonbefore coming to the times he was food editor at the los angeles times syndicate food editor at the los angeles herald examiner and food editor at the albuquerque tribune parsons has been a journalist for more than 30 years covering everything from high school football and professional rodeo to cops and courts and country music he is cousin to author jennifer crusiehe has a wife and one daughter\",\n          \"tom jaine born 4 june 1943 is a former restaurateur a food writer and the proprietor of prospect bookshe was educated at kingswood school 19551959 and at balliol college oxford where he studied modern history 19611964 he worked as an archivist from 1964 to 1973 and a restaurateur from 1974 to 1984 from 1984 to 1988 he organised the oxford symposium on food and cookery and in 1993 he became the proprietor of prospect books a prizewinning publishing company specialising in food and food history from 1989 to 1994 he was also editor of the annual good food guidehe is the author of four books and has written for the times the guardian the sunday times the sunday telegraph the evening standard and many other newspapers and magazines he has presented the food programme and appeared on it many times has done interviews for the bbc bbc tv and itv and a series of programmes about food and cookery in the balkans for bbc radio 4he was glenfiddich restaurant writer of the year in 1994 glenfiddich food broadcaster of the year in 2000 and that same year he was also the winner of the top award glenfiddich trophy for the best wine and food writer of the year\",\n          \"rose prince born 4 december 1962 in hampshire england is a food writer author cook and activist her writing career did not start until her mid thirties previously she had worked as a chef and the cook in the notting hill specialist bookshop books for cooks she worked there with clarissa dixon wright she was the inhouse cook at the spectator magazine for seven yearsshe has a weekly column in the daily telegraph newspaper her columns are widely syndicated she also has a monthly column in the catholic weekly the tablet although herself an anglican she is married to a catholic she is a prolific writer and contributes to the daily mail the spectator the times sunday telegraph for three years she had a column on the daily express in 2000 she produced a twopart biopic about the food writer elizabeth david for british broadcaster channel 4 which also aired in australiashe contributes regularly to bbc radio 4s food programme and was a judge for its food and farming awards in 2009 she was a member of the house of lords committee of inquiry into the meat industry in 2000 she was the winner of a glenfiddich award in 2001 and in 2009 was named by vogue magazine as one of the most inspirational women in britainshe is married to dominic prince a fellow journalist and sometime amateur jockey and they have two children jack and lara they live in london and dorset and prince lists lunch wine reading and horseracing as her recreations in whos who\"\n        ],\n        \"semantic_type\": \"\",\n        \"description\": \"\"\n      }\n    }\n  ]\n}"
            }
          },
          "metadata": {},
          "execution_count": 24
        }
      ],
      "source": [
        "ten_nn = df.iloc[[41905, 36112, 20856, 36166, 26386, 25545,  8366,   895, 12286,\n",
        "         9732, 31511]]\n",
        "ten_nn"
      ]
    },
    {
      "cell_type": "code",
      "execution_count": 25,
      "metadata": {
        "id": "W-M13Zpe1qJD",
        "colab": {
          "base_uri": "https://localhost:8080/"
        },
        "outputId": "15bec2d9-4b34-4bb4-c19b-e30559a0c412"
      },
      "outputs": [
        {
          "output_type": "execute_result",
          "data": {
            "text/plain": [
              "[Sentiment(polarity=0.21978021978021978, subjectivity=0.3676739926739927),\n",
              " Sentiment(polarity=0.11319444444444444, subjectivity=0.28402777777777777),\n",
              " Sentiment(polarity=0.15137406453195923, subjectivity=0.5343454790823213),\n",
              " Sentiment(polarity=0.2042748917748918, subjectivity=0.4016504329004329),\n",
              " Sentiment(polarity=0.27166666666666667, subjectivity=0.245),\n",
              " Sentiment(polarity=0.1388888888888889, subjectivity=0.28144078144078144),\n",
              " Sentiment(polarity=0.1300407925407925, subjectivity=0.34867216117216115),\n",
              " Sentiment(polarity=0.12348484848484849, subjectivity=0.36604683195592286),\n",
              " Sentiment(polarity=0.1010942760942761, subjectivity=0.29131054131054135),\n",
              " Sentiment(polarity=0.05574009324009324, subjectivity=0.20645956607495072)]"
            ]
          },
          "metadata": {},
          "execution_count": 25
        }
      ],
      "source": [
        "sentiments = []\n",
        "for i in range(1,11):\n",
        "  sentiments.append(TextBlob(ten_nn['text'].iloc[i]).sentiment)\n",
        "sentiments"
      ]
    },
    {
      "cell_type": "markdown",
      "metadata": {
        "id": "lmwpNQlAQW9K"
      },
      "source": [
        "# Part 2: Of the 10 Nearest Neighbors, Find their Whole Wiki Page and Order Their Indecies by the Whole Page."
      ]
    },
    {
      "cell_type": "code",
      "execution_count": 26,
      "metadata": {
        "id": "UUqVKbj-ntu5"
      },
      "outputs": [],
      "source": [
        "%%capture\n",
        "!pip3 install wikipedia-api"
      ]
    },
    {
      "cell_type": "code",
      "execution_count": 27,
      "metadata": {
        "id": "RRct8VBynveE"
      },
      "outputs": [],
      "source": [
        "import wikipediaapi\n",
        "wikipedia = wikipediaapi.Wikipedia(user_agent = 'agoobi')"
      ]
    },
    {
      "cell_type": "code",
      "execution_count": 28,
      "metadata": {
        "id": "NUdFwMtRhr3C",
        "colab": {
          "base_uri": "https://localhost:8080/",
          "height": 226
        },
        "outputId": "52f6fcea-05b7-4f09-fc6d-35edc975f63b"
      },
      "outputs": [
        {
          "output_type": "execute_result",
          "data": {
            "text/plain": [
              "\"Tom Jaine (born 4 June 1943) is a former restaurateur, a food writer and until recently the publisher of Prospect Books.\\nHe was educated at Kingswood School (1955–1959) and at Balliol College, Oxford where he studied Modern history (1961–1964). He worked as an archivist from 1964 to 1973 and a restaurateur from 1974 to 1984. From 1984 to 1988, he organised the Oxford Symposium on Food and Cookery, and from 1989 to 1994 he waso editor of the annual Good Food Guide. From 1993 to 2016 he was the proprietor of Prospect Books, a prize-winning publishing company specialising in food and food history.\\nHe is the author of four books and has written for  The Times, The Guardian, The Sunday Times, The Sunday Telegraph, The Evening Standard and many other newspapers and magazines. He has presented The Food Programme and appeared on it many times, has done interviews for the BBC, BBC TV, and ITV, and a series of programmes about food and cookery in the Balkans for BBC Radio 4.\\nHe was Glenfiddich Restaurant Writer of the year in 1994, Glenfiddich Food Broadcaster of the year in 2000, and that same year he was also the winner of the top award: Glenfiddich Trophy for the best Wine and Food Writer of the year.\\n\\nBibliography\\nAs author\\nCooking in the Country by Tom Jaine and James Ravilious (Prospect Books 1986) ISBN 978-0-7011-3134-0\\nCosmic Cuisine by Tom Jaine and Nich Campion (Harper Collins 1988) ISBN 978-0-06-250559-0\\nContributed to Traditional Country House Cooking edited by C. Anne Wilson (Weidenfeld & Nicolson 1993) ISBN 978-0-297-83137-2\\nBuilding a Wood-fired Oven (Prospect Books 1996) ISBN 978-1-903018-80-4\\nMaking Bread at Home (Weidenfeld & Nicolson Illus. 1998) ISBN 978-0-297-84391-7\\n\\nAs editor\\nBooks\\nco-editor of the Oxford Companion to Food, 2nd and 3rd editions\\n\\nAnnual guides\\nWestcountry Cooking's Guide to Good Food in the West Country, (1999-2000) ISBN 978-1-874448-27-3\\nThe Good Food Guide from 1989 to 1994.\\n\\nPeriodicals\\nWorld Gastronomy, Journal of The International Wine and Food Society (London)\\nFood and Wine, Journal of The International Wine and Food Society (London)\\nPetits Propos Culinaires, since 2000.\\n\\nAs translator\\nThe French Country Housewife: the first volume of Maison rustique des dames (1859) by Cora Millet-Robinet, translated with introduction by Tom Jaine. London: Prospect Books, 2017. ISBN 978-1-909248-52-6\\n\\nReferences\\nExternal links\\nProspect Books official website\""
            ],
            "application/vnd.google.colaboratory.intrinsic+json": {
              "type": "string"
            }
          },
          "metadata": {},
          "execution_count": 28
        }
      ],
      "source": [
        "Person = 'Tom Jaine'\n",
        "Tom_Jaine = wikipedia.page(Person).text\n",
        "Tom_Jaine"
      ]
    },
    {
      "cell_type": "code",
      "execution_count": 29,
      "metadata": {
        "id": "hrbgkzfun6zl",
        "colab": {
          "base_uri": "https://localhost:8080/",
          "height": 226
        },
        "outputId": "f284bfee-2182-4532-bf79-f02116abb311"
      },
      "outputs": [
        {
          "output_type": "execute_result",
          "data": {
            "text/plain": [
              "'Tom Jaine born 4 June 1943 is a former restaurateur, a food writer and until recently the publisher of Prospect Books. He was educated at Kingswood School 1955–1959 and at Balliol College, Oxford where he studied Modern history 1961–1964. He worked as an archivist from 1964 to 1973 and a restaurateur from 1974 to 1984. From 1984 to 1988, he organised the Oxford Symposium on Food and Cookery, and from 1989 to 1994 he waso editor of the annual Good Food Guide. From 1993 to 2016 he was the proprietor of Prospect Books, a prize-winning publishing company specialising in food and food history. He is the author of four books and has written for  The Times, The Guardian, The Sunday Times, The Sunday Telegraph, The Evening Standard and many other newspapers and magazines. He has presented The Food Programme and appeared on it many times, has done interviews for the BBC, BBC TV, and ITV, and a series of programmes about food and cookery in the Balkans for BBC Radio 4. He was Glenfiddich Restaurant Writer of the year in 1994, Glenfiddich Food Broadcaster of the year in 2000, and that same year he was also the winner of the top award: Glenfiddich Trophy for the best Wine and Food Writer of the year.  Bibliography As author Cooking in the Country by Tom Jaine and James Ravilious Prospect Books 1986 ISBN 978-0-7011-3134-0 Cosmic Cuisine by Tom Jaine and Nich Campion Harper Collins 1988 ISBN 978-0-06-250559-0 Contributed to Traditional Country House Cooking edited by C. Anne Wilson Weidenfeld & Nicolson 1993 ISBN 978-0-297-83137-2 Building a Wood-fired Oven Prospect Books 1996 ISBN 978-1-903018-80-4 Making Bread at Home Weidenfeld & Nicolson Illus. 1998 ISBN 978-0-297-84391-7  As editor Books co-editor of the Oxford Companion to Food, 2nd and 3rd editions  Annual guides Westcountry Cooking Guide to Good Food in the West Country, 1999-2000 ISBN 978-1-874448-27-3 The Good Food Guide from 1989 to 1994.  Periodicals World Gastronomy, Journal of The International Wine and Food Society London Food and Wine, Journal of The International Wine and Food Society London Petits Propos Culinaires, since 2000.  As translator The French Country Housewife: the first volume of Maison rustique des dames 1859 by Cora Millet-Robinet, translated with introduction by Tom Jaine. London: Prospect Books, 2017. ISBN 978-1-909248-52-6  References External links Prospect Books official website'"
            ],
            "application/vnd.google.colaboratory.intrinsic+json": {
              "type": "string"
            }
          },
          "metadata": {},
          "execution_count": 29
        }
      ],
      "source": [
        "(Tom_Jaine\n",
        ".replace(\"\\n\",\" \")\n",
        ".replace(\"\\'s\",'')\n",
        ".replace('\\'','')\n",
        ".replace(\"(\", \"\")\n",
        ".replace(\")\", \"\")\n",
        ".replace('\"', \"\")\n",
        ")"
      ]
    },
    {
      "cell_type": "code",
      "execution_count": 30,
      "metadata": {
        "id": "fXzHkDWo52co",
        "colab": {
          "base_uri": "https://localhost:8080/"
        },
        "outputId": "3809dec9-f786-4797-a19e-556fa66d1132"
      },
      "outputs": [
        {
          "output_type": "execute_result",
          "data": {
            "text/plain": [
              "Sentiment(polarity=0.23452380952380952, subjectivity=0.2777777777777778)"
            ]
          },
          "metadata": {},
          "execution_count": 30
        }
      ],
      "source": [
        "Tom_Jaine = TextBlob(Tom_Jaine)\n",
        "Tom_Jaine.sentiment"
      ]
    },
    {
      "cell_type": "code",
      "execution_count": 31,
      "metadata": {
        "id": "9BSjI3E5ucqO"
      },
      "outputs": [],
      "source": [
        "ten_nn = df.iloc[[41905, 36112, 20856, 36166, 26386, 25545,  8366,   895, 12286,\n",
        "         9732, 31511]]"
      ]
    },
    {
      "cell_type": "code",
      "execution_count": 32,
      "metadata": {
        "id": "gGYIn3DFvXyT"
      },
      "outputs": [],
      "source": [
        "wiki_nn = []\n",
        "\n",
        "for i in range(11):\n",
        "  nn = wikipedia.page(ten_nn['name'].iloc[i]).text\n",
        "  nn = (nn\n",
        ".replace(\"\\n\",\" \")\n",
        ".replace(\"\\'s\",'')\n",
        ".replace('\\'','')\n",
        ".replace(\"(\", \"\")\n",
        ".replace(\")\", \"\")\n",
        ".replace('\"', \"\")\n",
        "  )\n",
        "\n",
        "  wiki_nn.append(nn)"
      ]
    },
    {
      "cell_type": "code",
      "execution_count": 33,
      "metadata": {
        "id": "vtGTvqFPv48s",
        "colab": {
          "base_uri": "https://localhost:8080/"
        },
        "outputId": "9a140988-6427-45d9-f3cb-eda1f8a23884"
      },
      "outputs": [
        {
          "output_type": "stream",
          "name": "stdout",
          "text": [
            "Oran B. Hesterman is the president and chief executive officer of Fair Food Network, a non-profit organization based in Ann Arbor Michigan, is a national leader in sustainable agriculture and food systems and the author of Fair Food: Growing a Healthy, Sustainable Food System for All Public Affairs, as well as more than 400 reports and articles  on subjects such as cover crops, crop rotation, and the impact of philanthropic investments on food systems practice and policy. Since its release, Fair Food has garnered a significant amount of attention, with over 4,000 food and social justice activists attending book events nationwide in 2011.  Beyond listing the health, environment, and economic dysfunctions of the current broken American food system, the book presents burgeoning success stories and illuminates a clear path toward a more sustainable and equitable food future.   The New York Times calls it “an important, accessible book on a crucial subject.” Before starting Fair Food Network, Dr. Hesterman co-led the Integrated Farming Systems and Food and Society Programs for the W.K. Kellogg Foundation for 15 years, during which time the Foundation seeded the local food systems movement with over $200 million.   At Kellogg, Dr. Hesterman envisioned and nurtured national and international food system projects and collaborations and organized seminars on sustainable agriculture and community-based food systems on behalf of the Foundation. Prior to his position at the Kellogg Foundation, he was a fellow at the National Center for Food and Agriculture Policy in Washington, DC and a professor of crop and soil science at Michigan State University in East Lansing from 1984-1995. Dr. Hesterman earned his bachelor and master degrees from the University of California, Davis, in plant science/vegetable crops and agronomy, respectively. He received his doctorate in agronomy and business administration from the University of Minnesota, St. Paul. He grew up in Berkeley, California and presently lives in Ann Arbor, Michigan with his wife, Lucinda Kurtz.  References http://www.annarbor.com/business-review/oran-hesterman-reinvents-fair-food-network-to-redesign-broken-food-system/ http://www.bioneers.org/presenters/oran-hesterman http://ww2.wkkf.org/Default.aspx?tabid=90&CID=19&ItemID=5000184&NID=5010184&LanguageID=0 http://www.michigan.gov/documents/mfpc/Council_Meeting_Summary_March_2010_324210_7.doc - 2010-06-09 http://www.prnewswire.com/news-releases/dr-oran-b-hesterman-to-lead-new-fair-food-foundation-53580292.html http://www.michigan.gov/documents/dhs/09-09-10_340804_7.pdf - 2010-12-20  External links [1] [2] [3] [4] [5] [6] [7] [8]\n"
          ]
        }
      ],
      "source": [
        "print(wiki_nn[4])"
      ]
    },
    {
      "cell_type": "code",
      "execution_count": null,
      "metadata": {
        "id": "_XJ_LV6j5FXC"
      },
      "outputs": [],
      "source": [
        "#Anna Lapp and Bill Glasson apparently do not have a wikipedia page?\n",
        "\n",
        "sentiments = []\n",
        "\n",
        "for page in wiki_nn:\n",
        "  sent = TextBlob(page).sentiment\n",
        "  sentiments.append(sent)\n",
        "\n",
        "sentiments"
      ]
    },
    {
      "cell_type": "code",
      "execution_count": 35,
      "metadata": {
        "id": "vsT77elQ8wCD"
      },
      "outputs": [],
      "source": [
        "Bag_of_Words = BagOfWords(stop_words = 'english')\n",
        "word_vector = Bag_of_Words.fit_transform(wiki_nn)\n",
        "tf_idf = TfidfTransformer()\n",
        "tf_idf_vw = tf_idf.fit_transform(word_vector)\n",
        "nearest_neighbors = NearestNeighbors().fit(tf_idf_vw)\n",
        "distances, position = nearest_neighbors.kneighbors(\n",
        "    X = tf_idf_vw[0],\n",
        "    n_neighbors = 11)"
      ]
    },
    {
      "cell_type": "code",
      "execution_count": 36,
      "metadata": {
        "id": "N_bh7C6mIn_7",
        "colab": {
          "base_uri": "https://localhost:8080/"
        },
        "outputId": "51bcb35a-7c22-4177-a2fc-65ef1d33354b"
      },
      "outputs": [
        {
          "output_type": "execute_result",
          "data": {
            "text/plain": [
              "[8, 1, 3, 5, 10, 2, 6, 9, 7, 4]"
            ]
          },
          "metadata": {},
          "execution_count": 36
        }
      ],
      "source": [
        "# Note these are the indecies and python starts counting at zero.\n",
        "ranked = list(position[0][1:])\n",
        "ranked"
      ]
    },
    {
      "cell_type": "code",
      "source": [
        "df['name']"
      ],
      "metadata": {
        "id": "Q3YpxgPxRcMc",
        "colab": {
          "base_uri": "https://localhost:8080/"
        },
        "outputId": "d6459083-982a-4958-dcb5-975ea01569ea"
      },
      "execution_count": 37,
      "outputs": [
        {
          "output_type": "execute_result",
          "data": {
            "text/plain": [
              "0                             Digby Morrell\n",
              "1                            Alfred J. Lewy\n",
              "2                             Harpdog Brown\n",
              "3                       Franz Rottensteiner\n",
              "4                                    G-Enka\n",
              "                        ...                \n",
              "42780                    Motoaki Takenouchi\n",
              "42781    Alan Judge (footballer, born 1960)\n",
              "42782                          Eduardo Lara\n",
              "42783                  Tatiana Faberg%C3%A9\n",
              "42784                        Kenneth Thomas\n",
              "Name: name, Length: 42785, dtype: object"
            ]
          },
          "metadata": {},
          "execution_count": 37
        }
      ]
    },
    {
      "cell_type": "markdown",
      "source": [
        "# Part 3: Make Interactive"
      ],
      "metadata": {
        "id": "zBvBTwIPRAFa"
      }
    },
    {
      "cell_type": "code",
      "source": [
        "word_vector = Bag_of_Words.fit_transform(singularized.str.join(', '))\n",
        "tf_idf = TfidfTransformer()\n",
        "tf_idf_vw = tf_idf.fit_transform(word_vector)\n",
        "nearest_neighbors = NearestNeighbors().fit(tf_idf_vw)"
      ],
      "metadata": {
        "id": "e1DaE7tvldT8"
      },
      "execution_count": 123,
      "outputs": []
    },
    {
      "cell_type": "code",
      "source": [
        "\n",
        "\n",
        "def wiki_search():\n",
        "  '''Propmpts User Imput to Search for 10 NN. '''\n",
        "  search = input('')\n",
        "\n",
        "  if (search == df['name']).any():\n",
        "\n",
        "    distances, people = nearest_neighbors.kneighbors(\n",
        "    X = tf_idf_vw[int(df[df['name'] == search].index[0])],\n",
        "    n_neighbors = 11)\n",
        "\n",
        "    nn_df = df.iloc[list(people[0][:])]\n",
        "    sent = []\n",
        "    wiki_text = []\n",
        "\n",
        "    for person in list(people[0][:]):\n",
        "      wiki_page = wikipedia.page(df['name'].iloc[person]).text\n",
        "      wiki_page_clean = (\n",
        "               wiki_page\n",
        "      .replace(\"\\n\",\" \")\n",
        "      .replace(\"\\'s\",'')\n",
        "      .replace('\\'','')\n",
        "      .replace(\"(\", \"\"  )\n",
        "      .replace(\")\", \"\")\n",
        "      .replace('\"', \"\")\n",
        "       )\n",
        "\n",
        "      wiki_text.append(wiki_page_clean)\n",
        "      sent.append(TextBlob(wiki_page_clean).sentiment)\n",
        "\n",
        "    nn_df.loc[:, 'Sentiment'] = sent\n",
        "    nn_df.loc[:, 'Wiki Text'] = wiki_text\n",
        "\n",
        "    return nn_df\n",
        "\n",
        "\n",
        "  else:\n",
        "      print(\"We Couldn't Find Them Please Try Again! :( \")"
      ],
      "metadata": {
        "id": "FfqeDajaQ_4H"
      },
      "execution_count": 137,
      "outputs": []
    },
    {
      "cell_type": "code",
      "source": [
        "df['name']"
      ],
      "metadata": {
        "id": "XWDBT7YovcaK"
      },
      "execution_count": null,
      "outputs": []
    },
    {
      "cell_type": "code",
      "source": [
        "wiki_search() #Digby Morrell"
      ],
      "metadata": {
        "id": "FfFwkRHaZ5R9"
      },
      "execution_count": null,
      "outputs": []
    }
  ],
  "metadata": {
    "colab": {
      "provenance": [],
      "include_colab_link": true
    },
    "kernelspec": {
      "display_name": "Python 3",
      "name": "python3"
    },
    "language_info": {
      "name": "python"
    }
  },
  "nbformat": 4,
  "nbformat_minor": 0
}