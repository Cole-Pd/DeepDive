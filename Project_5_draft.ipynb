{
  "nbformat": 4,
  "nbformat_minor": 0,
  "metadata": {
    "colab": {
      "provenance": [],
      "include_colab_link": true
    },
    "kernelspec": {
      "name": "python3",
      "display_name": "Python 3"
    },
    "language_info": {
      "name": "python"
    }
  },
  "cells": [
    {
      "cell_type": "markdown",
      "metadata": {
        "id": "view-in-github",
        "colab_type": "text"
      },
      "source": [
        "<a href=\"https://colab.research.google.com/github/Cole-Pd/DeepDive/blob/main/Project_5_draft.ipynb\" target=\"_parent\"><img src=\"https://colab.research.google.com/assets/colab-badge.svg\" alt=\"Open In Colab\"/></a>"
      ]
    },
    {
      "cell_type": "markdown",
      "source": [
        "# Part 0 Build the Pickles"
      ],
      "metadata": {
        "id": "cJG_e1vK2NMI"
      }
    },
    {
      "cell_type": "code",
      "source": [
        "%%capture\n",
        "!python -m textblob.download_corpora"
      ],
      "metadata": {
        "id": "QtLzZ061ho9J"
      },
      "execution_count": 1,
      "outputs": []
    },
    {
      "cell_type": "code",
      "source": [
        "import pandas as pd\n",
        "from textblob import TextBlob, Word\n",
        "import pickle\n",
        "url = 'https://ddc-datascience.s3.amazonaws.com/Projects/Project.5-NLP/Data/NLP.csv'\n",
        "df = pd.read_csv(url)"
      ],
      "metadata": {
        "id": "3L_aN72kn1AM"
      },
      "execution_count": 2,
      "outputs": []
    },
    {
      "cell_type": "code",
      "source": [
        "df['tb'] = df['text'].apply(TextBlob)\n",
        "l = df['tb'][:20000].apply(lambda x: [x.singularize() for x in x.words])\n",
        "pickle.dump(l, open('pickle_part_1.p','wb'))\n",
        "%reset -f\n",
        "import pickle\n",
        "l = pickle.load(open('pickle_part_1.p','rb'))"
      ],
      "metadata": {
        "id": "UAsEoDVzblnR"
      },
      "execution_count": 3,
      "outputs": []
    },
    {
      "cell_type": "code",
      "source": [
        "%%capture\n",
        "!python -m textblob.download_corpora"
      ],
      "metadata": {
        "id": "X21Zv55PZNZk"
      },
      "execution_count": 4,
      "outputs": []
    },
    {
      "cell_type": "code",
      "source": [
        "import pandas as pd\n",
        "from textblob import TextBlob, Word\n",
        "import pickle\n",
        "url = 'https://ddc-datascience.s3.amazonaws.com/Projects/Project.5-NLP/Data/NLP.csv'\n",
        "df = pd.read_csv(url)"
      ],
      "metadata": {
        "id": "-KrKGl9vZGj8"
      },
      "execution_count": 5,
      "outputs": []
    },
    {
      "cell_type": "code",
      "source": [
        "df['tb'] = df['text'].apply(TextBlob)\n",
        "a = df['tb'][20000:].apply(lambda x: [x.singularize() for x in x.words])\n",
        "pickle.dump(a, open('pickle_part_2.p','wb'))\n",
        "%reset -f\n",
        "import pickle\n",
        "a = pickle.load(open('pickle_part_2.p','rb'))"
      ],
      "metadata": {
        "id": "yIo-SmqNYEv0"
      },
      "execution_count": 6,
      "outputs": []
    },
    {
      "cell_type": "code",
      "source": [
        "%reset -f"
      ],
      "metadata": {
        "id": "NJr3SrcSXmN0"
      },
      "execution_count": 7,
      "outputs": []
    },
    {
      "cell_type": "markdown",
      "source": [
        "# Part 1: Find a Random Page and It's 10 Nearest Neighbors."
      ],
      "metadata": {
        "id": "AozdighyQBdT"
      }
    },
    {
      "cell_type": "code",
      "source": [
        "import pandas as pd\n",
        "import numpy as np\n",
        "import pickle #yay :)\n",
        "import random\n",
        "from textblob import TextBlob, Word\n",
        "import nltk\n",
        "nltk.download('omw-1.4')\n",
        "\n",
        "from sklearn.feature_extraction.text import CountVectorizer as BagOfWords\n",
        "from sklearn.feature_extraction.text import TfidfTransformer\n",
        "from sklearn.feature_extraction.text import TfidfVectorizer\n",
        "from sklearn.neighbors import NearestNeighbors"
      ],
      "metadata": {
        "id": "mNOARr9i2qW8",
        "colab": {
          "base_uri": "https://localhost:8080/"
        },
        "outputId": "3d4b4d9d-c13f-451c-f6a2-73cf8dc45406"
      },
      "execution_count": 8,
      "outputs": [
        {
          "output_type": "stream",
          "name": "stderr",
          "text": [
            "[nltk_data] Downloading package omw-1.4 to /root/nltk_data...\n"
          ]
        }
      ]
    },
    {
      "cell_type": "code",
      "source": [
        "%%capture\n",
        "!python -m textblob.download_corpora"
      ],
      "metadata": {
        "id": "ykaAv9u0yEDR"
      },
      "execution_count": 9,
      "outputs": []
    },
    {
      "cell_type": "code",
      "source": [
        "url = 'https://ddc-datascience.s3.amazonaws.com/Projects/Project.5-NLP/Data/NLP.csv'\n",
        "df = pd.read_csv(url)"
      ],
      "metadata": {
        "id": "9RFnuGL6x-zl"
      },
      "execution_count": 10,
      "outputs": []
    },
    {
      "cell_type": "code",
      "source": [
        "df = df.drop(29122, axis = 0).reset_index(drop = True)"
      ],
      "metadata": {
        "id": "W-Qous7L1JXe"
      },
      "execution_count": 11,
      "outputs": []
    },
    {
      "cell_type": "code",
      "source": [
        "#importing our pickle file was good practice.\n",
        "#however it resulted in a file that for some reason was blowing up our ram\n",
        "#to get around this we split our strings into two pickles\n",
        "#they are below and squished together\n",
        "\n",
        "p1 = pickle.load(open('/content/pickle_part_1.p','rb'))\n",
        "p2 = pickle.load(open('/content/pickle_part_2.p','rb'))"
      ],
      "metadata": {
        "id": "X4n9K0GlyHmK"
      },
      "execution_count": 12,
      "outputs": []
    },
    {
      "cell_type": "code",
      "source": [
        "singularized = pd.concat([p1,p2], axis = 0)\n",
        "singularized = singularized.drop(29122).reset_index(drop = True)\n",
        "singularized"
      ],
      "metadata": {
        "id": "RaRBA7f_NowP",
        "colab": {
          "base_uri": "https://localhost:8080/"
        },
        "outputId": "efda717f-752a-469e-ae8b-ec431e70b515"
      },
      "execution_count": 13,
      "outputs": [
        {
          "output_type": "execute_result",
          "data": {
            "text/plain": [
              "0        [digby, morrell, born, 10, october, 1979, is, ...\n",
              "1        [alfred, j, lewy, aka, sandy, lewy, graduated,...\n",
              "2        [harpdog, brown, is, a, singer, and, harmonica...\n",
              "3        [franz, rottensteiner, born, in, waidmannsfeld...\n",
              "4        [henry, krvit, born, 30, december, 1974, in, t...\n",
              "                               ...                        \n",
              "42780    [motoaki, takenouchi, born, july, 8, 1967, sai...\n",
              "42781    [alan, graham, judge, born, 14, may, 1960, is,...\n",
              "42782    [eduardo, lara, lozano, born, 4, september, 19...\n",
              "42783    [tatiana, faberg, is, an, author, and, faberg,...\n",
              "42784    [kenneth, thoma, born, february, 24, 1938, wa,...\n",
              "Name: tb, Length: 42785, dtype: object"
            ]
          },
          "metadata": {},
          "execution_count": 13
        }
      ]
    },
    {
      "cell_type": "code",
      "source": [
        "Bag_of_Words = BagOfWords(stop_words = 'english')\n",
        "word_vector = Bag_of_Words.fit_transform(singularized.str.join(', '))"
      ],
      "metadata": {
        "id": "fdG42fowF9Nm"
      },
      "execution_count": 14,
      "outputs": []
    },
    {
      "cell_type": "code",
      "source": [
        "tf_idf = TfidfTransformer()\n",
        "tf_idf_vw = tf_idf.fit_transform(word_vector)"
      ],
      "metadata": {
        "id": "m0y9eeJ2QLID"
      },
      "execution_count": 15,
      "outputs": []
    },
    {
      "cell_type": "code",
      "source": [
        "tf_idf_vw.shape #Big Matrix"
      ],
      "metadata": {
        "colab": {
          "base_uri": "https://localhost:8080/"
        },
        "id": "mKUakT9ExLd2",
        "outputId": "21456539-72db-40e9-8254-ca5c0e7d7cd7"
      },
      "execution_count": 16,
      "outputs": [
        {
          "output_type": "execute_result",
          "data": {
            "text/plain": [
              "(42785, 404863)"
            ]
          },
          "metadata": {},
          "execution_count": 16
        }
      ]
    },
    {
      "cell_type": "code",
      "source": [
        "nearest_neighbors = NearestNeighbors().fit(tf_idf_vw)"
      ],
      "metadata": {
        "id": "ai9bFWz6QqCk"
      },
      "execution_count": 17,
      "outputs": []
    },
    {
      "cell_type": "code",
      "source": [
        "random.seed(42)\n",
        "Page = random.randrange(0, len(df))\n",
        "Wikipage = tf_idf_vw[Page]\n",
        "Wikipage"
      ],
      "metadata": {
        "colab": {
          "base_uri": "https://localhost:8080/"
        },
        "id": "kqpeIL3yRGr1",
        "outputId": "16eac326-8261-4890-e355-257edd4aa472"
      },
      "execution_count": 18,
      "outputs": [
        {
          "output_type": "execute_result",
          "data": {
            "text/plain": [
              "<1x404863 sparse matrix of type '<class 'numpy.float64'>'\n",
              "\twith 78 stored elements in Compressed Sparse Row format>"
            ]
          },
          "metadata": {},
          "execution_count": 18
        }
      ]
    },
    {
      "cell_type": "code",
      "source": [
        "distances, indecies = nearest_neighbors.kneighbors(\n",
        "    X = Wikipage,\n",
        "    n_neighbors = 11\n",
        ")"
      ],
      "metadata": {
        "id": "U-NkljrexzrW"
      },
      "execution_count": 19,
      "outputs": []
    },
    {
      "cell_type": "code",
      "source": [
        "indecies"
      ],
      "metadata": {
        "colab": {
          "base_uri": "https://localhost:8080/"
        },
        "id": "He0ORa8qzfFg",
        "outputId": "9c637c64-e502-4fea-dd9e-55a5f9b48f18"
      },
      "execution_count": 20,
      "outputs": [
        {
          "output_type": "execute_result",
          "data": {
            "text/plain": [
              "array([[41905, 36112, 20856, 36166, 26386, 25545,  8366,   895, 12286,\n",
              "         9732, 31511]])"
            ]
          },
          "metadata": {},
          "execution_count": 20
        }
      ]
    },
    {
      "cell_type": "code",
      "source": [
        "df.iloc[41905]"
      ],
      "metadata": {
        "colab": {
          "base_uri": "https://localhost:8080/"
        },
        "id": "UD6J8Io6zvdc",
        "outputId": "41eb2319-f3a8-44af-aad3-86ad8824e664"
      },
      "execution_count": 21,
      "outputs": [
        {
          "output_type": "execute_result",
          "data": {
            "text/plain": [
              "URI               <http://dbpedia.org/resource/Tom_Jaine>\n",
              "name                                            Tom Jaine\n",
              "text    tom jaine born 4 june 1943 is a former restaur...\n",
              "Name: 41905, dtype: object"
            ]
          },
          "metadata": {},
          "execution_count": 21
        }
      ]
    },
    {
      "cell_type": "code",
      "source": [
        "ten_nn = df.iloc[[41905, 36112, 20856, 36166, 26386, 25545,  8366,   895, 12286,\n",
        "         9732, 31511]]\n",
        "ten_nn"
      ],
      "metadata": {
        "id": "XeJbGhFbz0AP"
      },
      "execution_count": null,
      "outputs": []
    },
    {
      "cell_type": "code",
      "source": [
        "sentiments = []\n",
        "for i in range(1,11):\n",
        "  sentiments.append(TextBlob(ten_nn['text'].iloc[i]).sentiment)\n",
        "sentiments"
      ],
      "metadata": {
        "colab": {
          "base_uri": "https://localhost:8080/"
        },
        "id": "W-M13Zpe1qJD",
        "outputId": "d409e6eb-92ae-413f-f428-9f482c8611fd"
      },
      "execution_count": 23,
      "outputs": [
        {
          "output_type": "execute_result",
          "data": {
            "text/plain": [
              "[Sentiment(polarity=0.21978021978021978, subjectivity=0.3676739926739927),\n",
              " Sentiment(polarity=0.11319444444444444, subjectivity=0.28402777777777777),\n",
              " Sentiment(polarity=0.15137406453195923, subjectivity=0.5343454790823213),\n",
              " Sentiment(polarity=0.2042748917748918, subjectivity=0.4016504329004329),\n",
              " Sentiment(polarity=0.27166666666666667, subjectivity=0.245),\n",
              " Sentiment(polarity=0.1388888888888889, subjectivity=0.28144078144078144),\n",
              " Sentiment(polarity=0.1300407925407925, subjectivity=0.34867216117216115),\n",
              " Sentiment(polarity=0.12348484848484849, subjectivity=0.36604683195592286),\n",
              " Sentiment(polarity=0.1010942760942761, subjectivity=0.29131054131054135),\n",
              " Sentiment(polarity=0.05574009324009324, subjectivity=0.20645956607495072)]"
            ]
          },
          "metadata": {},
          "execution_count": 23
        }
      ]
    },
    {
      "cell_type": "markdown",
      "source": [
        "# Part 2: Of the 10 Nearest Neighbors, Find their Whole Wiki Page and Order Their Indecies by the Whole Page."
      ],
      "metadata": {
        "id": "lmwpNQlAQW9K"
      }
    },
    {
      "cell_type": "code",
      "source": [
        "%%capture\n",
        "!pip3 install wikipedia-api"
      ],
      "metadata": {
        "id": "UUqVKbj-ntu5"
      },
      "execution_count": 24,
      "outputs": []
    },
    {
      "cell_type": "code",
      "source": [
        "import wikipediaapi\n",
        "wikipedia = wikipediaapi.Wikipedia(user_agent = 'agoobi')"
      ],
      "metadata": {
        "id": "RRct8VBynveE"
      },
      "execution_count": 25,
      "outputs": []
    },
    {
      "cell_type": "code",
      "source": [
        "Person = 'Tom Jaine'\n",
        "Tom_Jaine = wikipedia.page(Person).text\n",
        "Tom_Jaine"
      ],
      "metadata": {
        "id": "NUdFwMtRhr3C",
        "colab": {
          "base_uri": "https://localhost:8080/",
          "height": 243
        },
        "outputId": "76a4fdd2-dbf3-402b-a30a-d10ea90ed752"
      },
      "execution_count": 26,
      "outputs": [
        {
          "output_type": "execute_result",
          "data": {
            "text/plain": [
              "\"Tom Jaine (born 4 June 1943) is a former restaurateur, a food writer and until recently the publisher of Prospect Books.\\nHe was educated at Kingswood School (1955–1959) and at Balliol College, Oxford where he studied Modern history (1961–1964). He worked as an archivist from 1964 to 1973 and a restaurateur from 1974 to 1984. From 1984 to 1988, he organised the Oxford Symposium on Food and Cookery, and from 1989 to 1994 he waso editor of the annual Good Food Guide. From 1993 to 2016 he was the proprietor of Prospect Books, a prize-winning publishing company specialising in food and food history.\\nHe is the author of four books and has written for  The Times, The Guardian, The Sunday Times, The Sunday Telegraph, The Evening Standard and many other newspapers and magazines. He has presented The Food Programme and appeared on it many times, has done interviews for the BBC, BBC TV, and ITV, and a series of programmes about food and cookery in the Balkans for BBC Radio 4.\\nHe was Glenfiddich Restaurant Writer of the year in 1994, Glenfiddich Food Broadcaster of the year in 2000, and that same year he was also the winner of the top award: Glenfiddich Trophy for the best Wine and Food Writer of the year.\\n\\nBibliography\\nAs author\\nCooking in the Country by Tom Jaine and James Ravilious (Prospect Books 1986) ISBN 978-0-7011-3134-0\\nCosmic Cuisine by Tom Jaine and Nich Campion (Harper Collins 1988) ISBN 978-0-06-250559-0\\nContributed to Traditional Country House Cooking edited by C. Anne Wilson (Weidenfeld & Nicolson 1993) ISBN 978-0-297-83137-2\\nBuilding a Wood-fired Oven (Prospect Books 1996) ISBN 978-1-903018-80-4\\nMaking Bread at Home (Weidenfeld & Nicolson Illus. 1998) ISBN 978-0-297-84391-7\\n\\nAs editor\\nBooks\\nco-editor of the Oxford Companion to Food, 2nd and 3rd editions\\n\\nAnnual guides\\nWestcountry Cooking's Guide to Good Food in the West Country, (1999-2000) ISBN 978-1-874448-27-3\\nThe Good Food Guide from 1989 to 1994.\\n\\nPeriodicals\\nWorld Gastronomy, Journal of The International Wine and Food Society (London)\\nFood and Wine, Journal of The International Wine and Food Society (London)\\nPetits Propos Culinaires, since 2000.\\n\\nAs translator\\nThe French Country Housewife: the first volume of Maison rustique des dames (1859) by Cora Millet-Robinet, translated with introduction by Tom Jaine. London: Prospect Books, 2017. ISBN 978-1-909248-52-6\\n\\nReferences\\nExternal links\\nProspect Books official website\""
            ],
            "application/vnd.google.colaboratory.intrinsic+json": {
              "type": "string"
            }
          },
          "metadata": {},
          "execution_count": 26
        }
      ]
    },
    {
      "cell_type": "code",
      "source": [
        "(Tom_Jaine\n",
        ".replace(\"\\n\",\" \")\n",
        ".replace(\"\\'s\",'')\n",
        ".replace('\\'','')\n",
        ".replace(\"(\", \"\")\n",
        ".replace(\")\", \"\")\n",
        ".replace('\"', \"\")\n",
        ")"
      ],
      "metadata": {
        "id": "hrbgkzfun6zl",
        "colab": {
          "base_uri": "https://localhost:8080/",
          "height": 243
        },
        "outputId": "8918776a-c7d6-49c0-bbac-a41ab98611e5"
      },
      "execution_count": 27,
      "outputs": [
        {
          "output_type": "execute_result",
          "data": {
            "text/plain": [
              "'Tom Jaine born 4 June 1943 is a former restaurateur, a food writer and until recently the publisher of Prospect Books. He was educated at Kingswood School 1955–1959 and at Balliol College, Oxford where he studied Modern history 1961–1964. He worked as an archivist from 1964 to 1973 and a restaurateur from 1974 to 1984. From 1984 to 1988, he organised the Oxford Symposium on Food and Cookery, and from 1989 to 1994 he waso editor of the annual Good Food Guide. From 1993 to 2016 he was the proprietor of Prospect Books, a prize-winning publishing company specialising in food and food history. He is the author of four books and has written for  The Times, The Guardian, The Sunday Times, The Sunday Telegraph, The Evening Standard and many other newspapers and magazines. He has presented The Food Programme and appeared on it many times, has done interviews for the BBC, BBC TV, and ITV, and a series of programmes about food and cookery in the Balkans for BBC Radio 4. He was Glenfiddich Restaurant Writer of the year in 1994, Glenfiddich Food Broadcaster of the year in 2000, and that same year he was also the winner of the top award: Glenfiddich Trophy for the best Wine and Food Writer of the year.  Bibliography As author Cooking in the Country by Tom Jaine and James Ravilious Prospect Books 1986 ISBN 978-0-7011-3134-0 Cosmic Cuisine by Tom Jaine and Nich Campion Harper Collins 1988 ISBN 978-0-06-250559-0 Contributed to Traditional Country House Cooking edited by C. Anne Wilson Weidenfeld & Nicolson 1993 ISBN 978-0-297-83137-2 Building a Wood-fired Oven Prospect Books 1996 ISBN 978-1-903018-80-4 Making Bread at Home Weidenfeld & Nicolson Illus. 1998 ISBN 978-0-297-84391-7  As editor Books co-editor of the Oxford Companion to Food, 2nd and 3rd editions  Annual guides Westcountry Cooking Guide to Good Food in the West Country, 1999-2000 ISBN 978-1-874448-27-3 The Good Food Guide from 1989 to 1994.  Periodicals World Gastronomy, Journal of The International Wine and Food Society London Food and Wine, Journal of The International Wine and Food Society London Petits Propos Culinaires, since 2000.  As translator The French Country Housewife: the first volume of Maison rustique des dames 1859 by Cora Millet-Robinet, translated with introduction by Tom Jaine. London: Prospect Books, 2017. ISBN 978-1-909248-52-6  References External links Prospect Books official website'"
            ],
            "application/vnd.google.colaboratory.intrinsic+json": {
              "type": "string"
            }
          },
          "metadata": {},
          "execution_count": 27
        }
      ]
    },
    {
      "cell_type": "code",
      "source": [
        "Tom_Jaine = TextBlob(Tom_Jaine)\n",
        "Tom_Jaine.sentiment"
      ],
      "metadata": {
        "colab": {
          "base_uri": "https://localhost:8080/"
        },
        "id": "fXzHkDWo52co",
        "outputId": "6f1b7482-7474-4b65-d0db-f181f1a321fd"
      },
      "execution_count": 28,
      "outputs": [
        {
          "output_type": "execute_result",
          "data": {
            "text/plain": [
              "Sentiment(polarity=0.23452380952380952, subjectivity=0.2777777777777778)"
            ]
          },
          "metadata": {},
          "execution_count": 28
        }
      ]
    },
    {
      "cell_type": "code",
      "source": [
        "ten_nn = df.iloc[[41905, 36112, 20856, 36166, 26386, 25545,  8366,   895, 12286,\n",
        "         9732, 31511]]"
      ],
      "metadata": {
        "id": "9BSjI3E5ucqO"
      },
      "execution_count": 29,
      "outputs": []
    },
    {
      "cell_type": "code",
      "source": [
        "wiki_nn = []\n",
        "\n",
        "for i in range(11):\n",
        "  nn = wikipedia.page(ten_nn['name'].iloc[i]).text\n",
        "  nn = (nn\n",
        ".replace(\"\\n\",\" \")\n",
        ".replace(\"\\'s\",'')\n",
        ".replace('\\'','')\n",
        ".replace(\"(\", \"\")\n",
        ".replace(\")\", \"\")\n",
        ".replace('\"', \"\")\n",
        "  )\n",
        "\n",
        "  wiki_nn.append(nn)"
      ],
      "metadata": {
        "id": "gGYIn3DFvXyT"
      },
      "execution_count": 30,
      "outputs": []
    },
    {
      "cell_type": "code",
      "source": [
        "print(wiki_nn[4])"
      ],
      "metadata": {
        "colab": {
          "base_uri": "https://localhost:8080/"
        },
        "id": "vtGTvqFPv48s",
        "outputId": "2401a267-c7c6-4b78-9b00-423dd6be1be1"
      },
      "execution_count": 31,
      "outputs": [
        {
          "output_type": "stream",
          "name": "stdout",
          "text": [
            "Oran B. Hesterman is the president and chief executive officer of Fair Food Network, a non-profit organization based in Ann Arbor Michigan, is a national leader in sustainable agriculture and food systems and the author of Fair Food: Growing a Healthy, Sustainable Food System for All Public Affairs, as well as more than 400 reports and articles  on subjects such as cover crops, crop rotation, and the impact of philanthropic investments on food systems practice and policy. Since its release, Fair Food has garnered a significant amount of attention, with over 4,000 food and social justice activists attending book events nationwide in 2011.  Beyond listing the health, environment, and economic dysfunctions of the current broken American food system, the book presents burgeoning success stories and illuminates a clear path toward a more sustainable and equitable food future.   The New York Times calls it “an important, accessible book on a crucial subject.” Before starting Fair Food Network, Dr. Hesterman co-led the Integrated Farming Systems and Food and Society Programs for the W.K. Kellogg Foundation for 15 years, during which time the Foundation seeded the local food systems movement with over $200 million.   At Kellogg, Dr. Hesterman envisioned and nurtured national and international food system projects and collaborations and organized seminars on sustainable agriculture and community-based food systems on behalf of the Foundation. Prior to his position at the Kellogg Foundation, he was a fellow at the National Center for Food and Agriculture Policy in Washington, DC and a professor of crop and soil science at Michigan State University in East Lansing from 1984-1995. Dr. Hesterman earned his bachelor and master degrees from the University of California, Davis, in plant science/vegetable crops and agronomy, respectively. He received his doctorate in agronomy and business administration from the University of Minnesota, St. Paul. He grew up in Berkeley, California and presently lives in Ann Arbor, Michigan with his wife, Lucinda Kurtz.  References http://www.annarbor.com/business-review/oran-hesterman-reinvents-fair-food-network-to-redesign-broken-food-system/ http://www.bioneers.org/presenters/oran-hesterman http://ww2.wkkf.org/Default.aspx?tabid=90&CID=19&ItemID=5000184&NID=5010184&LanguageID=0 http://www.michigan.gov/documents/mfpc/Council_Meeting_Summary_March_2010_324210_7.doc - 2010-06-09 http://www.prnewswire.com/news-releases/dr-oran-b-hesterman-to-lead-new-fair-food-foundation-53580292.html http://www.michigan.gov/documents/dhs/09-09-10_340804_7.pdf - 2010-12-20  External links [1] [2] [3] [4] [5] [6] [7] [8]\n"
          ]
        }
      ]
    },
    {
      "cell_type": "code",
      "source": [
        "#Anna Lapp and Bill Glasson apparently do not have a wikipedia page?\n",
        "\n",
        "sentiments = []\n",
        "\n",
        "for page in wiki_nn:\n",
        "  sent = TextBlob(page).sentiment\n",
        "  sentiments.append(sent)\n",
        "\n",
        "sentiments"
      ],
      "metadata": {
        "id": "_XJ_LV6j5FXC",
        "colab": {
          "base_uri": "https://localhost:8080/"
        },
        "outputId": "cda093f5-0f31-4308-fdf2-ef1575366dde"
      },
      "execution_count": 32,
      "outputs": [
        {
          "output_type": "execute_result",
          "data": {
            "text/plain": [
              "[Sentiment(polarity=0.23452380952380952, subjectivity=0.2777777777777778),\n",
              " Sentiment(polarity=0.08154761904761906, subjectivity=0.2822229853479854),\n",
              " Sentiment(polarity=0.10677083333333334, subjectivity=0.2973958333333333),\n",
              " Sentiment(polarity=0.1567158269081346, subjectivity=0.5299234953081107),\n",
              " Sentiment(polarity=0.17913000977517107, subjectivity=0.37675953079178887),\n",
              " Sentiment(polarity=0.2020588235294118, subjectivity=0.22441176470588234),\n",
              " Sentiment(polarity=0.1455128205128205, subjectivity=0.3369329388560158),\n",
              " Sentiment(polarity=0.11081002331002332, subjectivity=0.32367216117216113),\n",
              " Sentiment(polarity=0.0, subjectivity=0.0),\n",
              " Sentiment(polarity=0.09277597402597403, subjectivity=0.28075049950049946),\n",
              " Sentiment(polarity=0.09974567099567098, subjectivity=0.21759240759240758)]"
            ]
          },
          "metadata": {},
          "execution_count": 32
        }
      ]
    },
    {
      "cell_type": "code",
      "source": [
        "Bag_of_Words = BagOfWords(stop_words = 'english')\n",
        "word_vector = Bag_of_Words.fit_transform(wiki_nn)\n",
        "tf_idf = TfidfTransformer()\n",
        "tf_idf_vw = tf_idf.fit_transform(word_vector)\n",
        "nearest_neighbors = NearestNeighbors().fit(tf_idf_vw)\n",
        "distances, indecies = nearest_neighbors.kneighbors(\n",
        "    X = tf_idf_vw[0],\n",
        "    n_neighbors = 11)"
      ],
      "metadata": {
        "id": "vsT77elQ8wCD"
      },
      "execution_count": 33,
      "outputs": []
    },
    {
      "cell_type": "code",
      "source": [
        "# Note these are the indecies and python starts counting at zero.\n",
        "indecies[0][1:]"
      ],
      "metadata": {
        "colab": {
          "base_uri": "https://localhost:8080/"
        },
        "id": "N_bh7C6mIn_7",
        "outputId": "e7734176-052d-4f80-e7ef-85cefbf5e0c3"
      },
      "execution_count": 34,
      "outputs": [
        {
          "output_type": "execute_result",
          "data": {
            "text/plain": [
              "array([ 8,  1,  3,  5, 10,  2,  6,  9,  7,  4])"
            ]
          },
          "metadata": {},
          "execution_count": 34
        }
      ]
    }
  ]
}