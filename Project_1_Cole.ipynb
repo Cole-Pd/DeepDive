{
  "nbformat": 4,
  "nbformat_minor": 0,
  "metadata": {
    "colab": {
      "provenance": [],
      "include_colab_link": true
    },
    "kernelspec": {
      "name": "python3",
      "display_name": "Python 3"
    },
    "language_info": {
      "name": "python"
    }
  },
  "cells": [
    {
      "cell_type": "markdown",
      "metadata": {
        "id": "view-in-github",
        "colab_type": "text"
      },
      "source": [
        "<a href=\"https://colab.research.google.com/github/Cole-Pd/DeepDive/blob/main/Project_1_Cole.ipynb\" target=\"_parent\"><img src=\"https://colab.research.google.com/assets/colab-badge.svg\" alt=\"Open In Colab\"/></a>"
      ]
    },
    {
      "cell_type": "markdown",
      "source": [
        "#**Predicting Transactions by Gaussian Naive Bayes**"
      ],
      "metadata": {
        "id": "cJG_e1vK2NMI"
      }
    },
    {
      "cell_type": "markdown",
      "source": [
        "# Special Thanks and Reccognition.\n",
        "#### We would like to thank Robert Citek for his unwavering help, dedicated lectures, and project exmaples used in our notebook."
      ],
      "metadata": {
        "id": "YXD-_nsJr7c-"
      }
    },
    {
      "cell_type": "markdown",
      "source": [
        "## Problem Definition\n"
      ],
      "metadata": {
        "id": "Ugnt7mjT2Pyt"
      }
    },
    {
      "cell_type": "markdown",
      "source": [
        "We have been tasked to build modle that predicts wether a transaction is sucsessful. Our data has a binary target reflecting transactions that were either sucsessful or unsecsesfull.\n",
        "Each transaction has 50 associated variables in the data set. All variables in our model are considered equally. We approached this problem by implmenting Gaussian Naive Bayes, a supervised, model that helps us predict transaction outcomes by catagorization."
      ],
      "metadata": {
        "id": "DJB41zc-2q-w"
      }
    },
    {
      "cell_type": "markdown",
      "source": [
        "## Data Collection/Sources\n"
      ],
      "metadata": {
        "id": "jaq46wHS2Uh1"
      }
    },
    {
      "cell_type": "markdown",
      "source": [
        "To effectivly investigate, clean, and describe our findings we chose to use python and the following modules.\n"
      ],
      "metadata": {
        "id": "Pwi0VB3SrL4p"
      }
    },
    {
      "cell_type": "code",
      "source": [
        "import pandas as pd\n",
        "import numpy as np\n",
        "import matplotlib.pyplot as plt\n",
        "import seaborn as sns\n",
        "import scipy.stats as stats\n",
        "from sklearn import metrics, model_selection\n",
        "from sklearn.model_selection import train_test_split\n",
        "from sklearn.naive_bayes import GaussianNB"
      ],
      "metadata": {
        "id": "mNOARr9i2qW8"
      },
      "execution_count": null,
      "outputs": []
    },
    {
      "cell_type": "markdown",
      "source": [],
      "metadata": {
        "id": "nJgM8HKLrznV"
      }
    },
    {
      "cell_type": "code",
      "source": [
        "url = 'http://ddc-datascience.s3-website-us-west-1.amazonaws.com/Projects/Project.1-Transactions/Data/Transaction.train.csv'"
      ],
      "metadata": {
        "id": "wCYdJv-QRs1f"
      },
      "execution_count": null,
      "outputs": []
    },
    {
      "cell_type": "code",
      "source": [
        "transaction_data = pd.read_csv(url)\n",
        "transactions = transaction_data.copy()"
      ],
      "metadata": {
        "id": "cl2jZMYFRHdK"
      },
      "execution_count": null,
      "outputs": []
    },
    {
      "cell_type": "markdown",
      "source": [
        "## Data Cleaning\n",
        "Our data seems to be clean, containing no null values, all data types are floats and there do not seem to be too many 'zero' values."
      ],
      "metadata": {
        "id": "kvTak8Ka2db2"
      }
    },
    {
      "cell_type": "code",
      "source": [
        "transactions.head(20)"
      ],
      "metadata": {
        "id": "2U2SxvedaJmB",
        "colab": {
          "base_uri": "https://localhost:8080/",
          "height": 705
        },
        "outputId": "2c0f95ad-e381-4c45-e535-b0d46b7a5e5a"
      },
      "execution_count": null,
      "outputs": [
        {
          "output_type": "execute_result",
          "data": {
            "text/plain": [
              "    Unnamed: 0   ID_code  target    var_0   var_1    var_2   var_3   var_4  \\\n",
              "0            0   train_0       0   8.9255 -6.7863  11.9081  5.1187  5.7470   \n",
              "1            1   train_1       0  11.5006 -4.1473  13.8588  5.6208  8.0851   \n",
              "2            2   train_2       0   8.6093 -2.7457  12.0805  6.9427  5.9525   \n",
              "3            3   train_3       0  11.0604 -2.1518   8.9522  5.8428  8.2450   \n",
              "4            4   train_4       0   9.8369 -1.4834  12.8746  5.9405  7.6784   \n",
              "5            5   train_5       0  11.4763 -2.3182  12.6080  4.5322  5.9790   \n",
              "6            6   train_6       0  11.8091 -0.0832   9.3494  6.1961  7.9232   \n",
              "7            7   train_7       0  13.5580 -7.9881  13.8776  5.6890  7.1971   \n",
              "8            8   train_8       0  16.1071  2.4426  13.9307  4.4514  9.0827   \n",
              "9            9   train_9       0  12.5088  1.9743   8.8960  6.0637  7.9682   \n",
              "10          10  train_10       0   5.0702 -0.5447   9.5900  6.0382  7.3198   \n",
              "11          11  train_11       0  12.7188 -7.9750  10.3757  5.6464  6.8093   \n",
              "12          12  train_12       0   8.7671 -4.6154   9.7242  6.2815  6.0197   \n",
              "13          13  train_13       1  16.3699  1.5934  16.7395  4.8222  8.6978   \n",
              "14          14  train_14       0  13.8080  5.0514  17.2611  5.7327  6.8116   \n",
              "15          15  train_15       0   3.9416  2.6562  13.3633  5.6979  7.1290   \n",
              "16          16  train_16       0   5.0615  0.2689  15.1325  5.2757  9.4701   \n",
              "17          17  train_17       0   8.4199 -1.8128   8.1202  4.0959  7.0967   \n",
              "18          18  train_18       0   4.8750  1.2646  11.9190  5.6103  8.4254   \n",
              "19          19  train_19       0   4.4090 -0.7863  15.1828  6.3801  8.2108   \n",
              "\n",
              "      var_5    var_6  ...  var_40  var_41   var_42   var_43   var_44   var_45  \\\n",
              "0   14.0137   0.5745  ...  5.4879 -4.7645   3.1531  18.5618   1.7202  25.8398   \n",
              "1   14.0239   8.4135  ...  5.7999  5.5378   5.5134  30.2645  11.0752  22.5441   \n",
              "2   14.1929   7.3124  ...  5.7690 -7.0927  -5.8234  25.6820   2.4013  23.0866   \n",
              "3   13.8463  11.9704  ...  5.3430 -7.1541  11.7134  14.7483   5.6961  -0.4639   \n",
              "4   13.8481   7.8895  ...  5.5518  1.4493   2.3705  18.4685   5.1743  11.8503   \n",
              "5   13.6380   1.2589  ...  5.9714 -6.1449   1.4457  21.8853   1.0208  21.0550   \n",
              "6   14.1629  13.3058  ...  6.1887  0.2619   2.6965  17.0152   3.8973  11.9140   \n",
              "7   14.2919  10.9699  ...  5.2273  8.9519   0.0876  19.5642   0.0592  24.0369   \n",
              "8   14.0654  -3.0572  ...  5.9018  3.1838   3.5803  32.9149  -2.1408  -1.7937   \n",
              "9   13.9639   0.8071  ...  5.8540 -3.0868  -4.5382  18.2209   2.3910  19.0645   \n",
              "10  13.9059   9.0796  ...  5.7487  0.4344  -3.5162  27.1062   3.9860  22.4111   \n",
              "11  13.6713   9.5331  ...  5.7226  2.7449  -4.3861  22.4637   6.3811  14.7535   \n",
              "12  14.1985   9.6978  ...  5.4729  3.2530  -1.3783  27.0374  -1.2209  -0.5242   \n",
              "13  13.7999   2.7925  ...  5.6656  3.5750  -2.2723  15.7383   8.5618  11.8982   \n",
              "14  13.9241  10.3896  ...  5.1196 -2.4897   3.8015  26.2032   3.2684  30.8736   \n",
              "15  14.1446   5.2403  ...  6.0198  7.9611  -9.9688  20.8953   1.4850   4.2341   \n",
              "16  14.1209  13.1612  ...  5.9901  1.0695   1.7808  30.1243   1.1569  19.3315   \n",
              "17  13.9721   9.7421  ...  5.5853  3.6524 -15.3140  10.0939  -2.0261   9.3832   \n",
              "18  13.9686  12.5741  ...  5.8174  1.8296   2.2611  10.8713  -0.7835  12.6041   \n",
              "19  14.3029   6.4895  ...  5.6950 -7.8712   1.9240  25.2396   3.3728  11.7440   \n",
              "\n",
              "     var_46   var_47  var_48   var_49  \n",
              "0    4.4354   3.9642  3.1364  12.7803  \n",
              "1    7.6421   7.7214  2.5837  18.3560  \n",
              "2    2.9057   9.7905  1.6704  14.7222  \n",
              "3    4.4666   4.7433  0.7178  17.9697  \n",
              "4   -1.4905   9.5214 -0.1508  17.9974  \n",
              "5   -6.3068   6.6025  5.2912  12.5809  \n",
              "6    8.7830   6.4521  3.5325  10.8869  \n",
              "7   13.1700   6.5491  3.9906   8.6624  \n",
              "8    1.4298  14.7510  1.6395  19.5114  \n",
              "9    0.5543   6.3160  1.0371  16.2375  \n",
              "10   7.2780   8.0819  0.2139  14.2914  \n",
              "11  -0.8901   2.6559 -0.0503  16.7498  \n",
              "12   0.3782   7.4382  0.0854  17.0938  \n",
              "13   7.4002   7.4031  4.3989  15.6064  \n",
              "14   1.0740   8.3220  3.2619  24.4479  \n",
              "15  -3.4195   0.8829 -1.9859  12.9116  \n",
              "16   0.2717   7.2854  0.5670  20.2548  \n",
              "17   7.4363  11.3072  3.7903  19.4505  \n",
              "18   9.1843   2.6812  1.8587  17.1516  \n",
              "19   5.9745   6.3267  2.5156  14.7352  \n",
              "\n",
              "[20 rows x 53 columns]"
            ],
            "text/html": [
              "\n",
              "  <div id=\"df-802119e1-4c03-4380-b121-59757ae7eff9\" class=\"colab-df-container\">\n",
              "    <div>\n",
              "<style scoped>\n",
              "    .dataframe tbody tr th:only-of-type {\n",
              "        vertical-align: middle;\n",
              "    }\n",
              "\n",
              "    .dataframe tbody tr th {\n",
              "        vertical-align: top;\n",
              "    }\n",
              "\n",
              "    .dataframe thead th {\n",
              "        text-align: right;\n",
              "    }\n",
              "</style>\n",
              "<table border=\"1\" class=\"dataframe\">\n",
              "  <thead>\n",
              "    <tr style=\"text-align: right;\">\n",
              "      <th></th>\n",
              "      <th>Unnamed: 0</th>\n",
              "      <th>ID_code</th>\n",
              "      <th>target</th>\n",
              "      <th>var_0</th>\n",
              "      <th>var_1</th>\n",
              "      <th>var_2</th>\n",
              "      <th>var_3</th>\n",
              "      <th>var_4</th>\n",
              "      <th>var_5</th>\n",
              "      <th>var_6</th>\n",
              "      <th>...</th>\n",
              "      <th>var_40</th>\n",
              "      <th>var_41</th>\n",
              "      <th>var_42</th>\n",
              "      <th>var_43</th>\n",
              "      <th>var_44</th>\n",
              "      <th>var_45</th>\n",
              "      <th>var_46</th>\n",
              "      <th>var_47</th>\n",
              "      <th>var_48</th>\n",
              "      <th>var_49</th>\n",
              "    </tr>\n",
              "  </thead>\n",
              "  <tbody>\n",
              "    <tr>\n",
              "      <th>0</th>\n",
              "      <td>0</td>\n",
              "      <td>train_0</td>\n",
              "      <td>0</td>\n",
              "      <td>8.9255</td>\n",
              "      <td>-6.7863</td>\n",
              "      <td>11.9081</td>\n",
              "      <td>5.1187</td>\n",
              "      <td>5.7470</td>\n",
              "      <td>14.0137</td>\n",
              "      <td>0.5745</td>\n",
              "      <td>...</td>\n",
              "      <td>5.4879</td>\n",
              "      <td>-4.7645</td>\n",
              "      <td>3.1531</td>\n",
              "      <td>18.5618</td>\n",
              "      <td>1.7202</td>\n",
              "      <td>25.8398</td>\n",
              "      <td>4.4354</td>\n",
              "      <td>3.9642</td>\n",
              "      <td>3.1364</td>\n",
              "      <td>12.7803</td>\n",
              "    </tr>\n",
              "    <tr>\n",
              "      <th>1</th>\n",
              "      <td>1</td>\n",
              "      <td>train_1</td>\n",
              "      <td>0</td>\n",
              "      <td>11.5006</td>\n",
              "      <td>-4.1473</td>\n",
              "      <td>13.8588</td>\n",
              "      <td>5.6208</td>\n",
              "      <td>8.0851</td>\n",
              "      <td>14.0239</td>\n",
              "      <td>8.4135</td>\n",
              "      <td>...</td>\n",
              "      <td>5.7999</td>\n",
              "      <td>5.5378</td>\n",
              "      <td>5.5134</td>\n",
              "      <td>30.2645</td>\n",
              "      <td>11.0752</td>\n",
              "      <td>22.5441</td>\n",
              "      <td>7.6421</td>\n",
              "      <td>7.7214</td>\n",
              "      <td>2.5837</td>\n",
              "      <td>18.3560</td>\n",
              "    </tr>\n",
              "    <tr>\n",
              "      <th>2</th>\n",
              "      <td>2</td>\n",
              "      <td>train_2</td>\n",
              "      <td>0</td>\n",
              "      <td>8.6093</td>\n",
              "      <td>-2.7457</td>\n",
              "      <td>12.0805</td>\n",
              "      <td>6.9427</td>\n",
              "      <td>5.9525</td>\n",
              "      <td>14.1929</td>\n",
              "      <td>7.3124</td>\n",
              "      <td>...</td>\n",
              "      <td>5.7690</td>\n",
              "      <td>-7.0927</td>\n",
              "      <td>-5.8234</td>\n",
              "      <td>25.6820</td>\n",
              "      <td>2.4013</td>\n",
              "      <td>23.0866</td>\n",
              "      <td>2.9057</td>\n",
              "      <td>9.7905</td>\n",
              "      <td>1.6704</td>\n",
              "      <td>14.7222</td>\n",
              "    </tr>\n",
              "    <tr>\n",
              "      <th>3</th>\n",
              "      <td>3</td>\n",
              "      <td>train_3</td>\n",
              "      <td>0</td>\n",
              "      <td>11.0604</td>\n",
              "      <td>-2.1518</td>\n",
              "      <td>8.9522</td>\n",
              "      <td>5.8428</td>\n",
              "      <td>8.2450</td>\n",
              "      <td>13.8463</td>\n",
              "      <td>11.9704</td>\n",
              "      <td>...</td>\n",
              "      <td>5.3430</td>\n",
              "      <td>-7.1541</td>\n",
              "      <td>11.7134</td>\n",
              "      <td>14.7483</td>\n",
              "      <td>5.6961</td>\n",
              "      <td>-0.4639</td>\n",
              "      <td>4.4666</td>\n",
              "      <td>4.7433</td>\n",
              "      <td>0.7178</td>\n",
              "      <td>17.9697</td>\n",
              "    </tr>\n",
              "    <tr>\n",
              "      <th>4</th>\n",
              "      <td>4</td>\n",
              "      <td>train_4</td>\n",
              "      <td>0</td>\n",
              "      <td>9.8369</td>\n",
              "      <td>-1.4834</td>\n",
              "      <td>12.8746</td>\n",
              "      <td>5.9405</td>\n",
              "      <td>7.6784</td>\n",
              "      <td>13.8481</td>\n",
              "      <td>7.8895</td>\n",
              "      <td>...</td>\n",
              "      <td>5.5518</td>\n",
              "      <td>1.4493</td>\n",
              "      <td>2.3705</td>\n",
              "      <td>18.4685</td>\n",
              "      <td>5.1743</td>\n",
              "      <td>11.8503</td>\n",
              "      <td>-1.4905</td>\n",
              "      <td>9.5214</td>\n",
              "      <td>-0.1508</td>\n",
              "      <td>17.9974</td>\n",
              "    </tr>\n",
              "    <tr>\n",
              "      <th>5</th>\n",
              "      <td>5</td>\n",
              "      <td>train_5</td>\n",
              "      <td>0</td>\n",
              "      <td>11.4763</td>\n",
              "      <td>-2.3182</td>\n",
              "      <td>12.6080</td>\n",
              "      <td>4.5322</td>\n",
              "      <td>5.9790</td>\n",
              "      <td>13.6380</td>\n",
              "      <td>1.2589</td>\n",
              "      <td>...</td>\n",
              "      <td>5.9714</td>\n",
              "      <td>-6.1449</td>\n",
              "      <td>1.4457</td>\n",
              "      <td>21.8853</td>\n",
              "      <td>1.0208</td>\n",
              "      <td>21.0550</td>\n",
              "      <td>-6.3068</td>\n",
              "      <td>6.6025</td>\n",
              "      <td>5.2912</td>\n",
              "      <td>12.5809</td>\n",
              "    </tr>\n",
              "    <tr>\n",
              "      <th>6</th>\n",
              "      <td>6</td>\n",
              "      <td>train_6</td>\n",
              "      <td>0</td>\n",
              "      <td>11.8091</td>\n",
              "      <td>-0.0832</td>\n",
              "      <td>9.3494</td>\n",
              "      <td>6.1961</td>\n",
              "      <td>7.9232</td>\n",
              "      <td>14.1629</td>\n",
              "      <td>13.3058</td>\n",
              "      <td>...</td>\n",
              "      <td>6.1887</td>\n",
              "      <td>0.2619</td>\n",
              "      <td>2.6965</td>\n",
              "      <td>17.0152</td>\n",
              "      <td>3.8973</td>\n",
              "      <td>11.9140</td>\n",
              "      <td>8.7830</td>\n",
              "      <td>6.4521</td>\n",
              "      <td>3.5325</td>\n",
              "      <td>10.8869</td>\n",
              "    </tr>\n",
              "    <tr>\n",
              "      <th>7</th>\n",
              "      <td>7</td>\n",
              "      <td>train_7</td>\n",
              "      <td>0</td>\n",
              "      <td>13.5580</td>\n",
              "      <td>-7.9881</td>\n",
              "      <td>13.8776</td>\n",
              "      <td>5.6890</td>\n",
              "      <td>7.1971</td>\n",
              "      <td>14.2919</td>\n",
              "      <td>10.9699</td>\n",
              "      <td>...</td>\n",
              "      <td>5.2273</td>\n",
              "      <td>8.9519</td>\n",
              "      <td>0.0876</td>\n",
              "      <td>19.5642</td>\n",
              "      <td>0.0592</td>\n",
              "      <td>24.0369</td>\n",
              "      <td>13.1700</td>\n",
              "      <td>6.5491</td>\n",
              "      <td>3.9906</td>\n",
              "      <td>8.6624</td>\n",
              "    </tr>\n",
              "    <tr>\n",
              "      <th>8</th>\n",
              "      <td>8</td>\n",
              "      <td>train_8</td>\n",
              "      <td>0</td>\n",
              "      <td>16.1071</td>\n",
              "      <td>2.4426</td>\n",
              "      <td>13.9307</td>\n",
              "      <td>4.4514</td>\n",
              "      <td>9.0827</td>\n",
              "      <td>14.0654</td>\n",
              "      <td>-3.0572</td>\n",
              "      <td>...</td>\n",
              "      <td>5.9018</td>\n",
              "      <td>3.1838</td>\n",
              "      <td>3.5803</td>\n",
              "      <td>32.9149</td>\n",
              "      <td>-2.1408</td>\n",
              "      <td>-1.7937</td>\n",
              "      <td>1.4298</td>\n",
              "      <td>14.7510</td>\n",
              "      <td>1.6395</td>\n",
              "      <td>19.5114</td>\n",
              "    </tr>\n",
              "    <tr>\n",
              "      <th>9</th>\n",
              "      <td>9</td>\n",
              "      <td>train_9</td>\n",
              "      <td>0</td>\n",
              "      <td>12.5088</td>\n",
              "      <td>1.9743</td>\n",
              "      <td>8.8960</td>\n",
              "      <td>6.0637</td>\n",
              "      <td>7.9682</td>\n",
              "      <td>13.9639</td>\n",
              "      <td>0.8071</td>\n",
              "      <td>...</td>\n",
              "      <td>5.8540</td>\n",
              "      <td>-3.0868</td>\n",
              "      <td>-4.5382</td>\n",
              "      <td>18.2209</td>\n",
              "      <td>2.3910</td>\n",
              "      <td>19.0645</td>\n",
              "      <td>0.5543</td>\n",
              "      <td>6.3160</td>\n",
              "      <td>1.0371</td>\n",
              "      <td>16.2375</td>\n",
              "    </tr>\n",
              "    <tr>\n",
              "      <th>10</th>\n",
              "      <td>10</td>\n",
              "      <td>train_10</td>\n",
              "      <td>0</td>\n",
              "      <td>5.0702</td>\n",
              "      <td>-0.5447</td>\n",
              "      <td>9.5900</td>\n",
              "      <td>6.0382</td>\n",
              "      <td>7.3198</td>\n",
              "      <td>13.9059</td>\n",
              "      <td>9.0796</td>\n",
              "      <td>...</td>\n",
              "      <td>5.7487</td>\n",
              "      <td>0.4344</td>\n",
              "      <td>-3.5162</td>\n",
              "      <td>27.1062</td>\n",
              "      <td>3.9860</td>\n",
              "      <td>22.4111</td>\n",
              "      <td>7.2780</td>\n",
              "      <td>8.0819</td>\n",
              "      <td>0.2139</td>\n",
              "      <td>14.2914</td>\n",
              "    </tr>\n",
              "    <tr>\n",
              "      <th>11</th>\n",
              "      <td>11</td>\n",
              "      <td>train_11</td>\n",
              "      <td>0</td>\n",
              "      <td>12.7188</td>\n",
              "      <td>-7.9750</td>\n",
              "      <td>10.3757</td>\n",
              "      <td>5.6464</td>\n",
              "      <td>6.8093</td>\n",
              "      <td>13.6713</td>\n",
              "      <td>9.5331</td>\n",
              "      <td>...</td>\n",
              "      <td>5.7226</td>\n",
              "      <td>2.7449</td>\n",
              "      <td>-4.3861</td>\n",
              "      <td>22.4637</td>\n",
              "      <td>6.3811</td>\n",
              "      <td>14.7535</td>\n",
              "      <td>-0.8901</td>\n",
              "      <td>2.6559</td>\n",
              "      <td>-0.0503</td>\n",
              "      <td>16.7498</td>\n",
              "    </tr>\n",
              "    <tr>\n",
              "      <th>12</th>\n",
              "      <td>12</td>\n",
              "      <td>train_12</td>\n",
              "      <td>0</td>\n",
              "      <td>8.7671</td>\n",
              "      <td>-4.6154</td>\n",
              "      <td>9.7242</td>\n",
              "      <td>6.2815</td>\n",
              "      <td>6.0197</td>\n",
              "      <td>14.1985</td>\n",
              "      <td>9.6978</td>\n",
              "      <td>...</td>\n",
              "      <td>5.4729</td>\n",
              "      <td>3.2530</td>\n",
              "      <td>-1.3783</td>\n",
              "      <td>27.0374</td>\n",
              "      <td>-1.2209</td>\n",
              "      <td>-0.5242</td>\n",
              "      <td>0.3782</td>\n",
              "      <td>7.4382</td>\n",
              "      <td>0.0854</td>\n",
              "      <td>17.0938</td>\n",
              "    </tr>\n",
              "    <tr>\n",
              "      <th>13</th>\n",
              "      <td>13</td>\n",
              "      <td>train_13</td>\n",
              "      <td>1</td>\n",
              "      <td>16.3699</td>\n",
              "      <td>1.5934</td>\n",
              "      <td>16.7395</td>\n",
              "      <td>4.8222</td>\n",
              "      <td>8.6978</td>\n",
              "      <td>13.7999</td>\n",
              "      <td>2.7925</td>\n",
              "      <td>...</td>\n",
              "      <td>5.6656</td>\n",
              "      <td>3.5750</td>\n",
              "      <td>-2.2723</td>\n",
              "      <td>15.7383</td>\n",
              "      <td>8.5618</td>\n",
              "      <td>11.8982</td>\n",
              "      <td>7.4002</td>\n",
              "      <td>7.4031</td>\n",
              "      <td>4.3989</td>\n",
              "      <td>15.6064</td>\n",
              "    </tr>\n",
              "    <tr>\n",
              "      <th>14</th>\n",
              "      <td>14</td>\n",
              "      <td>train_14</td>\n",
              "      <td>0</td>\n",
              "      <td>13.8080</td>\n",
              "      <td>5.0514</td>\n",
              "      <td>17.2611</td>\n",
              "      <td>5.7327</td>\n",
              "      <td>6.8116</td>\n",
              "      <td>13.9241</td>\n",
              "      <td>10.3896</td>\n",
              "      <td>...</td>\n",
              "      <td>5.1196</td>\n",
              "      <td>-2.4897</td>\n",
              "      <td>3.8015</td>\n",
              "      <td>26.2032</td>\n",
              "      <td>3.2684</td>\n",
              "      <td>30.8736</td>\n",
              "      <td>1.0740</td>\n",
              "      <td>8.3220</td>\n",
              "      <td>3.2619</td>\n",
              "      <td>24.4479</td>\n",
              "    </tr>\n",
              "    <tr>\n",
              "      <th>15</th>\n",
              "      <td>15</td>\n",
              "      <td>train_15</td>\n",
              "      <td>0</td>\n",
              "      <td>3.9416</td>\n",
              "      <td>2.6562</td>\n",
              "      <td>13.3633</td>\n",
              "      <td>5.6979</td>\n",
              "      <td>7.1290</td>\n",
              "      <td>14.1446</td>\n",
              "      <td>5.2403</td>\n",
              "      <td>...</td>\n",
              "      <td>6.0198</td>\n",
              "      <td>7.9611</td>\n",
              "      <td>-9.9688</td>\n",
              "      <td>20.8953</td>\n",
              "      <td>1.4850</td>\n",
              "      <td>4.2341</td>\n",
              "      <td>-3.4195</td>\n",
              "      <td>0.8829</td>\n",
              "      <td>-1.9859</td>\n",
              "      <td>12.9116</td>\n",
              "    </tr>\n",
              "    <tr>\n",
              "      <th>16</th>\n",
              "      <td>16</td>\n",
              "      <td>train_16</td>\n",
              "      <td>0</td>\n",
              "      <td>5.0615</td>\n",
              "      <td>0.2689</td>\n",
              "      <td>15.1325</td>\n",
              "      <td>5.2757</td>\n",
              "      <td>9.4701</td>\n",
              "      <td>14.1209</td>\n",
              "      <td>13.1612</td>\n",
              "      <td>...</td>\n",
              "      <td>5.9901</td>\n",
              "      <td>1.0695</td>\n",
              "      <td>1.7808</td>\n",
              "      <td>30.1243</td>\n",
              "      <td>1.1569</td>\n",
              "      <td>19.3315</td>\n",
              "      <td>0.2717</td>\n",
              "      <td>7.2854</td>\n",
              "      <td>0.5670</td>\n",
              "      <td>20.2548</td>\n",
              "    </tr>\n",
              "    <tr>\n",
              "      <th>17</th>\n",
              "      <td>17</td>\n",
              "      <td>train_17</td>\n",
              "      <td>0</td>\n",
              "      <td>8.4199</td>\n",
              "      <td>-1.8128</td>\n",
              "      <td>8.1202</td>\n",
              "      <td>4.0959</td>\n",
              "      <td>7.0967</td>\n",
              "      <td>13.9721</td>\n",
              "      <td>9.7421</td>\n",
              "      <td>...</td>\n",
              "      <td>5.5853</td>\n",
              "      <td>3.6524</td>\n",
              "      <td>-15.3140</td>\n",
              "      <td>10.0939</td>\n",
              "      <td>-2.0261</td>\n",
              "      <td>9.3832</td>\n",
              "      <td>7.4363</td>\n",
              "      <td>11.3072</td>\n",
              "      <td>3.7903</td>\n",
              "      <td>19.4505</td>\n",
              "    </tr>\n",
              "    <tr>\n",
              "      <th>18</th>\n",
              "      <td>18</td>\n",
              "      <td>train_18</td>\n",
              "      <td>0</td>\n",
              "      <td>4.8750</td>\n",
              "      <td>1.2646</td>\n",
              "      <td>11.9190</td>\n",
              "      <td>5.6103</td>\n",
              "      <td>8.4254</td>\n",
              "      <td>13.9686</td>\n",
              "      <td>12.5741</td>\n",
              "      <td>...</td>\n",
              "      <td>5.8174</td>\n",
              "      <td>1.8296</td>\n",
              "      <td>2.2611</td>\n",
              "      <td>10.8713</td>\n",
              "      <td>-0.7835</td>\n",
              "      <td>12.6041</td>\n",
              "      <td>9.1843</td>\n",
              "      <td>2.6812</td>\n",
              "      <td>1.8587</td>\n",
              "      <td>17.1516</td>\n",
              "    </tr>\n",
              "    <tr>\n",
              "      <th>19</th>\n",
              "      <td>19</td>\n",
              "      <td>train_19</td>\n",
              "      <td>0</td>\n",
              "      <td>4.4090</td>\n",
              "      <td>-0.7863</td>\n",
              "      <td>15.1828</td>\n",
              "      <td>6.3801</td>\n",
              "      <td>8.2108</td>\n",
              "      <td>14.3029</td>\n",
              "      <td>6.4895</td>\n",
              "      <td>...</td>\n",
              "      <td>5.6950</td>\n",
              "      <td>-7.8712</td>\n",
              "      <td>1.9240</td>\n",
              "      <td>25.2396</td>\n",
              "      <td>3.3728</td>\n",
              "      <td>11.7440</td>\n",
              "      <td>5.9745</td>\n",
              "      <td>6.3267</td>\n",
              "      <td>2.5156</td>\n",
              "      <td>14.7352</td>\n",
              "    </tr>\n",
              "  </tbody>\n",
              "</table>\n",
              "<p>20 rows × 53 columns</p>\n",
              "</div>\n",
              "    <div class=\"colab-df-buttons\">\n",
              "\n",
              "  <div class=\"colab-df-container\">\n",
              "    <button class=\"colab-df-convert\" onclick=\"convertToInteractive('df-802119e1-4c03-4380-b121-59757ae7eff9')\"\n",
              "            title=\"Convert this dataframe to an interactive table.\"\n",
              "            style=\"display:none;\">\n",
              "\n",
              "  <svg xmlns=\"http://www.w3.org/2000/svg\" height=\"24px\" viewBox=\"0 -960 960 960\">\n",
              "    <path d=\"M120-120v-720h720v720H120Zm60-500h600v-160H180v160Zm220 220h160v-160H400v160Zm0 220h160v-160H400v160ZM180-400h160v-160H180v160Zm440 0h160v-160H620v160ZM180-180h160v-160H180v160Zm440 0h160v-160H620v160Z\"/>\n",
              "  </svg>\n",
              "    </button>\n",
              "\n",
              "  <style>\n",
              "    .colab-df-container {\n",
              "      display:flex;\n",
              "      gap: 12px;\n",
              "    }\n",
              "\n",
              "    .colab-df-convert {\n",
              "      background-color: #E8F0FE;\n",
              "      border: none;\n",
              "      border-radius: 50%;\n",
              "      cursor: pointer;\n",
              "      display: none;\n",
              "      fill: #1967D2;\n",
              "      height: 32px;\n",
              "      padding: 0 0 0 0;\n",
              "      width: 32px;\n",
              "    }\n",
              "\n",
              "    .colab-df-convert:hover {\n",
              "      background-color: #E2EBFA;\n",
              "      box-shadow: 0px 1px 2px rgba(60, 64, 67, 0.3), 0px 1px 3px 1px rgba(60, 64, 67, 0.15);\n",
              "      fill: #174EA6;\n",
              "    }\n",
              "\n",
              "    .colab-df-buttons div {\n",
              "      margin-bottom: 4px;\n",
              "    }\n",
              "\n",
              "    [theme=dark] .colab-df-convert {\n",
              "      background-color: #3B4455;\n",
              "      fill: #D2E3FC;\n",
              "    }\n",
              "\n",
              "    [theme=dark] .colab-df-convert:hover {\n",
              "      background-color: #434B5C;\n",
              "      box-shadow: 0px 1px 3px 1px rgba(0, 0, 0, 0.15);\n",
              "      filter: drop-shadow(0px 1px 2px rgba(0, 0, 0, 0.3));\n",
              "      fill: #FFFFFF;\n",
              "    }\n",
              "  </style>\n",
              "\n",
              "    <script>\n",
              "      const buttonEl =\n",
              "        document.querySelector('#df-802119e1-4c03-4380-b121-59757ae7eff9 button.colab-df-convert');\n",
              "      buttonEl.style.display =\n",
              "        google.colab.kernel.accessAllowed ? 'block' : 'none';\n",
              "\n",
              "      async function convertToInteractive(key) {\n",
              "        const element = document.querySelector('#df-802119e1-4c03-4380-b121-59757ae7eff9');\n",
              "        const dataTable =\n",
              "          await google.colab.kernel.invokeFunction('convertToInteractive',\n",
              "                                                    [key], {});\n",
              "        if (!dataTable) return;\n",
              "\n",
              "        const docLinkHtml = 'Like what you see? Visit the ' +\n",
              "          '<a target=\"_blank\" href=https://colab.research.google.com/notebooks/data_table.ipynb>data table notebook</a>'\n",
              "          + ' to learn more about interactive tables.';\n",
              "        element.innerHTML = '';\n",
              "        dataTable['output_type'] = 'display_data';\n",
              "        await google.colab.output.renderOutput(dataTable, element);\n",
              "        const docLink = document.createElement('div');\n",
              "        docLink.innerHTML = docLinkHtml;\n",
              "        element.appendChild(docLink);\n",
              "      }\n",
              "    </script>\n",
              "  </div>\n",
              "\n",
              "\n",
              "<div id=\"df-4af3242f-f72f-4c1b-9948-43878aaff7e7\">\n",
              "  <button class=\"colab-df-quickchart\" onclick=\"quickchart('df-4af3242f-f72f-4c1b-9948-43878aaff7e7')\"\n",
              "            title=\"Suggest charts\"\n",
              "            style=\"display:none;\">\n",
              "\n",
              "<svg xmlns=\"http://www.w3.org/2000/svg\" height=\"24px\"viewBox=\"0 0 24 24\"\n",
              "     width=\"24px\">\n",
              "    <g>\n",
              "        <path d=\"M19 3H5c-1.1 0-2 .9-2 2v14c0 1.1.9 2 2 2h14c1.1 0 2-.9 2-2V5c0-1.1-.9-2-2-2zM9 17H7v-7h2v7zm4 0h-2V7h2v10zm4 0h-2v-4h2v4z\"/>\n",
              "    </g>\n",
              "</svg>\n",
              "  </button>\n",
              "\n",
              "<style>\n",
              "  .colab-df-quickchart {\n",
              "      --bg-color: #E8F0FE;\n",
              "      --fill-color: #1967D2;\n",
              "      --hover-bg-color: #E2EBFA;\n",
              "      --hover-fill-color: #174EA6;\n",
              "      --disabled-fill-color: #AAA;\n",
              "      --disabled-bg-color: #DDD;\n",
              "  }\n",
              "\n",
              "  [theme=dark] .colab-df-quickchart {\n",
              "      --bg-color: #3B4455;\n",
              "      --fill-color: #D2E3FC;\n",
              "      --hover-bg-color: #434B5C;\n",
              "      --hover-fill-color: #FFFFFF;\n",
              "      --disabled-bg-color: #3B4455;\n",
              "      --disabled-fill-color: #666;\n",
              "  }\n",
              "\n",
              "  .colab-df-quickchart {\n",
              "    background-color: var(--bg-color);\n",
              "    border: none;\n",
              "    border-radius: 50%;\n",
              "    cursor: pointer;\n",
              "    display: none;\n",
              "    fill: var(--fill-color);\n",
              "    height: 32px;\n",
              "    padding: 0;\n",
              "    width: 32px;\n",
              "  }\n",
              "\n",
              "  .colab-df-quickchart:hover {\n",
              "    background-color: var(--hover-bg-color);\n",
              "    box-shadow: 0 1px 2px rgba(60, 64, 67, 0.3), 0 1px 3px 1px rgba(60, 64, 67, 0.15);\n",
              "    fill: var(--button-hover-fill-color);\n",
              "  }\n",
              "\n",
              "  .colab-df-quickchart-complete:disabled,\n",
              "  .colab-df-quickchart-complete:disabled:hover {\n",
              "    background-color: var(--disabled-bg-color);\n",
              "    fill: var(--disabled-fill-color);\n",
              "    box-shadow: none;\n",
              "  }\n",
              "\n",
              "  .colab-df-spinner {\n",
              "    border: 2px solid var(--fill-color);\n",
              "    border-color: transparent;\n",
              "    border-bottom-color: var(--fill-color);\n",
              "    animation:\n",
              "      spin 1s steps(1) infinite;\n",
              "  }\n",
              "\n",
              "  @keyframes spin {\n",
              "    0% {\n",
              "      border-color: transparent;\n",
              "      border-bottom-color: var(--fill-color);\n",
              "      border-left-color: var(--fill-color);\n",
              "    }\n",
              "    20% {\n",
              "      border-color: transparent;\n",
              "      border-left-color: var(--fill-color);\n",
              "      border-top-color: var(--fill-color);\n",
              "    }\n",
              "    30% {\n",
              "      border-color: transparent;\n",
              "      border-left-color: var(--fill-color);\n",
              "      border-top-color: var(--fill-color);\n",
              "      border-right-color: var(--fill-color);\n",
              "    }\n",
              "    40% {\n",
              "      border-color: transparent;\n",
              "      border-right-color: var(--fill-color);\n",
              "      border-top-color: var(--fill-color);\n",
              "    }\n",
              "    60% {\n",
              "      border-color: transparent;\n",
              "      border-right-color: var(--fill-color);\n",
              "    }\n",
              "    80% {\n",
              "      border-color: transparent;\n",
              "      border-right-color: var(--fill-color);\n",
              "      border-bottom-color: var(--fill-color);\n",
              "    }\n",
              "    90% {\n",
              "      border-color: transparent;\n",
              "      border-bottom-color: var(--fill-color);\n",
              "    }\n",
              "  }\n",
              "</style>\n",
              "\n",
              "  <script>\n",
              "    async function quickchart(key) {\n",
              "      const quickchartButtonEl =\n",
              "        document.querySelector('#' + key + ' button');\n",
              "      quickchartButtonEl.disabled = true;  // To prevent multiple clicks.\n",
              "      quickchartButtonEl.classList.add('colab-df-spinner');\n",
              "      try {\n",
              "        const charts = await google.colab.kernel.invokeFunction(\n",
              "            'suggestCharts', [key], {});\n",
              "      } catch (error) {\n",
              "        console.error('Error during call to suggestCharts:', error);\n",
              "      }\n",
              "      quickchartButtonEl.classList.remove('colab-df-spinner');\n",
              "      quickchartButtonEl.classList.add('colab-df-quickchart-complete');\n",
              "    }\n",
              "    (() => {\n",
              "      let quickchartButtonEl =\n",
              "        document.querySelector('#df-4af3242f-f72f-4c1b-9948-43878aaff7e7 button');\n",
              "      quickchartButtonEl.style.display =\n",
              "        google.colab.kernel.accessAllowed ? 'block' : 'none';\n",
              "    })();\n",
              "  </script>\n",
              "</div>\n",
              "\n",
              "    </div>\n",
              "  </div>\n"
            ],
            "application/vnd.google.colaboratory.intrinsic+json": {
              "type": "dataframe",
              "variable_name": "transactions"
            }
          },
          "metadata": {},
          "execution_count": 4
        }
      ]
    },
    {
      "cell_type": "code",
      "source": [
        "transactions.tail() ;"
      ],
      "metadata": {
        "id": "mcxMDA4namh_"
      },
      "execution_count": null,
      "outputs": []
    },
    {
      "cell_type": "code",
      "source": [
        "null_checl = transactions.info();"
      ],
      "metadata": {
        "id": "k4Q6cbo42paj"
      },
      "execution_count": null,
      "outputs": []
    },
    {
      "cell_type": "code",
      "source": [
        "#check for \"zero\" values\n",
        "for var in range(49):\n",
        "  zero_check = transactions[f'var_{var}'] == 0\n",
        "  print(zero_check.value_counts()) ;"
      ],
      "metadata": {
        "id": "GRN12c6CbMtu"
      },
      "execution_count": null,
      "outputs": []
    },
    {
      "cell_type": "code",
      "source": [
        "transactions.describe().transpose().head()"
      ],
      "metadata": {
        "id": "I3Pf9xTsaLmR",
        "colab": {
          "base_uri": "https://localhost:8080/",
          "height": 206
        },
        "outputId": "af364c82-2eaf-4a37-ae93-dd34e6810c32"
      },
      "execution_count": null,
      "outputs": [
        {
          "output_type": "execute_result",
          "data": {
            "text/plain": [
              "               count          mean           std      min           25%  \\\n",
              "Unnamed: 0  180000.0  89999.500000  51961.668564   0.0000  44999.750000   \n",
              "target      180000.0      0.100222      0.300297   0.0000      0.000000   \n",
              "var_0       180000.0     10.678650      3.041036   0.4084      8.451675   \n",
              "var_1       180000.0     -1.630045      4.050519 -15.0434     -4.745600   \n",
              "var_2       180000.0     10.712922      2.639146   2.1171      8.720000   \n",
              "\n",
              "                    50%            75%          max  \n",
              "Unnamed: 0  89999.50000  134999.250000  179999.0000  \n",
              "target          0.00000       0.000000       1.0000  \n",
              "var_0          10.52675      12.756200      20.3150  \n",
              "var_1          -1.61125       1.360225      10.3768  \n",
              "var_2          10.57960      12.514100      19.3530  "
            ],
            "text/html": [
              "\n",
              "  <div id=\"df-07eb3cee-065b-4e0e-92dc-34cbb98ebf92\" class=\"colab-df-container\">\n",
              "    <div>\n",
              "<style scoped>\n",
              "    .dataframe tbody tr th:only-of-type {\n",
              "        vertical-align: middle;\n",
              "    }\n",
              "\n",
              "    .dataframe tbody tr th {\n",
              "        vertical-align: top;\n",
              "    }\n",
              "\n",
              "    .dataframe thead th {\n",
              "        text-align: right;\n",
              "    }\n",
              "</style>\n",
              "<table border=\"1\" class=\"dataframe\">\n",
              "  <thead>\n",
              "    <tr style=\"text-align: right;\">\n",
              "      <th></th>\n",
              "      <th>count</th>\n",
              "      <th>mean</th>\n",
              "      <th>std</th>\n",
              "      <th>min</th>\n",
              "      <th>25%</th>\n",
              "      <th>50%</th>\n",
              "      <th>75%</th>\n",
              "      <th>max</th>\n",
              "    </tr>\n",
              "  </thead>\n",
              "  <tbody>\n",
              "    <tr>\n",
              "      <th>Unnamed: 0</th>\n",
              "      <td>180000.0</td>\n",
              "      <td>89999.500000</td>\n",
              "      <td>51961.668564</td>\n",
              "      <td>0.0000</td>\n",
              "      <td>44999.750000</td>\n",
              "      <td>89999.50000</td>\n",
              "      <td>134999.250000</td>\n",
              "      <td>179999.0000</td>\n",
              "    </tr>\n",
              "    <tr>\n",
              "      <th>target</th>\n",
              "      <td>180000.0</td>\n",
              "      <td>0.100222</td>\n",
              "      <td>0.300297</td>\n",
              "      <td>0.0000</td>\n",
              "      <td>0.000000</td>\n",
              "      <td>0.00000</td>\n",
              "      <td>0.000000</td>\n",
              "      <td>1.0000</td>\n",
              "    </tr>\n",
              "    <tr>\n",
              "      <th>var_0</th>\n",
              "      <td>180000.0</td>\n",
              "      <td>10.678650</td>\n",
              "      <td>3.041036</td>\n",
              "      <td>0.4084</td>\n",
              "      <td>8.451675</td>\n",
              "      <td>10.52675</td>\n",
              "      <td>12.756200</td>\n",
              "      <td>20.3150</td>\n",
              "    </tr>\n",
              "    <tr>\n",
              "      <th>var_1</th>\n",
              "      <td>180000.0</td>\n",
              "      <td>-1.630045</td>\n",
              "      <td>4.050519</td>\n",
              "      <td>-15.0434</td>\n",
              "      <td>-4.745600</td>\n",
              "      <td>-1.61125</td>\n",
              "      <td>1.360225</td>\n",
              "      <td>10.3768</td>\n",
              "    </tr>\n",
              "    <tr>\n",
              "      <th>var_2</th>\n",
              "      <td>180000.0</td>\n",
              "      <td>10.712922</td>\n",
              "      <td>2.639146</td>\n",
              "      <td>2.1171</td>\n",
              "      <td>8.720000</td>\n",
              "      <td>10.57960</td>\n",
              "      <td>12.514100</td>\n",
              "      <td>19.3530</td>\n",
              "    </tr>\n",
              "  </tbody>\n",
              "</table>\n",
              "</div>\n",
              "    <div class=\"colab-df-buttons\">\n",
              "\n",
              "  <div class=\"colab-df-container\">\n",
              "    <button class=\"colab-df-convert\" onclick=\"convertToInteractive('df-07eb3cee-065b-4e0e-92dc-34cbb98ebf92')\"\n",
              "            title=\"Convert this dataframe to an interactive table.\"\n",
              "            style=\"display:none;\">\n",
              "\n",
              "  <svg xmlns=\"http://www.w3.org/2000/svg\" height=\"24px\" viewBox=\"0 -960 960 960\">\n",
              "    <path d=\"M120-120v-720h720v720H120Zm60-500h600v-160H180v160Zm220 220h160v-160H400v160Zm0 220h160v-160H400v160ZM180-400h160v-160H180v160Zm440 0h160v-160H620v160ZM180-180h160v-160H180v160Zm440 0h160v-160H620v160Z\"/>\n",
              "  </svg>\n",
              "    </button>\n",
              "\n",
              "  <style>\n",
              "    .colab-df-container {\n",
              "      display:flex;\n",
              "      gap: 12px;\n",
              "    }\n",
              "\n",
              "    .colab-df-convert {\n",
              "      background-color: #E8F0FE;\n",
              "      border: none;\n",
              "      border-radius: 50%;\n",
              "      cursor: pointer;\n",
              "      display: none;\n",
              "      fill: #1967D2;\n",
              "      height: 32px;\n",
              "      padding: 0 0 0 0;\n",
              "      width: 32px;\n",
              "    }\n",
              "\n",
              "    .colab-df-convert:hover {\n",
              "      background-color: #E2EBFA;\n",
              "      box-shadow: 0px 1px 2px rgba(60, 64, 67, 0.3), 0px 1px 3px 1px rgba(60, 64, 67, 0.15);\n",
              "      fill: #174EA6;\n",
              "    }\n",
              "\n",
              "    .colab-df-buttons div {\n",
              "      margin-bottom: 4px;\n",
              "    }\n",
              "\n",
              "    [theme=dark] .colab-df-convert {\n",
              "      background-color: #3B4455;\n",
              "      fill: #D2E3FC;\n",
              "    }\n",
              "\n",
              "    [theme=dark] .colab-df-convert:hover {\n",
              "      background-color: #434B5C;\n",
              "      box-shadow: 0px 1px 3px 1px rgba(0, 0, 0, 0.15);\n",
              "      filter: drop-shadow(0px 1px 2px rgba(0, 0, 0, 0.3));\n",
              "      fill: #FFFFFF;\n",
              "    }\n",
              "  </style>\n",
              "\n",
              "    <script>\n",
              "      const buttonEl =\n",
              "        document.querySelector('#df-07eb3cee-065b-4e0e-92dc-34cbb98ebf92 button.colab-df-convert');\n",
              "      buttonEl.style.display =\n",
              "        google.colab.kernel.accessAllowed ? 'block' : 'none';\n",
              "\n",
              "      async function convertToInteractive(key) {\n",
              "        const element = document.querySelector('#df-07eb3cee-065b-4e0e-92dc-34cbb98ebf92');\n",
              "        const dataTable =\n",
              "          await google.colab.kernel.invokeFunction('convertToInteractive',\n",
              "                                                    [key], {});\n",
              "        if (!dataTable) return;\n",
              "\n",
              "        const docLinkHtml = 'Like what you see? Visit the ' +\n",
              "          '<a target=\"_blank\" href=https://colab.research.google.com/notebooks/data_table.ipynb>data table notebook</a>'\n",
              "          + ' to learn more about interactive tables.';\n",
              "        element.innerHTML = '';\n",
              "        dataTable['output_type'] = 'display_data';\n",
              "        await google.colab.output.renderOutput(dataTable, element);\n",
              "        const docLink = document.createElement('div');\n",
              "        docLink.innerHTML = docLinkHtml;\n",
              "        element.appendChild(docLink);\n",
              "      }\n",
              "    </script>\n",
              "  </div>\n",
              "\n",
              "\n",
              "<div id=\"df-5dd516e3-e465-445d-a573-88189277c163\">\n",
              "  <button class=\"colab-df-quickchart\" onclick=\"quickchart('df-5dd516e3-e465-445d-a573-88189277c163')\"\n",
              "            title=\"Suggest charts\"\n",
              "            style=\"display:none;\">\n",
              "\n",
              "<svg xmlns=\"http://www.w3.org/2000/svg\" height=\"24px\"viewBox=\"0 0 24 24\"\n",
              "     width=\"24px\">\n",
              "    <g>\n",
              "        <path d=\"M19 3H5c-1.1 0-2 .9-2 2v14c0 1.1.9 2 2 2h14c1.1 0 2-.9 2-2V5c0-1.1-.9-2-2-2zM9 17H7v-7h2v7zm4 0h-2V7h2v10zm4 0h-2v-4h2v4z\"/>\n",
              "    </g>\n",
              "</svg>\n",
              "  </button>\n",
              "\n",
              "<style>\n",
              "  .colab-df-quickchart {\n",
              "      --bg-color: #E8F0FE;\n",
              "      --fill-color: #1967D2;\n",
              "      --hover-bg-color: #E2EBFA;\n",
              "      --hover-fill-color: #174EA6;\n",
              "      --disabled-fill-color: #AAA;\n",
              "      --disabled-bg-color: #DDD;\n",
              "  }\n",
              "\n",
              "  [theme=dark] .colab-df-quickchart {\n",
              "      --bg-color: #3B4455;\n",
              "      --fill-color: #D2E3FC;\n",
              "      --hover-bg-color: #434B5C;\n",
              "      --hover-fill-color: #FFFFFF;\n",
              "      --disabled-bg-color: #3B4455;\n",
              "      --disabled-fill-color: #666;\n",
              "  }\n",
              "\n",
              "  .colab-df-quickchart {\n",
              "    background-color: var(--bg-color);\n",
              "    border: none;\n",
              "    border-radius: 50%;\n",
              "    cursor: pointer;\n",
              "    display: none;\n",
              "    fill: var(--fill-color);\n",
              "    height: 32px;\n",
              "    padding: 0;\n",
              "    width: 32px;\n",
              "  }\n",
              "\n",
              "  .colab-df-quickchart:hover {\n",
              "    background-color: var(--hover-bg-color);\n",
              "    box-shadow: 0 1px 2px rgba(60, 64, 67, 0.3), 0 1px 3px 1px rgba(60, 64, 67, 0.15);\n",
              "    fill: var(--button-hover-fill-color);\n",
              "  }\n",
              "\n",
              "  .colab-df-quickchart-complete:disabled,\n",
              "  .colab-df-quickchart-complete:disabled:hover {\n",
              "    background-color: var(--disabled-bg-color);\n",
              "    fill: var(--disabled-fill-color);\n",
              "    box-shadow: none;\n",
              "  }\n",
              "\n",
              "  .colab-df-spinner {\n",
              "    border: 2px solid var(--fill-color);\n",
              "    border-color: transparent;\n",
              "    border-bottom-color: var(--fill-color);\n",
              "    animation:\n",
              "      spin 1s steps(1) infinite;\n",
              "  }\n",
              "\n",
              "  @keyframes spin {\n",
              "    0% {\n",
              "      border-color: transparent;\n",
              "      border-bottom-color: var(--fill-color);\n",
              "      border-left-color: var(--fill-color);\n",
              "    }\n",
              "    20% {\n",
              "      border-color: transparent;\n",
              "      border-left-color: var(--fill-color);\n",
              "      border-top-color: var(--fill-color);\n",
              "    }\n",
              "    30% {\n",
              "      border-color: transparent;\n",
              "      border-left-color: var(--fill-color);\n",
              "      border-top-color: var(--fill-color);\n",
              "      border-right-color: var(--fill-color);\n",
              "    }\n",
              "    40% {\n",
              "      border-color: transparent;\n",
              "      border-right-color: var(--fill-color);\n",
              "      border-top-color: var(--fill-color);\n",
              "    }\n",
              "    60% {\n",
              "      border-color: transparent;\n",
              "      border-right-color: var(--fill-color);\n",
              "    }\n",
              "    80% {\n",
              "      border-color: transparent;\n",
              "      border-right-color: var(--fill-color);\n",
              "      border-bottom-color: var(--fill-color);\n",
              "    }\n",
              "    90% {\n",
              "      border-color: transparent;\n",
              "      border-bottom-color: var(--fill-color);\n",
              "    }\n",
              "  }\n",
              "</style>\n",
              "\n",
              "  <script>\n",
              "    async function quickchart(key) {\n",
              "      const quickchartButtonEl =\n",
              "        document.querySelector('#' + key + ' button');\n",
              "      quickchartButtonEl.disabled = true;  // To prevent multiple clicks.\n",
              "      quickchartButtonEl.classList.add('colab-df-spinner');\n",
              "      try {\n",
              "        const charts = await google.colab.kernel.invokeFunction(\n",
              "            'suggestCharts', [key], {});\n",
              "      } catch (error) {\n",
              "        console.error('Error during call to suggestCharts:', error);\n",
              "      }\n",
              "      quickchartButtonEl.classList.remove('colab-df-spinner');\n",
              "      quickchartButtonEl.classList.add('colab-df-quickchart-complete');\n",
              "    }\n",
              "    (() => {\n",
              "      let quickchartButtonEl =\n",
              "        document.querySelector('#df-5dd516e3-e465-445d-a573-88189277c163 button');\n",
              "      quickchartButtonEl.style.display =\n",
              "        google.colab.kernel.accessAllowed ? 'block' : 'none';\n",
              "    })();\n",
              "  </script>\n",
              "</div>\n",
              "\n",
              "    </div>\n",
              "  </div>\n"
            ],
            "application/vnd.google.colaboratory.intrinsic+json": {
              "type": "dataframe",
              "summary": "{\n  \"name\": \"transactions\",\n  \"rows\": 5,\n  \"fields\": [\n    {\n      \"column\": \"count\",\n      \"properties\": {\n        \"dtype\": \"number\",\n        \"std\": 0.0,\n        \"min\": 180000.0,\n        \"max\": 180000.0,\n        \"samples\": [\n          180000.0\n        ],\n        \"num_unique_values\": 1,\n        \"semantic_type\": \"\",\n        \"description\": \"\"\n      }\n    },\n    {\n      \"column\": \"mean\",\n      \"properties\": {\n        \"dtype\": \"number\",\n        \"std\": 40246.7797897667,\n        \"min\": -1.6300454188888889,\n        \"max\": 89999.5,\n        \"samples\": [\n          0.10022222222222223\n        ],\n        \"num_unique_values\": 5,\n        \"semantic_type\": \"\",\n        \"description\": \"\"\n      }\n    },\n    {\n      \"column\": \"std\",\n      \"properties\": {\n        \"dtype\": \"number\",\n        \"std\": 23236.84316778588,\n        \"min\": 0.30029690205732223,\n        \"max\": 51961.668564433145,\n        \"samples\": [\n          0.30029690205732223\n        ],\n        \"num_unique_values\": 5,\n        \"semantic_type\": \"\",\n        \"description\": \"\"\n      }\n    },\n    {\n      \"column\": \"min\",\n      \"properties\": {\n        \"dtype\": \"number\",\n        \"std\": 7.064227177264334,\n        \"min\": -15.0434,\n        \"max\": 2.1171,\n        \"samples\": [\n          0.4084\n        ],\n        \"num_unique_values\": 4,\n        \"semantic_type\": \"\",\n        \"description\": \"\"\n      }\n    },\n    {\n      \"column\": \"25%\",\n      \"properties\": {\n        \"dtype\": \"number\",\n        \"std\": 20123.11153283128,\n        \"min\": -4.7456,\n        \"max\": 44999.75,\n        \"samples\": [\n          0.0\n        ],\n        \"num_unique_values\": 5,\n        \"semantic_type\": \"\",\n        \"description\": \"\"\n      }\n    },\n    {\n      \"column\": \"50%\",\n      \"properties\": {\n        \"dtype\": \"number\",\n        \"std\": 40246.8207745151,\n        \"min\": -1.61125,\n        \"max\": 89999.5,\n        \"samples\": [\n          0.0\n        ],\n        \"num_unique_values\": 5,\n        \"semantic_type\": \"\",\n        \"description\": \"\"\n      }\n    },\n    {\n      \"column\": \"75%\",\n      \"properties\": {\n        \"dtype\": \"number\",\n        \"std\": 60370.52289699364,\n        \"min\": 0.0,\n        \"max\": 134999.25,\n        \"samples\": [\n          0.0\n        ],\n        \"num_unique_values\": 5,\n        \"semantic_type\": \"\",\n        \"description\": \"\"\n      }\n    },\n    {\n      \"column\": \"max\",\n      \"properties\": {\n        \"dtype\": \"number\",\n        \"std\": 80492.29337399235,\n        \"min\": 1.0,\n        \"max\": 179999.0,\n        \"samples\": [\n          1.0\n        ],\n        \"num_unique_values\": 5,\n        \"semantic_type\": \"\",\n        \"description\": \"\"\n      }\n    }\n  ]\n}"
            }
          },
          "metadata": {},
          "execution_count": 8
        }
      ]
    },
    {
      "cell_type": "markdown",
      "source": [
        "## Exploratory Data Analysis\n"
      ],
      "metadata": {
        "id": "Gvh5r9Zs2fkc"
      }
    },
    {
      "cell_type": "markdown",
      "source": [
        "Gaussian Naieve Bayes works best on modles that are normaillay distributed around the mean. Since our variables are continuous and our data across all variables is normally distributed around the mean (see respective hist plots and probability plots), we believe Gaussian Naieve Bayes is an appropriate analysis."
      ],
      "metadata": {
        "id": "D6R_7mn2xJ86"
      }
    },
    {
      "cell_type": "code",
      "source": [
        "sns.histplot(transactions['var_10'], kde = True);\n",
        "plt.vlines(transactions['var_10'].mean(), ymin = 0, ymax = 4000, color = 'red', linestyles = '--')\n",
        "plt.vlines(transactions['var_10'].median(), ymin = 0, ymax = 4000, color = 'purple', linestyles = 'dotted')\n",
        "plt.title('Histogram of \"Var_10\" Values')"
      ],
      "metadata": {
        "id": "2Efloab12ouN",
        "colab": {
          "base_uri": "https://localhost:8080/",
          "height": 489
        },
        "outputId": "69c7d469-d60f-4124-a701-10fa0e125798"
      },
      "execution_count": null,
      "outputs": [
        {
          "output_type": "execute_result",
          "data": {
            "text/plain": [
              "Text(0.5, 1.0, 'Histogram of \"Var_10\" Values')"
            ]
          },
          "metadata": {},
          "execution_count": 9
        },
        {
          "output_type": "display_data",
          "data": {
            "text/plain": [
              "<Figure size 640x480 with 1 Axes>"
            ],
            "image/png": "[encoded data removed]"
          },
          "metadata": {}
        }
      ]
    },
    {
      "cell_type": "code",
      "source": [
        "stats.probplot(transactions['var_10'], dist = \"norm\", plot=plt) ;"
      ],
      "metadata": {
        "id": "Z1w1e2SH2oOk",
        "colab": {
          "base_uri": "https://localhost:8080/",
          "height": 472
        },
        "outputId": "192f7f77-c51b-49bf-8449-57676ba09216"
      },
      "execution_count": null,
      "outputs": [
        {
          "output_type": "display_data",
          "data": {
            "text/plain": [
              "<Figure size 640x480 with 1 Axes>"
            ],
            "image/png": "[encoded data removed]"
          },
          "metadata": {}
        }
      ]
    },
    {
      "cell_type": "code",
      "source": [
        "#stats.kstest? if you seek to show this mathmatically we suggest using some\n",
        "# variety of a normal test. Please see Stats module doccumentation."
      ],
      "metadata": {
        "id": "cMizDo7rLAnO"
      },
      "execution_count": null,
      "outputs": []
    },
    {
      "cell_type": "code",
      "source": [
        "# from Sci.Py website:\n",
        "# normaltests \"tests the null hypothesis that a sample comes from a normal distribution.\n",
        "#stats.kstest(transactions.loc[:, 'var_0' : 'var_49'],)"
      ],
      "metadata": {
        "id": "6jeiCfj0kbz1"
      },
      "execution_count": null,
      "outputs": []
    },
    {
      "cell_type": "code",
      "source": [
        "#stats.shapiro(transactions.loc[:, 'var_0' : 'var_49']);\n",
        "#stats.shapiro(transactions['var_2'])"
      ],
      "metadata": {
        "id": "YYWzYzGlv5U5"
      },
      "execution_count": null,
      "outputs": []
    },
    {
      "cell_type": "markdown",
      "source": [
        "Another aspect of Gaussian Naive Bayes is that variables are not corelated. To show that we have found the absolute value of the maximum coorelation between values to be 0.01 on a 0 to 1 scale. Our variables are wholly unrelated."
      ],
      "metadata": {
        "id": "-W9viLniz_ko"
      }
    },
    {
      "cell_type": "code",
      "source": [
        "corelation = [transactions.loc[:, 'var_0' : 'var_49'].corr().round(2).unstack()]\n",
        "corelation = pd.DataFrame(corelation).describe().transpose()\n",
        "corelation['max'].value_counts()"
      ],
      "metadata": {
        "colab": {
          "base_uri": "https://localhost:8080/"
        },
        "id": "k05_8lRGSLiT",
        "outputId": "3cb77df2-04f5-4ef4-a260-5d4f45445c7a"
      },
      "execution_count": null,
      "outputs": [
        {
          "output_type": "execute_result",
          "data": {
            "text/plain": [
              "-0.00    2008\n",
              "-0.01     226\n",
              " 0.01     216\n",
              " 1.00      50\n",
              "Name: max, dtype: int64"
            ]
          },
          "metadata": {},
          "execution_count": 14
        }
      ]
    },
    {
      "cell_type": "code",
      "source": [
        "correlation = transactions.corr()\n",
        "plt.figure(figsize = (10,5))\n",
        "sns.heatmap(correlation.loc[:, 'var_0' : 'var_49'], cmap = 'RdYlBu', annot = False)\n",
        "plt.title('Correlation Heat Map')"
      ],
      "metadata": {
        "colab": {
          "base_uri": "https://localhost:8080/",
          "height": 573
        },
        "id": "2lQYVM4i80LH",
        "outputId": "3232cbea-ccea-4918-fc0c-28a2e2a262b3"
      },
      "execution_count": null,
      "outputs": [
        {
          "output_type": "stream",
          "name": "stderr",
          "text": [
            "<ipython-input-15-1600794bd0f0>:1: FutureWarning: The default value of numeric_only in DataFrame.corr is deprecated. In a future version, it will default to False. Select only valid columns or specify the value of numeric_only to silence this warning.\n",
            "  correlation = transactions.corr()\n"
          ]
        },
        {
          "output_type": "execute_result",
          "data": {
            "text/plain": [
              "Text(0.5, 1.0, 'Correlation Heat Map')"
            ]
          },
          "metadata": {},
          "execution_count": 15
        },
        {
          "output_type": "display_data",
          "data": {
            "text/plain": [
              "<Figure size 1000x500 with 2 Axes>"
            ],
            "image/png": "[encoded data removed]"
          },
          "metadata": {}
        }
      ]
    },
    {
      "cell_type": "code",
      "source": [
        "target_1 = transactions[transactions['target'] == 1].copy()\n",
        "target_0 = transactions[transactions['target'] == 0].copy()\n",
        "\n",
        "target_1.drop('ID_code', axis = 1, inplace = True)\n",
        "target_1.drop('Unnamed: 0', axis = 1, inplace = True)\n",
        "\n",
        "target_0.drop('ID_code', axis = 1, inplace = True)\n",
        "target_0.drop('Unnamed: 0', axis = 1, inplace = True)\n",
        "\n",
        "length_check = (len(target_1) + len(target_0)) == len(transactions['target'])\n",
        "length_check"
      ],
      "metadata": {
        "id": "LmMwlun6skNY",
        "colab": {
          "base_uri": "https://localhost:8080/"
        },
        "outputId": "b6db6db0-2994-4d90-c13e-e57d341dcf19"
      },
      "execution_count": null,
      "outputs": [
        {
          "output_type": "execute_result",
          "data": {
            "text/plain": [
              "True"
            ]
          },
          "metadata": {},
          "execution_count": 16
        }
      ]
    },
    {
      "cell_type": "markdown",
      "source": [
        "## Processing\n"
      ],
      "metadata": {
        "id": "Ij_fgEbh2hVk"
      }
    },
    {
      "cell_type": "markdown",
      "source": [
        "Here we take our targets and their respective data to fit, train, and itterate our model."
      ],
      "metadata": {
        "id": "MuuVd9D01jsh"
      }
    },
    {
      "cell_type": "code",
      "source": [
        "gnb = GaussianNB()"
      ],
      "metadata": {
        "id": "9d0IEC3Apw43"
      },
      "execution_count": null,
      "outputs": []
    },
    {
      "cell_type": "code",
      "source": [
        "y = transactions['target'].copy()\n",
        "X = transactions.loc[:, 'var_0' : 'var_49'].copy()"
      ],
      "metadata": {
        "id": "XHuRtSfi5TuS"
      },
      "execution_count": null,
      "outputs": []
    },
    {
      "cell_type": "code",
      "source": [
        "y.shape"
      ],
      "metadata": {
        "colab": {
          "base_uri": "https://localhost:8080/"
        },
        "id": "7Vr5jPovqWwp",
        "outputId": "6a972822-d69d-415a-b2ec-97e87918d471"
      },
      "execution_count": null,
      "outputs": [
        {
          "output_type": "execute_result",
          "data": {
            "text/plain": [
              "(180000,)"
            ]
          },
          "metadata": {},
          "execution_count": 19
        }
      ]
    },
    {
      "cell_type": "code",
      "source": [
        "X_train, X_test, y_train, y_test, = train_test_split(X, y, test_size = .20, random_state = 0)\n",
        "gnb.fit(X_train, y_train)\n",
        "y_pred = gnb.predict(X_test)\n",
        "accuracy = round((100*((y_test == y_pred).sum() / len(y_test))),2)\n",
        "accuracy #is a percent"
      ],
      "metadata": {
        "colab": {
          "base_uri": "https://localhost:8080/"
        },
        "id": "B5ZIOvqHnDVW",
        "outputId": "5593958f-26b2-467a-bf79-7170e85aae28"
      },
      "execution_count": null,
      "outputs": [
        {
          "output_type": "execute_result",
          "data": {
            "text/plain": [
              "90.88"
            ]
          },
          "metadata": {},
          "execution_count": 20
        }
      ]
    },
    {
      "cell_type": "code",
      "source": [
        "#metrics.ConfusionMatrixDisplay.from_estimator?\n",
        "# see: https://scikit-learn.org/stable/modules/generated/sklearn.metrics.ConfusionMatrixDisplay.html#sklearn.metrics.ConfusionMatrixDisplay.from_estimator"
      ],
      "metadata": {
        "id": "o9BJEN0TvaHF"
      },
      "execution_count": null,
      "outputs": []
    },
    {
      "cell_type": "code",
      "source": [
        "metrics.ConfusionMatrixDisplay.from_estimator(\n",
        "    estimator = gnb, # we are using the GaussianNB() Pipeline\n",
        "    X = X,\n",
        "    y = y,\n",
        "    labels = None,\n",
        "    sample_weight = None,\n",
        "    normalize = 'true',\n",
        "    values_format = '.2%' #Sets the length of each decimal.\n",
        "    )\n",
        "plt.title('Transactions Confusion Matrix')"
      ],
      "metadata": {
        "colab": {
          "base_uri": "https://localhost:8080/",
          "height": 489
        },
        "id": "c44-id32t5R7",
        "outputId": "fb018982-93ca-4ec5-f6a0-3cef4af87e3a"
      },
      "execution_count": null,
      "outputs": [
        {
          "output_type": "execute_result",
          "data": {
            "text/plain": [
              "Text(0.5, 1.0, 'Transactions Confusion Matrix')"
            ]
          },
          "metadata": {},
          "execution_count": 22
        },
        {
          "output_type": "display_data",
          "data": {
            "text/plain": [
              "<Figure size 640x480 with 2 Axes>"
            ],
            "image/png": "[encoded data removed]"
          },
          "metadata": {}
        }
      ]
    },
    {
      "cell_type": "markdown",
      "source": [
        "Our Model has a 1.29% chance of predicting a sucsessful transaction for a truly unsecsessful transaction. It however has a 77% chance of predicting a false 0. If false negatives are more imporatant to the end user than false positives, we suggest implementing another model. To approach this same question we have split our data set to equal and random pools of sucsessful and unsucsessful transactions."
      ],
      "metadata": {
        "id": "zMQhR1AtvIai"
      }
    },
    {
      "cell_type": "code",
      "source": [],
      "metadata": {
        "id": "T3dw_3LlPDYa"
      },
      "execution_count": null,
      "outputs": []
    },
    {
      "cell_type": "code",
      "source": [
        "n=500\n",
        "looped_accuracy = np.zeros(n)\n",
        "for i in range(n):\n",
        "  modle_split_cv = gnb\n",
        "  X_train, X_test, y_train, y_test, = train_test_split(X, y, test_size = .2)\n",
        "  y_predicted = gnb.predict(X_test)\n",
        "  accuracy = metrics.accuracy_score(y_test, y_predicted)\n",
        "  looped_accuracy[i] = accuracy"
      ],
      "metadata": {
        "id": "vTVcW6gH673D"
      },
      "execution_count": null,
      "outputs": []
    },
    {
      "cell_type": "code",
      "source": [
        "mean_accuracy = sum(looped_accuracy)/n*100\n",
        "print(f' The mean accuracy is {round(mean_accuracy,2)}%')"
      ],
      "metadata": {
        "id": "Ee-Y_nDkwRMh",
        "colab": {
          "base_uri": "https://localhost:8080/"
        },
        "outputId": "de324284-ff09-4911-f8c5-46d71d9e681b"
      },
      "execution_count": null,
      "outputs": [
        {
          "output_type": "stream",
          "name": "stdout",
          "text": [
            " The mean accuracy is 91.12%\n"
          ]
        }
      ]
    },
    {
      "cell_type": "code",
      "source": [
        "sns.histplot(looped_accuracy, bins = 20, kde = True)\n",
        "plt.title('Histogram of Accuracy Scores')\n",
        "plt.xlabel('Accuracy')"
      ],
      "metadata": {
        "colab": {
          "base_uri": "https://localhost:8080/",
          "height": 489
        },
        "id": "Mxu7L1S4cB7U",
        "outputId": "9c22e71b-38bd-4a57-a09e-19269d90b419"
      },
      "execution_count": null,
      "outputs": [
        {
          "output_type": "execute_result",
          "data": {
            "text/plain": [
              "Text(0.5, 0, 'Accuracy')"
            ]
          },
          "metadata": {},
          "execution_count": 25
        },
        {
          "output_type": "display_data",
          "data": {
            "text/plain": [
              "<Figure size 640x480 with 1 Axes>"
            ],
            "image/png": "[encoded data removed]"
          },
          "metadata": {}
        }
      ]
    },
    {
      "cell_type": "code",
      "source": [
        "#sklearn.metrics.classification_report"
      ],
      "metadata": {
        "id": "WOJ1adNKfW5x"
      },
      "execution_count": null,
      "outputs": []
    },
    {
      "cell_type": "code",
      "source": [
        "print(metrics.classification_report(y_test, y_predicted))"
      ],
      "metadata": {
        "colab": {
          "base_uri": "https://localhost:8080/"
        },
        "id": "U_FmENANfZ9x",
        "outputId": "ca6e4a7a-3050-4f44-c482-33810a378c32"
      },
      "execution_count": null,
      "outputs": [
        {
          "output_type": "stream",
          "name": "stdout",
          "text": [
            "              precision    recall  f1-score   support\n",
            "\n",
            "           0       0.92      0.99      0.95     32429\n",
            "           1       0.69      0.24      0.35      3571\n",
            "\n",
            "    accuracy                           0.91     36000\n",
            "   macro avg       0.80      0.61      0.65     36000\n",
            "weighted avg       0.90      0.91      0.89     36000\n",
            "\n"
          ]
        }
      ]
    },
    {
      "cell_type": "markdown",
      "source": [
        "Our model currently does a really good job of predicting unsucsessful transactions. However, the F1 Score for sucsessful transactions is only 34%."
      ],
      "metadata": {
        "id": "S2jf9FEyuV6Z"
      }
    },
    {
      "cell_type": "code",
      "source": [
        "y = transactions['target'].copy()\n",
        "X = transactions.loc[:, 'var_0' : 'var_49'].copy()"
      ],
      "metadata": {
        "id": "CtOgo7uogT7s"
      },
      "execution_count": null,
      "outputs": []
    },
    {
      "cell_type": "code",
      "source": [
        "zeros = X[y == 0]\n",
        "ones = X[y == 1]\n",
        "print(len(y[y == 1]) == len(ones)) #This should be true. It shows that we have sliced the sucsessful transactions."
      ],
      "metadata": {
        "colab": {
          "base_uri": "https://localhost:8080/"
        },
        "id": "AYfNg5kcGoGF",
        "outputId": "4c64735b-cbd3-40e8-93ea-572d960af009"
      },
      "execution_count": null,
      "outputs": [
        {
          "output_type": "stream",
          "name": "stdout",
          "text": [
            "True\n"
          ]
        }
      ]
    },
    {
      "cell_type": "code",
      "source": [
        "sample_0 = zeros.sample(2000)\n",
        "sample_0 = pd.DataFrame(sample_0)\n",
        "\n",
        "sample_1 = ones.sample(2000)\n",
        "sample_1 = pd.DataFrame(sample_1)"
      ],
      "metadata": {
        "id": "HL_l-qhoDqjP"
      },
      "execution_count": null,
      "outputs": []
    },
    {
      "cell_type": "code",
      "source": [
        "split_50_50 = pd.concat([sample_0, sample_1])\n",
        "y[split_50_50.index].shape"
      ],
      "metadata": {
        "colab": {
          "base_uri": "https://localhost:8080/"
        },
        "id": "g6T32twsHx9W",
        "outputId": "bcf02613-d4d9-40eb-ef28-589e502cc047"
      },
      "execution_count": null,
      "outputs": [
        {
          "output_type": "execute_result",
          "data": {
            "text/plain": [
              "(4000,)"
            ]
          },
          "metadata": {},
          "execution_count": 31
        }
      ]
    },
    {
      "cell_type": "code",
      "source": [
        "n=500\n",
        "accuracy_50_split = np.zeros(n)\n",
        "for i in range(n):\n",
        "  modle_split_cv = gnb\n",
        "  X_train, X_test, y_train, y_test, = train_test_split(split_50_50, y[split_50_50.index], test_size = .2)\n",
        "  y_predicted = gnb.predict(X_test)\n",
        "  accuracy = metrics.accuracy_score(y_test, y_predicted)\n",
        "  accuracy_50_split[i] = accuracy"
      ],
      "metadata": {
        "id": "yu4HSrYNQ-Pw"
      },
      "execution_count": null,
      "outputs": []
    },
    {
      "cell_type": "code",
      "source": [
        "print(metrics.classification_report(y_test, y_predicted))"
      ],
      "metadata": {
        "colab": {
          "base_uri": "https://localhost:8080/"
        },
        "id": "9OYA_VMTYue2",
        "outputId": "5bdd966f-7658-4b9f-b635-cdef28a05fe2"
      },
      "execution_count": null,
      "outputs": [
        {
          "output_type": "stream",
          "name": "stdout",
          "text": [
            "              precision    recall  f1-score   support\n",
            "\n",
            "           0       0.56      0.99      0.71       397\n",
            "           1       0.95      0.24      0.38       403\n",
            "\n",
            "    accuracy                           0.61       800\n",
            "   macro avg       0.76      0.61      0.55       800\n",
            "weighted avg       0.76      0.61      0.54       800\n",
            "\n"
          ]
        }
      ]
    },
    {
      "cell_type": "markdown",
      "source": [],
      "metadata": {
        "id": "BZKtNE2lWyUs"
      }
    },
    {
      "cell_type": "markdown",
      "source": [],
      "metadata": {
        "id": "fIBEaN19WyR5"
      }
    },
    {
      "cell_type": "code",
      "source": [
        "sns.histplot(accuracy_50_split, bins = 20, kde = True)\n",
        "plt.title('Histogram of Accuracy Scores 50/50 Split')\n",
        "plt.xlabel('Accuracy')"
      ],
      "metadata": {
        "colab": {
          "base_uri": "https://localhost:8080/",
          "height": 489
        },
        "id": "oS1b1CGXYbuu",
        "outputId": "d8e7fa15-8e32-4392-8856-8843c486e329"
      },
      "execution_count": null,
      "outputs": [
        {
          "output_type": "execute_result",
          "data": {
            "text/plain": [
              "Text(0.5, 0, 'Accuracy')"
            ]
          },
          "metadata": {},
          "execution_count": 34
        },
        {
          "output_type": "display_data",
          "data": {
            "text/plain": [
              "<Figure size 640x480 with 1 Axes>"
            ],
            "image/png": "[encoded data removed]"
          },
          "metadata": {}
        }
      ]
    },
    {
      "cell_type": "markdown",
      "source": [
        "Evenly splitting our data does not produce a better F-1 Score. However it removes bias and we believe provides a more reflective prediction of sucsessful or unsucsessful transactions."
      ],
      "metadata": {
        "id": "VqfNypa94wiX"
      }
    },
    {
      "cell_type": "code",
      "source": [
        "print(split_50_50.shape)\n",
        "print(y[split_50_50.index].shape)"
      ],
      "metadata": {
        "colab": {
          "base_uri": "https://localhost:8080/"
        },
        "id": "ipWS3ZYXWZyx",
        "outputId": "62f49e07-d006-4e4e-8bc6-5e8df03dc2cd"
      },
      "execution_count": null,
      "outputs": [
        {
          "output_type": "stream",
          "name": "stdout",
          "text": [
            "(4000, 50)\n",
            "(4000,)\n"
          ]
        }
      ]
    },
    {
      "cell_type": "code",
      "source": [
        "X = split_50_50\n",
        "y = y[split_50_50.index]\n",
        "X_train, X_test, y_train, y_test, = train_test_split(X, y, test_size = .25, random_state = 0)\n",
        "gnb.fit(X_train, y_train)\n",
        "\n",
        "metrics.ConfusionMatrixDisplay.from_estimator(\n",
        "    estimator = gnb, # we are using the GaussianNB() Pipeline\n",
        "    X = X,\n",
        "    y = y,\n",
        "    labels = None,\n",
        "    sample_weight = None,\n",
        "    normalize = 'true',\n",
        "    values_format = '.2%' #Sets the length of each decimal.\n",
        "    )\n",
        "plt.title('Transactions Confusion Matrix 50/50 Split')"
      ],
      "metadata": {
        "colab": {
          "base_uri": "https://localhost:8080/",
          "height": 489
        },
        "id": "g5QHDkBLV_6U",
        "outputId": "0f279f12-cc5c-4254-b6f9-20972267872b"
      },
      "execution_count": null,
      "outputs": [
        {
          "output_type": "execute_result",
          "data": {
            "text/plain": [
              "Text(0.5, 1.0, 'Transactions Confusion Matrix 50/50 Split')"
            ]
          },
          "metadata": {},
          "execution_count": 36
        },
        {
          "output_type": "display_data",
          "data": {
            "text/plain": [
              "<Figure size 640x480 with 2 Axes>"
            ],
            "image/png": "[encoded data removed]"
          },
          "metadata": {}
        }
      ]
    },
    {
      "cell_type": "markdown",
      "source": [
        "## Data Visualization/Communication of Results\n",
        "Comparing confusion matricies of split and unsplit data. Our unsplit data is seemingly 'better' however the bias in the unsplit dataset helps our model predict unsucsessful transactions at the cost of a potentially many false positives.\n",
        "\n",
        "We suggest using the whole dataset if predicting true unsucsessful transactions is the most important to the client. We suggest using the split dataset if predicticting sucsessful transactions is the client's goal.\n",
        "\n",
        "Going Forward, we propose a logistic regrsional model to see if we can describe the binary nature of our data set.\n",
        "\n",
        "\n"
      ],
      "metadata": {
        "id": "gjDTKyc12jR7"
      }
    }
  ]
}