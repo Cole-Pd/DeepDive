{
  "nbformat": 4,
  "nbformat_minor": 0,
  "metadata": {
    "colab": {
      "provenance": [],
      "authorship_tag": "ABX9TyOW0nOLq/ubvEELJcCMWrw2",
      "include_colab_link": true
    },
    "kernelspec": {
      "name": "python3",
      "display_name": "Python 3"
    },
    "language_info": {
      "name": "python"
    }
  },
  "cells": [
    {
      "cell_type": "markdown",
      "metadata": {
        "id": "view-in-github",
        "colab_type": "text"
      },
      "source": [
        "<a href=\"https://colab.research.google.com/github/Cole-Pd/DeepDive/blob/main/Start_IMDB_DB.ipynb\" target=\"_parent\"><img src=\"https://colab.research.google.com/assets/colab-badge.svg\" alt=\"Open In Colab\"/></a>"
      ]
    },
    {
      "cell_type": "code",
      "execution_count": 2,
      "metadata": {
        "id": "JDk0aflLVc2A"
      },
      "outputs": [],
      "source": [
        "import pandas as pd"
      ]
    },
    {
      "cell_type": "code",
      "source": [
        "source = {\n",
        "    'url_1' : 'https://datasets.imdbws.com/name.basics.tsv.gz',\n",
        "    'url_2' : 'https://datasets.imdbws.com/title.akas.tsv.gz',\n",
        "    'url_3' : 'https://datasets.imdbws.com/title.basics.tsv.gz',\n",
        "    'url_4' : 'https://datasets.imdbws.com/title.crew.tsv.gz',\n",
        "    'url_5' : 'https://datasets.imdbws.com/title.episode.tsv.gz',\n",
        "    'url_6' : 'https://datasets.imdbws.com/title.principals.tsv.gz',\n",
        "    'url_7' : 'https://datasets.imdbws.com/title.ratings.tsv.gz',\n",
        "}"
      ],
      "metadata": {
        "id": "4YPjSUOxrM7d"
      },
      "execution_count": 2,
      "outputs": []
    },
    {
      "cell_type": "code",
      "source": [
        "#df = pd.read_table(source['url_3'], compression=\"gzip\", sep=\"\\t\", chunksize = 10_000)"
      ],
      "metadata": {
        "id": "GPvPpnc9j5pY"
      },
      "execution_count": 21,
      "outputs": []
    },
    {
      "cell_type": "code",
      "source": [
        "df.read()"
      ],
      "metadata": {
        "id": "eLc2AGLxvMdv"
      },
      "execution_count": null,
      "outputs": []
    },
    {
      "cell_type": "code",
      "source": [
        "for chunk in df:\n",
        "  print(chunk.head())"
      ],
      "metadata": {
        "id": "xWiZn63cxkZ8"
      },
      "execution_count": 20,
      "outputs": []
    },
    {
      "cell_type": "code",
      "source": [
        "for i in source.values():\n",
        "  print(i)\n",
        "  !curl -O {i}"
      ],
      "metadata": {
        "id": "e3adH_x73GO0"
      },
      "execution_count": null,
      "outputs": []
    },
    {
      "cell_type": "code",
      "source": [
        "!ls -la *[vs].gz #last letter are v or s and ends with '.gz'"
      ],
      "metadata": {
        "colab": {
          "base_uri": "https://localhost:8080/"
        },
        "id": "HqxsmCDgpx8l",
        "outputId": "7dea46ca-559e-4eb5-dec4-eadc4e5c06c4"
      },
      "execution_count": 34,
      "outputs": [
        {
          "output_type": "stream",
          "name": "stdout",
          "text": [
            "-rw-r--r-- 1 root root 262507426 Mar  6 22:23 name.basics.tsv.gz\n",
            "-rw-r--r-- 1 root root 328776487 Mar  6 22:23 title.akas.tsv.gz\n",
            "-rw-r--r-- 1 root root 185874473 Mar  6 22:24 title.basics.tsv.gz\n",
            "-rw-r--r-- 1 root root  70525651 Mar  6 22:24 title.crew.tsv.gz\n",
            "-rw-r--r-- 1 root root  44486991 Mar  6 22:24 title.episode.tsv.gz\n",
            "-rw-r--r-- 1 root root 469573708 Mar  6 22:24 title.principals.tsv.gz\n",
            "-rw-r--r-- 1 root root   7089117 Mar  6 22:24 title.ratings.tsv.gz\n"
          ]
        }
      ]
    },
    {
      "cell_type": "code",
      "source": [
        "ls -la [nt]* #con tains anything that begins with an n or a t"
      ],
      "metadata": {
        "colab": {
          "base_uri": "https://localhost:8080/"
        },
        "id": "wUI0i48q3x6y",
        "outputId": "bc4f44a3-d31a-4a97-94e4-1be613cad8dd"
      },
      "execution_count": 37,
      "outputs": [
        {
          "output_type": "stream",
          "name": "stdout",
          "text": [
            "-rw-r--r-- 1 root root 262507426 Mar  6 22:23 name.basics.tsv.gz\n",
            "-rw-r--r-- 1 root root 328776487 Mar  6 22:23 title.akas.tsv.gz\n",
            "-rw-r--r-- 1 root root 185874473 Mar  6 22:24 title.basics.tsv.gz\n",
            "-rw-r--r-- 1 root root  70525651 Mar  6 22:24 title.crew.tsv.gz\n",
            "-rw-r--r-- 1 root root  44486991 Mar  6 22:24 title.episode.tsv.gz\n",
            "-rw-r--r-- 1 root root 469573708 Mar  6 22:24 title.principals.tsv.gz\n",
            "-rw-r--r-- 1 root root   7089117 Mar  6 22:24 title.ratings.tsv.gz\n"
          ]
        }
      ]
    },
    {
      "cell_type": "code",
      "source": [
        "ls -la *[nt]* #contains an n or a t"
      ],
      "metadata": {
        "id": "nvQOR2Ik4WIw"
      },
      "execution_count": null,
      "outputs": []
    },
    {
      "cell_type": "code",
      "source": [
        "!gunzip -l *.gz"
      ],
      "metadata": {
        "colab": {
          "base_uri": "https://localhost:8080/"
        },
        "id": "KPZroPnp5K00",
        "outputId": "51d87eb8-9714-4937-be46-519759b3a045"
      },
      "execution_count": 38,
      "outputs": [
        {
          "output_type": "stream",
          "name": "stdout",
          "text": [
            "         compressed        uncompressed  ratio uncompressed_name\n",
            "          262507426           808103346  67.5% name.basics.tsv\n",
            "          328776487          1926589417  82.9% title.akas.tsv\n",
            "          185874473           910811312  79.6% title.basics.tsv\n",
            "           70525651           350306131  79.9% title.crew.tsv\n",
            "           44486991           211624497  79.0% title.episode.tsv\n",
            "          469573708          2678094153  82.5% title.principals.tsv\n",
            "            7089117            24463250  71.0% title.ratings.tsv\n",
            "         1368833853          6909992106  80.2% (totals)\n"
          ]
        }
      ]
    },
    {
      "cell_type": "code",
      "source": [
        "f\"{6909992106:_}\" #"
      ],
      "metadata": {
        "colab": {
          "base_uri": "https://localhost:8080/",
          "height": 35
        },
        "id": "XiS0ghH75SRU",
        "outputId": "5ba3866e-982f-4e72-d299-b244f5f510c4"
      },
      "execution_count": 42,
      "outputs": [
        {
          "output_type": "execute_result",
          "data": {
            "text/plain": [
              "'6_909_992_106'"
            ],
            "application/vnd.google.colaboratory.intrinsic+json": {
              "type": "string"
            }
          },
          "metadata": {},
          "execution_count": 42
        }
      ]
    },
    {
      "cell_type": "code",
      "source": [
        "!gunzip *.gz #unzips all of them\n",
        "!ls *.tsv #searches for files ending in *.tsv"
      ],
      "metadata": {
        "colab": {
          "base_uri": "https://localhost:8080/"
        },
        "id": "ExQSDSeF6NQ5",
        "outputId": "571992b9-425b-4fb1-bc2e-37f7068d39a1"
      },
      "execution_count": 3,
      "outputs": [
        {
          "output_type": "stream",
          "name": "stdout",
          "text": [
            "name.basics.tsv  title.basics.tsv  title.episode.tsv\t title.ratings.tsv\n",
            "title.akas.tsv\t title.crew.tsv    title.principals.tsv\n"
          ]
        }
      ]
    },
    {
      "cell_type": "code",
      "source": [
        "!ls -laS --si *.tsv #S sorts by size and r reverses the order --si gives human readable"
      ],
      "metadata": {
        "colab": {
          "base_uri": "https://localhost:8080/"
        },
        "id": "E53Ms8mg6vGt",
        "outputId": "05f87430-0a14-46da-9995-75b485ba28af"
      },
      "execution_count": 9,
      "outputs": [
        {
          "output_type": "stream",
          "name": "stdout",
          "text": [
            "-rw-r--r-- 1 root root 2.7G Mar  6 22:24 title.principals.tsv\n",
            "-rw-r--r-- 1 root root 2.0G Mar  6 22:23 title.akas.tsv\n",
            "-rw-r--r-- 1 root root 911M Mar  6 22:24 title.basics.tsv\n",
            "-rw-r--r-- 1 root root 809M Mar  6 22:23 name.basics.tsv\n",
            "-rw-r--r-- 1 root root 351M Mar  6 22:24 title.crew.tsv\n",
            "-rw-r--r-- 1 root root 212M Mar  6 22:24 title.episode.tsv\n",
            "-rw-r--r-- 1 root root  25M Mar  6 22:24 title.ratings.tsv\n"
          ]
        }
      ]
    },
    {
      "cell_type": "code",
      "source": [
        "names = !ls -1 *.tsv"
      ],
      "metadata": {
        "id": "Pd3FctFy7bve"
      },
      "execution_count": 6,
      "outputs": []
    },
    {
      "cell_type": "code",
      "source": [
        "names"
      ],
      "metadata": {
        "colab": {
          "base_uri": "https://localhost:8080/"
        },
        "id": "iWuO2TdQ7ntG",
        "outputId": "d01c9a26-1ba4-410c-d496-ffedf1b533c3"
      },
      "execution_count": 53,
      "outputs": [
        {
          "output_type": "execute_result",
          "data": {
            "text/plain": [
              "['name.basics.tsv',\n",
              " 'title.akas.tsv',\n",
              " 'title.basics.tsv',\n",
              " 'title.crew.tsv',\n",
              " 'title.episode.tsv',\n",
              " 'title.principals.tsv',\n",
              " 'title.ratings.tsv']"
            ]
          },
          "metadata": {},
          "execution_count": 53
        }
      ]
    },
    {
      "cell_type": "code",
      "source": [
        "df = pd.read_csv(names[1], sep=\"\\t\", nrows=1000, na_values = '\\\\N', dtype = {'isOriginalTitle' : bool})"
      ],
      "metadata": {
        "id": "Ko0e-HTV5YZg"
      },
      "execution_count": 33,
      "outputs": []
    },
    {
      "cell_type": "code",
      "source": [
        "pd.read_csv?"
      ],
      "metadata": {
        "id": "JTYN7HcuDwsj"
      },
      "execution_count": 32,
      "outputs": []
    },
    {
      "cell_type": "code",
      "source": [
        "df.info()"
      ],
      "metadata": {
        "colab": {
          "base_uri": "https://localhost:8080/"
        },
        "id": "-vHccpgO8Nxf",
        "outputId": "97f34706-3450-4932-accf-28b3494a5ac1"
      },
      "execution_count": 34,
      "outputs": [
        {
          "output_type": "stream",
          "name": "stdout",
          "text": [
            "<class 'pandas.core.frame.DataFrame'>\n",
            "RangeIndex: 1000 entries, 0 to 999\n",
            "Data columns (total 8 columns):\n",
            " #   Column           Non-Null Count  Dtype \n",
            "---  ------           --------------  ----- \n",
            " 0   titleId          1000 non-null   object\n",
            " 1   ordering         1000 non-null   int64 \n",
            " 2   title            1000 non-null   object\n",
            " 3   region           759 non-null    object\n",
            " 4   language         71 non-null     object\n",
            " 5   types            821 non-null    object\n",
            " 6   attributes       80 non-null     object\n",
            " 7   isOriginalTitle  1000 non-null   bool  \n",
            "dtypes: bool(1), int64(1), object(6)\n",
            "memory usage: 55.8+ KB\n"
          ]
        }
      ]
    },
    {
      "cell_type": "code",
      "source": [
        "df.memory_usage(deep = True)"
      ],
      "metadata": {
        "colab": {
          "base_uri": "https://localhost:8080/"
        },
        "id": "mnIXq8OMBKFX",
        "outputId": "5fbd0a03-2feb-4f12-9265-ced2e31bee6d"
      },
      "execution_count": 41,
      "outputs": [
        {
          "output_type": "execute_result",
          "data": {
            "text/plain": [
              "Index                128\n",
              "titleId            66000\n",
              "ordering            8000\n",
              "title              92199\n",
              "region             52534\n",
              "language           33917\n",
              "types              60850\n",
              "attributes         35347\n",
              "isOriginalTitle     1000\n",
              "dtype: int64"
            ]
          },
          "metadata": {},
          "execution_count": 41
        }
      ]
    },
    {
      "cell_type": "code",
      "source": [
        "df.head(10)"
      ],
      "metadata": {
        "colab": {
          "base_uri": "https://localhost:8080/",
          "height": 415
        },
        "id": "Ewwt3stqCQYE",
        "outputId": "eb853727-f20d-47c2-c429-ba6cfb5726d7"
      },
      "execution_count": 28,
      "outputs": [
        {
          "output_type": "execute_result",
          "data": {
            "text/plain": [
              "     titleId  ordering                      title region language  \\\n",
              "0  tt0000001         1                 Карменсіта     UA      NaN   \n",
              "1  tt0000001         2                 Carmencita     DE      NaN   \n",
              "2  tt0000001         3  Carmencita - spanyol tánc     HU      NaN   \n",
              "3  tt0000001         4                 Καρμενσίτα     GR      NaN   \n",
              "4  tt0000001         5                 Карменсита     RU      NaN   \n",
              "5  tt0000001         6                 Carmencita     US      NaN   \n",
              "6  tt0000001         7                 Carmencita    NaN      NaN   \n",
              "7  tt0000001         8                    カルメンチータ     JP       ja   \n",
              "8  tt0000002         1     Le clown et ses chiens    NaN      NaN   \n",
              "9  tt0000002         2     Le clown et ses chiens     FR      NaN   \n",
              "\n",
              "         types     attributes  isOriginalTitle  \n",
              "0  imdbDisplay            NaN                0  \n",
              "1          NaN  literal title                0  \n",
              "2  imdbDisplay            NaN                0  \n",
              "3  imdbDisplay            NaN                0  \n",
              "4  imdbDisplay            NaN                0  \n",
              "5  imdbDisplay            NaN                0  \n",
              "6     original            NaN                1  \n",
              "7  imdbDisplay            NaN                0  \n",
              "8     original            NaN                1  \n",
              "9  imdbDisplay            NaN                0  "
            ],
            "text/html": [
              "\n",
              "  <div id=\"df-69e42270-b265-4cb5-9bf0-cbff7373a12b\" class=\"colab-df-container\">\n",
              "    <div>\n",
              "<style scoped>\n",
              "    .dataframe tbody tr th:only-of-type {\n",
              "        vertical-align: middle;\n",
              "    }\n",
              "\n",
              "    .dataframe tbody tr th {\n",
              "        vertical-align: top;\n",
              "    }\n",
              "\n",
              "    .dataframe thead th {\n",
              "        text-align: right;\n",
              "    }\n",
              "</style>\n",
              "<table border=\"1\" class=\"dataframe\">\n",
              "  <thead>\n",
              "    <tr style=\"text-align: right;\">\n",
              "      <th></th>\n",
              "      <th>titleId</th>\n",
              "      <th>ordering</th>\n",
              "      <th>title</th>\n",
              "      <th>region</th>\n",
              "      <th>language</th>\n",
              "      <th>types</th>\n",
              "      <th>attributes</th>\n",
              "      <th>isOriginalTitle</th>\n",
              "    </tr>\n",
              "  </thead>\n",
              "  <tbody>\n",
              "    <tr>\n",
              "      <th>0</th>\n",
              "      <td>tt0000001</td>\n",
              "      <td>1</td>\n",
              "      <td>Карменсіта</td>\n",
              "      <td>UA</td>\n",
              "      <td>NaN</td>\n",
              "      <td>imdbDisplay</td>\n",
              "      <td>NaN</td>\n",
              "      <td>0</td>\n",
              "    </tr>\n",
              "    <tr>\n",
              "      <th>1</th>\n",
              "      <td>tt0000001</td>\n",
              "      <td>2</td>\n",
              "      <td>Carmencita</td>\n",
              "      <td>DE</td>\n",
              "      <td>NaN</td>\n",
              "      <td>NaN</td>\n",
              "      <td>literal title</td>\n",
              "      <td>0</td>\n",
              "    </tr>\n",
              "    <tr>\n",
              "      <th>2</th>\n",
              "      <td>tt0000001</td>\n",
              "      <td>3</td>\n",
              "      <td>Carmencita - spanyol tánc</td>\n",
              "      <td>HU</td>\n",
              "      <td>NaN</td>\n",
              "      <td>imdbDisplay</td>\n",
              "      <td>NaN</td>\n",
              "      <td>0</td>\n",
              "    </tr>\n",
              "    <tr>\n",
              "      <th>3</th>\n",
              "      <td>tt0000001</td>\n",
              "      <td>4</td>\n",
              "      <td>Καρμενσίτα</td>\n",
              "      <td>GR</td>\n",
              "      <td>NaN</td>\n",
              "      <td>imdbDisplay</td>\n",
              "      <td>NaN</td>\n",
              "      <td>0</td>\n",
              "    </tr>\n",
              "    <tr>\n",
              "      <th>4</th>\n",
              "      <td>tt0000001</td>\n",
              "      <td>5</td>\n",
              "      <td>Карменсита</td>\n",
              "      <td>RU</td>\n",
              "      <td>NaN</td>\n",
              "      <td>imdbDisplay</td>\n",
              "      <td>NaN</td>\n",
              "      <td>0</td>\n",
              "    </tr>\n",
              "    <tr>\n",
              "      <th>5</th>\n",
              "      <td>tt0000001</td>\n",
              "      <td>6</td>\n",
              "      <td>Carmencita</td>\n",
              "      <td>US</td>\n",
              "      <td>NaN</td>\n",
              "      <td>imdbDisplay</td>\n",
              "      <td>NaN</td>\n",
              "      <td>0</td>\n",
              "    </tr>\n",
              "    <tr>\n",
              "      <th>6</th>\n",
              "      <td>tt0000001</td>\n",
              "      <td>7</td>\n",
              "      <td>Carmencita</td>\n",
              "      <td>NaN</td>\n",
              "      <td>NaN</td>\n",
              "      <td>original</td>\n",
              "      <td>NaN</td>\n",
              "      <td>1</td>\n",
              "    </tr>\n",
              "    <tr>\n",
              "      <th>7</th>\n",
              "      <td>tt0000001</td>\n",
              "      <td>8</td>\n",
              "      <td>カルメンチータ</td>\n",
              "      <td>JP</td>\n",
              "      <td>ja</td>\n",
              "      <td>imdbDisplay</td>\n",
              "      <td>NaN</td>\n",
              "      <td>0</td>\n",
              "    </tr>\n",
              "    <tr>\n",
              "      <th>8</th>\n",
              "      <td>tt0000002</td>\n",
              "      <td>1</td>\n",
              "      <td>Le clown et ses chiens</td>\n",
              "      <td>NaN</td>\n",
              "      <td>NaN</td>\n",
              "      <td>original</td>\n",
              "      <td>NaN</td>\n",
              "      <td>1</td>\n",
              "    </tr>\n",
              "    <tr>\n",
              "      <th>9</th>\n",
              "      <td>tt0000002</td>\n",
              "      <td>2</td>\n",
              "      <td>Le clown et ses chiens</td>\n",
              "      <td>FR</td>\n",
              "      <td>NaN</td>\n",
              "      <td>imdbDisplay</td>\n",
              "      <td>NaN</td>\n",
              "      <td>0</td>\n",
              "    </tr>\n",
              "  </tbody>\n",
              "</table>\n",
              "</div>\n",
              "    <div class=\"colab-df-buttons\">\n",
              "\n",
              "  <div class=\"colab-df-container\">\n",
              "    <button class=\"colab-df-convert\" onclick=\"convertToInteractive('df-69e42270-b265-4cb5-9bf0-cbff7373a12b')\"\n",
              "            title=\"Convert this dataframe to an interactive table.\"\n",
              "            style=\"display:none;\">\n",
              "\n",
              "  <svg xmlns=\"http://www.w3.org/2000/svg\" height=\"24px\" viewBox=\"0 -960 960 960\">\n",
              "    <path d=\"M120-120v-720h720v720H120Zm60-500h600v-160H180v160Zm220 220h160v-160H400v160Zm0 220h160v-160H400v160ZM180-400h160v-160H180v160Zm440 0h160v-160H620v160ZM180-180h160v-160H180v160Zm440 0h160v-160H620v160Z\"/>\n",
              "  </svg>\n",
              "    </button>\n",
              "\n",
              "  <style>\n",
              "    .colab-df-container {\n",
              "      display:flex;\n",
              "      gap: 12px;\n",
              "    }\n",
              "\n",
              "    .colab-df-convert {\n",
              "      background-color: #E8F0FE;\n",
              "      border: none;\n",
              "      border-radius: 50%;\n",
              "      cursor: pointer;\n",
              "      display: none;\n",
              "      fill: #1967D2;\n",
              "      height: 32px;\n",
              "      padding: 0 0 0 0;\n",
              "      width: 32px;\n",
              "    }\n",
              "\n",
              "    .colab-df-convert:hover {\n",
              "      background-color: #E2EBFA;\n",
              "      box-shadow: 0px 1px 2px rgba(60, 64, 67, 0.3), 0px 1px 3px 1px rgba(60, 64, 67, 0.15);\n",
              "      fill: #174EA6;\n",
              "    }\n",
              "\n",
              "    .colab-df-buttons div {\n",
              "      margin-bottom: 4px;\n",
              "    }\n",
              "\n",
              "    [theme=dark] .colab-df-convert {\n",
              "      background-color: #3B4455;\n",
              "      fill: #D2E3FC;\n",
              "    }\n",
              "\n",
              "    [theme=dark] .colab-df-convert:hover {\n",
              "      background-color: #434B5C;\n",
              "      box-shadow: 0px 1px 3px 1px rgba(0, 0, 0, 0.15);\n",
              "      filter: drop-shadow(0px 1px 2px rgba(0, 0, 0, 0.3));\n",
              "      fill: #FFFFFF;\n",
              "    }\n",
              "  </style>\n",
              "\n",
              "    <script>\n",
              "      const buttonEl =\n",
              "        document.querySelector('#df-69e42270-b265-4cb5-9bf0-cbff7373a12b button.colab-df-convert');\n",
              "      buttonEl.style.display =\n",
              "        google.colab.kernel.accessAllowed ? 'block' : 'none';\n",
              "\n",
              "      async function convertToInteractive(key) {\n",
              "        const element = document.querySelector('#df-69e42270-b265-4cb5-9bf0-cbff7373a12b');\n",
              "        const dataTable =\n",
              "          await google.colab.kernel.invokeFunction('convertToInteractive',\n",
              "                                                    [key], {});\n",
              "        if (!dataTable) return;\n",
              "\n",
              "        const docLinkHtml = 'Like what you see? Visit the ' +\n",
              "          '<a target=\"_blank\" href=https://colab.research.google.com/notebooks/data_table.ipynb>data table notebook</a>'\n",
              "          + ' to learn more about interactive tables.';\n",
              "        element.innerHTML = '';\n",
              "        dataTable['output_type'] = 'display_data';\n",
              "        await google.colab.output.renderOutput(dataTable, element);\n",
              "        const docLink = document.createElement('div');\n",
              "        docLink.innerHTML = docLinkHtml;\n",
              "        element.appendChild(docLink);\n",
              "      }\n",
              "    </script>\n",
              "  </div>\n",
              "\n",
              "\n",
              "<div id=\"df-7aba13ec-d753-4c03-84cb-46774f8bb5b4\">\n",
              "  <button class=\"colab-df-quickchart\" onclick=\"quickchart('df-7aba13ec-d753-4c03-84cb-46774f8bb5b4')\"\n",
              "            title=\"Suggest charts\"\n",
              "            style=\"display:none;\">\n",
              "\n",
              "<svg xmlns=\"http://www.w3.org/2000/svg\" height=\"24px\"viewBox=\"0 0 24 24\"\n",
              "     width=\"24px\">\n",
              "    <g>\n",
              "        <path d=\"M19 3H5c-1.1 0-2 .9-2 2v14c0 1.1.9 2 2 2h14c1.1 0 2-.9 2-2V5c0-1.1-.9-2-2-2zM9 17H7v-7h2v7zm4 0h-2V7h2v10zm4 0h-2v-4h2v4z\"/>\n",
              "    </g>\n",
              "</svg>\n",
              "  </button>\n",
              "\n",
              "<style>\n",
              "  .colab-df-quickchart {\n",
              "      --bg-color: #E8F0FE;\n",
              "      --fill-color: #1967D2;\n",
              "      --hover-bg-color: #E2EBFA;\n",
              "      --hover-fill-color: #174EA6;\n",
              "      --disabled-fill-color: #AAA;\n",
              "      --disabled-bg-color: #DDD;\n",
              "  }\n",
              "\n",
              "  [theme=dark] .colab-df-quickchart {\n",
              "      --bg-color: #3B4455;\n",
              "      --fill-color: #D2E3FC;\n",
              "      --hover-bg-color: #434B5C;\n",
              "      --hover-fill-color: #FFFFFF;\n",
              "      --disabled-bg-color: #3B4455;\n",
              "      --disabled-fill-color: #666;\n",
              "  }\n",
              "\n",
              "  .colab-df-quickchart {\n",
              "    background-color: var(--bg-color);\n",
              "    border: none;\n",
              "    border-radius: 50%;\n",
              "    cursor: pointer;\n",
              "    display: none;\n",
              "    fill: var(--fill-color);\n",
              "    height: 32px;\n",
              "    padding: 0;\n",
              "    width: 32px;\n",
              "  }\n",
              "\n",
              "  .colab-df-quickchart:hover {\n",
              "    background-color: var(--hover-bg-color);\n",
              "    box-shadow: 0 1px 2px rgba(60, 64, 67, 0.3), 0 1px 3px 1px rgba(60, 64, 67, 0.15);\n",
              "    fill: var(--button-hover-fill-color);\n",
              "  }\n",
              "\n",
              "  .colab-df-quickchart-complete:disabled,\n",
              "  .colab-df-quickchart-complete:disabled:hover {\n",
              "    background-color: var(--disabled-bg-color);\n",
              "    fill: var(--disabled-fill-color);\n",
              "    box-shadow: none;\n",
              "  }\n",
              "\n",
              "  .colab-df-spinner {\n",
              "    border: 2px solid var(--fill-color);\n",
              "    border-color: transparent;\n",
              "    border-bottom-color: var(--fill-color);\n",
              "    animation:\n",
              "      spin 1s steps(1) infinite;\n",
              "  }\n",
              "\n",
              "  @keyframes spin {\n",
              "    0% {\n",
              "      border-color: transparent;\n",
              "      border-bottom-color: var(--fill-color);\n",
              "      border-left-color: var(--fill-color);\n",
              "    }\n",
              "    20% {\n",
              "      border-color: transparent;\n",
              "      border-left-color: var(--fill-color);\n",
              "      border-top-color: var(--fill-color);\n",
              "    }\n",
              "    30% {\n",
              "      border-color: transparent;\n",
              "      border-left-color: var(--fill-color);\n",
              "      border-top-color: var(--fill-color);\n",
              "      border-right-color: var(--fill-color);\n",
              "    }\n",
              "    40% {\n",
              "      border-color: transparent;\n",
              "      border-right-color: var(--fill-color);\n",
              "      border-top-color: var(--fill-color);\n",
              "    }\n",
              "    60% {\n",
              "      border-color: transparent;\n",
              "      border-right-color: var(--fill-color);\n",
              "    }\n",
              "    80% {\n",
              "      border-color: transparent;\n",
              "      border-right-color: var(--fill-color);\n",
              "      border-bottom-color: var(--fill-color);\n",
              "    }\n",
              "    90% {\n",
              "      border-color: transparent;\n",
              "      border-bottom-color: var(--fill-color);\n",
              "    }\n",
              "  }\n",
              "</style>\n",
              "\n",
              "  <script>\n",
              "    async function quickchart(key) {\n",
              "      const quickchartButtonEl =\n",
              "        document.querySelector('#' + key + ' button');\n",
              "      quickchartButtonEl.disabled = true;  // To prevent multiple clicks.\n",
              "      quickchartButtonEl.classList.add('colab-df-spinner');\n",
              "      try {\n",
              "        const charts = await google.colab.kernel.invokeFunction(\n",
              "            'suggestCharts', [key], {});\n",
              "      } catch (error) {\n",
              "        console.error('Error during call to suggestCharts:', error);\n",
              "      }\n",
              "      quickchartButtonEl.classList.remove('colab-df-spinner');\n",
              "      quickchartButtonEl.classList.add('colab-df-quickchart-complete');\n",
              "    }\n",
              "    (() => {\n",
              "      let quickchartButtonEl =\n",
              "        document.querySelector('#df-7aba13ec-d753-4c03-84cb-46774f8bb5b4 button');\n",
              "      quickchartButtonEl.style.display =\n",
              "        google.colab.kernel.accessAllowed ? 'block' : 'none';\n",
              "    })();\n",
              "  </script>\n",
              "</div>\n",
              "\n",
              "    </div>\n",
              "  </div>\n"
            ],
            "application/vnd.google.colaboratory.intrinsic+json": {
              "type": "dataframe",
              "variable_name": "df",
              "summary": "{\n  \"name\": \"df\",\n  \"rows\": 1000,\n  \"fields\": [\n    {\n      \"column\": \"titleId\",\n      \"properties\": {\n        \"dtype\": \"category\",\n        \"num_unique_values\": 222,\n        \"samples\": [\n          \"tt0000157\",\n          \"tt0000218\",\n          \"tt0000016\"\n        ],\n        \"semantic_type\": \"\",\n        \"description\": \"\"\n      }\n    },\n    {\n      \"column\": \"ordering\",\n      \"properties\": {\n        \"dtype\": \"number\",\n        \"std\": 4,\n        \"min\": 1,\n        \"max\": 28,\n        \"num_unique_values\": 28,\n        \"samples\": [\n          10,\n          26,\n          9\n        ],\n        \"semantic_type\": \"\",\n        \"description\": \"\"\n      }\n    },\n    {\n      \"column\": \"title\",\n      \"properties\": {\n        \"dtype\": \"string\",\n        \"num_unique_values\": 730,\n        \"samples\": [\n          \"Rip Passing Over the Mountain\",\n          \"Autour d'une cabine\",\n          \"Boulevard des Italiens\"\n        ],\n        \"semantic_type\": \"\",\n        \"description\": \"\"\n      }\n    },\n    {\n      \"column\": \"region\",\n      \"properties\": {\n        \"dtype\": \"category\",\n        \"num_unique_values\": 36,\n        \"samples\": [\n          \"CSHH\",\n          \"ES\",\n          \"CZ\"\n        ],\n        \"semantic_type\": \"\",\n        \"description\": \"\"\n      }\n    },\n    {\n      \"column\": \"language\",\n      \"properties\": {\n        \"dtype\": \"category\",\n        \"num_unique_values\": 8,\n        \"samples\": [\n          \"en\",\n          \"es\",\n          \"ja\"\n        ],\n        \"semantic_type\": \"\",\n        \"description\": \"\"\n      }\n    },\n    {\n      \"column\": \"types\",\n      \"properties\": {\n        \"dtype\": \"category\",\n        \"num_unique_values\": 5,\n        \"samples\": [\n          \"original\",\n          \"dvd\",\n          \"alternative\"\n        ],\n        \"semantic_type\": \"\",\n        \"description\": \"\"\n      }\n    },\n    {\n      \"column\": \"attributes\",\n      \"properties\": {\n        \"dtype\": \"category\",\n        \"num_unique_values\": 19,\n        \"samples\": [\n          \"literal title\",\n          \"reissue title\",\n          \"informal English title\"\n        ],\n        \"semantic_type\": \"\",\n        \"description\": \"\"\n      }\n    },\n    {\n      \"column\": \"isOriginalTitle\",\n      \"properties\": {\n        \"dtype\": \"number\",\n        \"std\": 0,\n        \"min\": 0,\n        \"max\": 1,\n        \"num_unique_values\": 2,\n        \"samples\": [\n          1,\n          0\n        ],\n        \"semantic_type\": \"\",\n        \"description\": \"\"\n      }\n    }\n  ]\n}"
            }
          },
          "metadata": {},
          "execution_count": 28
        }
      ]
    },
    {
      "cell_type": "code",
      "source": [
        "df['attributes'].value_counts()"
      ],
      "metadata": {
        "colab": {
          "base_uri": "https://localhost:8080/"
        },
        "id": "wBCfn4KPCdVM",
        "outputId": "df9cd734-b0b5-4d2d-9fed-3c468d748947"
      },
      "execution_count": 37,
      "outputs": [
        {
          "output_type": "execute_result",
          "data": {
            "text/plain": [
              "informal title                19\n",
              "literal title                 12\n",
              "literal English title         12\n",
              "informal English title         6\n",
              "informal alternative title     5\n",
              "reissue title                  4\n",
              "transliterated title           3\n",
              "premiere title                 3\n",
              "long title                     2\n",
              "copyright title                2\n",
              "alternative spelling           2\n",
              "new title                      2\n",
              "short title                    2\n",
              "bowdlerized title              1\n",
              "original script title          1\n",
              "complete title                 1\n",
              "promotional title              1\n",
              "informal short title           1\n",
              "première title                 1\n",
              "Name: attributes, dtype: int64"
            ]
          },
          "metadata": {},
          "execution_count": 37
        }
      ]
    },
    {
      "cell_type": "code",
      "source": [
        "df.nunique()"
      ],
      "metadata": {
        "colab": {
          "base_uri": "https://localhost:8080/"
        },
        "id": "Zmlpdj2PClO4",
        "outputId": "9a825ae2-6167-4902-f320-2785fc6453e4"
      },
      "execution_count": 23,
      "outputs": [
        {
          "output_type": "execute_result",
          "data": {
            "text/plain": [
              "titleId            222\n",
              "ordering            28\n",
              "title              730\n",
              "region              37\n",
              "language             9\n",
              "types                6\n",
              "attributes          20\n",
              "isOriginalTitle      2\n",
              "dtype: int64"
            ]
          },
          "metadata": {},
          "execution_count": 23
        }
      ]
    },
    {
      "cell_type": "code",
      "source": [
        "df.isna().sum()"
      ],
      "metadata": {
        "colab": {
          "base_uri": "https://localhost:8080/"
        },
        "id": "3P4PSVzmEhsO",
        "outputId": "a41c940d-d813-4e44-f533-ed0803fb1b80"
      },
      "execution_count": 39,
      "outputs": [
        {
          "output_type": "execute_result",
          "data": {
            "text/plain": [
              "titleId              0\n",
              "ordering             0\n",
              "title                0\n",
              "region             241\n",
              "language           929\n",
              "types              179\n",
              "attributes         920\n",
              "isOriginalTitle      0\n",
              "dtype: int64"
            ]
          },
          "metadata": {},
          "execution_count": 39
        }
      ]
    },
    {
      "cell_type": "code",
      "source": [
        "!wc {names[1]}"
      ],
      "metadata": {
        "colab": {
          "base_uri": "https://localhost:8080/"
        },
        "id": "w8ztdfVm9ObX",
        "outputId": "94b146fc-81c3-4289-8ee7-9e94a514c62c"
      },
      "execution_count": 16,
      "outputs": [
        {
          "output_type": "stream",
          "name": "stdout",
          "text": [
            "  38893612  379500689 1926589417 title.akas.tsv\n"
          ]
        }
      ]
    },
    {
      "cell_type": "code",
      "source": [
        "f'{38893612*(349975/1000):_}'"
      ],
      "metadata": {
        "colab": {
          "base_uri": "https://localhost:8080/",
          "height": 35
        },
        "id": "sGJAGrma-CgQ",
        "outputId": "34c488ba-7947-4da2-ba9b-2c3409c285b5"
      },
      "execution_count": 36,
      "outputs": [
        {
          "output_type": "execute_result",
          "data": {
            "text/plain": [
              "'13_611_791_859.7'"
            ],
            "application/vnd.google.colaboratory.intrinsic+json": {
              "type": "string"
            }
          },
          "metadata": {},
          "execution_count": 36
        }
      ]
    },
    {
      "cell_type": "code",
      "source": [
        "!cat {names[1]} | cut -f 5 | sort | uniq -c | sort -rn | cat -n"
      ],
      "metadata": {
        "colab": {
          "base_uri": "https://localhost:8080/"
        },
        "id": "f8jy1pFTBrzK",
        "outputId": "ba0e7039-2464-403a-ff32-059abbe4b532"
      },
      "execution_count": 51,
      "outputs": [
        {
          "output_type": "stream",
          "name": "stdout",
          "text": [
            "     1\t6986361 \\N\n",
            "     2\t4534728 ja\n",
            "     3\t4492500 fr\n",
            "     4\t4459661 hi\n",
            "     5\t4425295 es\n",
            "     6\t4424867 de\n",
            "     7\t4423117 it\n",
            "     8\t4422961 pt\n",
            "     9\t 518434 en\n",
            "    10\t  37159 tr\n",
            "    11\t  36949 cmn\n",
            "    12\t  36725 ru\n",
            "    13\t  26690 bg\n",
            "    14\t  10326 sv\n",
            "    15\t   8472 yue\n",
            "    16\t   8291 he\n",
            "    17\t   7250 qbn\n",
            "    18\t   6122 sr\n",
            "    19\t   5464 ca\n",
            "    20\t   4078 fa\n",
            "    21\t   1703 hr\n",
            "    22\t   1670 nl\n",
            "    23\t   1377 ar\n",
            "    24\t   1312 cs\n",
            "    25\t   1132 tl\n",
            "    26\t    927 ta\n",
            "    27\t    926 id\n",
            "    28\t    904 ml\n",
            "    29\t    840 sl\n",
            "    30\t    716 te\n",
            "    31\t    621 uk\n",
            "    32\t    561 qbp\n",
            "    33\t    542 sk\n",
            "    34\t    504 th\n",
            "    35\t    485 ms\n",
            "    36\t    468 bn\n",
            "    37\t    439 bs\n",
            "    38\t    336 ur\n",
            "    39\t    208 kn\n",
            "    40\t    202 mr\n",
            "    41\t    183 gl\n",
            "    42\t    162 af\n",
            "    43\t    159 la\n",
            "    44\t    158 ga\n",
            "    45\t    129 eu\n",
            "    46\t    103 cy\n",
            "    47\t     89 gu\n",
            "    48\t     86 gsw\n",
            "    49\t     83 az\n",
            "    50\t     82 lv\n",
            "    51\t     78 kk\n",
            "    52\t     76 mk\n",
            "    53\t     73 lt\n",
            "    54\t     70 yi\n",
            "    55\t     67 pa\n",
            "    56\t     63 ka\n",
            "    57\t     55 mi\n",
            "    58\t     55 gd\n",
            "    59\t     47 qal\n",
            "    60\t     42 et\n",
            "    61\t     39 el\n",
            "    62\t     36 uz\n",
            "    63\t     32 ro\n",
            "    64\t     32 hy\n",
            "    65\t     26 lb\n",
            "    66\t     26 hu\n",
            "    67\t     24 be\n",
            "    68\t     20 zu\n",
            "    69\t     17 fi\n",
            "    70\t     15 qbo\n",
            "    71\t     14 tg\n",
            "    72\t     13 ko\n",
            "    73\t     13 da\n",
            "    74\t     12 zh\n",
            "    75\t     11 xh\n",
            "    76\t     10 tk\n",
            "    77\t     10 ps\n",
            "    78\t     10 pl\n",
            "    79\t      8 sd\n",
            "    80\t      7 no\n",
            "    81\t      6 st\n",
            "    82\t      5 wo\n",
            "    83\t      5 ky\n",
            "    84\t      4 vi\n",
            "    85\t      4 tn\n",
            "    86\t      4 mn\n",
            "    87\t      3 ku\n",
            "    88\t      2 is\n",
            "    89\t      1 su\n",
            "    90\t      1 sq\n",
            "    91\t      1 roa\n",
            "    92\t      1 rn\n",
            "    93\t      1 rm\n",
            "    94\t      1 qac\n",
            "    95\t      1 prs\n",
            "    96\t      1 ne\n",
            "    97\t      1 myv\n",
            "    98\t      1 my\n",
            "    99\t      1 lo\n",
            "   100\t      1 language\n",
            "   101\t      1 jv\n",
            "   102\t      1 jsl\n",
            "   103\t      1 iu\n",
            "   104\t      1 haw\n",
            "   105\t      1 fro\n",
            "   106\t      1 eka\n",
            "   107\t      1 cr\n",
            "   108\t      1 br\n",
            "   109\t      1 am\n"
          ]
        }
      ]
    },
    {
      "cell_type": "code",
      "source": [],
      "metadata": {
        "id": "GZq7JLtxGEKx"
      },
      "execution_count": null,
      "outputs": []
    }
  ]
}