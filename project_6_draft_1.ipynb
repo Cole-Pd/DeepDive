{
  "nbformat": 4,
  "nbformat_minor": 0,
  "metadata": {
    "colab": {
      "provenance": [],
      "include_colab_link": true
    },
    "kernelspec": {
      "name": "python3",
      "display_name": "Python 3"
    },
    "language_info": {
      "name": "python"
    }
  },
  "cells": [
    {
      "cell_type": "markdown",
      "metadata": {
        "id": "view-in-github",
        "colab_type": "text"
      },
      "source": [
        "<a href=\"https://colab.research.google.com/github/Cole-Pd/DeepDive/blob/main/project_6_draft_1.ipynb\" target=\"_parent\"><img src=\"https://colab.research.google.com/assets/colab-badge.svg\" alt=\"Open In Colab\"/></a>"
      ]
    },
    {
      "cell_type": "markdown",
      "source": [
        "# Project 6"
      ],
      "metadata": {
        "id": "cJG_e1vK2NMI"
      }
    },
    {
      "cell_type": "markdown",
      "source": [
        "## Problem Definition\n"
      ],
      "metadata": {
        "id": "Ugnt7mjT2Pyt"
      }
    },
    {
      "cell_type": "markdown",
      "source": [
        "State the business problem. Translate the business problem into a Data Science problem by stating what kind of problem it is ( supervised vs unsupervised ) and whether it is a classification, regression, or clustering problem."
      ],
      "metadata": {
        "id": "DJB41zc-2q-w"
      }
    },
    {
      "cell_type": "markdown",
      "source": [
        "## Data Collection/Sources\n"
      ],
      "metadata": {
        "id": "jaq46wHS2Uh1"
      }
    },
    {
      "cell_type": "code",
      "source": [
        "import pickle\n",
        "import pandas as pd\n",
        "import tensorflow.keras as keras\n",
        "import numpy as np\n",
        "from numpy import asarray\n",
        "import matplotlib.pyplot as plt\n",
        "from keras.models import Sequential\n",
        "from keras.layers import Dense, Flatten, Conv2D, MaxPooling2D\n",
        "from keras.utils import plot_model\n",
        "from sklearn.model_selection import train_test_split\n",
        "import seaborn as sns\n",
        "from PIL import Image\n",
        "import imageio.v2 as img"
      ],
      "metadata": {
        "id": "3VnMKC71j4b_"
      },
      "execution_count": 1,
      "outputs": []
    },
    {
      "cell_type": "code",
      "source": [
        "x_pickle = !curl -O 'https://ddc-datascience.s3.amazonaws.com/Projects/Project.6-Images/Data/X.pickle'"
      ],
      "metadata": {
        "id": "BpEoAP14_wH9"
      },
      "execution_count": 13,
      "outputs": []
    },
    {
      "cell_type": "code",
      "source": [
        "y_pickle = !curl -O 'https://ddc-datascience.s3.amazonaws.com/Projects/Project.6-Images/Data/y.pickle'"
      ],
      "metadata": {
        "id": "2tcsmzYgBUl9"
      },
      "execution_count": 14,
      "outputs": []
    },
    {
      "cell_type": "markdown",
      "source": [
        "\n",
        "* Load pickled data from X.pickle and y.pickle from the AWS S3 bucket.\n",
        "\n"
      ],
      "metadata": {
        "id": "DaGpv4TcXNpo"
      }
    },
    {
      "cell_type": "code",
      "source": [
        "# Feature set of Dogs and Cats\n",
        "#x_pickle = '/content/X.pickle'\n",
        "train_set = pickle.load(open('X.pickle','rb'))"
      ],
      "metadata": {
        "id": "mNOARr9i2qW8"
      },
      "execution_count": 15,
      "outputs": []
    },
    {
      "cell_type": "code",
      "source": [
        "# Target set of Dogs and Cats\n",
        "y_pickle = '/content/y.pickle'\n",
        "target_set = pickle.load( open('y.pickle','rb'))"
      ],
      "metadata": {
        "id": "Oz2Z6i-7ltJu"
      },
      "execution_count": 16,
      "outputs": []
    },
    {
      "cell_type": "markdown",
      "source": [
        "## Data Cleaning\n"
      ],
      "metadata": {
        "id": "kvTak8Ka2db2"
      }
    },
    {
      "cell_type": "markdown",
      "source": [
        "\n",
        "* Scale the values in X so that they fall between 0 and 1 by dividing by 255.\n",
        "\n"
      ],
      "metadata": {
        "id": "DrJ-2JwDXMYk"
      }
    },
    {
      "cell_type": "code",
      "source": [
        "train_set = (train_set)/255"
      ],
      "metadata": {
        "id": "k4Q6cbo42paj"
      },
      "execution_count": 17,
      "outputs": []
    },
    {
      "cell_type": "code",
      "source": [
        "group = []\n",
        "for i in range(len(train_set)):\n",
        "  group.append(train_set[i].shape)"
      ],
      "metadata": {
        "id": "-6CLdRlqX0Jc"
      },
      "execution_count": 18,
      "outputs": []
    },
    {
      "cell_type": "code",
      "source": [
        "pd.Series(group).value_counts()"
      ],
      "metadata": {
        "colab": {
          "base_uri": "https://localhost:8080/"
        },
        "id": "SrCjJZZfYX37",
        "outputId": "64ae3a1b-f95d-4df4-8881-cf0dbdfa06f3"
      },
      "execution_count": 19,
      "outputs": [
        {
          "output_type": "execute_result",
          "data": {
            "text/plain": [
              "(100, 100, 1)    24946\n",
              "dtype: int64"
            ]
          },
          "metadata": {},
          "execution_count": 19
        }
      ]
    },
    {
      "cell_type": "markdown",
      "source": [
        "## Exploratory Data Analysis\n"
      ],
      "metadata": {
        "id": "Gvh5r9Zs2fkc"
      }
    },
    {
      "cell_type": "markdown",
      "source": [
        "* Look at the shape of X and y. Ensure that X is 4 dimensional."
      ],
      "metadata": {
        "id": "ZvxNWoQE5UAe"
      }
    },
    {
      "cell_type": "code",
      "source": [
        "train_set.shape"
      ],
      "metadata": {
        "colab": {
          "base_uri": "https://localhost:8080/"
        },
        "id": "57o-4WjBqU_7",
        "outputId": "022c0fcd-b698-43f6-fce4-824354812eeb"
      },
      "execution_count": null,
      "outputs": [
        {
          "output_type": "execute_result",
          "data": {
            "text/plain": [
              "(24946, 100, 100, 1)"
            ]
          },
          "metadata": {},
          "execution_count": 8
        }
      ]
    },
    {
      "cell_type": "code",
      "source": [
        "train_set[0].shape"
      ],
      "metadata": {
        "colab": {
          "base_uri": "https://localhost:8080/"
        },
        "id": "Rs1H8ox61V6z",
        "outputId": "860686ab-28ef-417b-d1f7-c3b6a0f40739"
      },
      "execution_count": null,
      "outputs": [
        {
          "output_type": "execute_result",
          "data": {
            "text/plain": [
              "(100, 100, 1)"
            ]
          },
          "metadata": {},
          "execution_count": 69
        }
      ]
    },
    {
      "cell_type": "code",
      "source": [
        "target_set = np.array(target_set)"
      ],
      "metadata": {
        "id": "KcqYKBCQ4mfx"
      },
      "execution_count": null,
      "outputs": []
    },
    {
      "cell_type": "code",
      "source": [
        "type(train_set)"
      ],
      "metadata": {
        "colab": {
          "base_uri": "https://localhost:8080/"
        },
        "id": "3ToZtMDs4jy1",
        "outputId": "943229ef-64e6-417c-c981-42d03af5b72a"
      },
      "execution_count": null,
      "outputs": [
        {
          "output_type": "execute_result",
          "data": {
            "text/plain": [
              "numpy.ndarray"
            ]
          },
          "metadata": {},
          "execution_count": 10
        }
      ]
    },
    {
      "cell_type": "markdown",
      "source": [
        "* Plot one of the images in X using plt.imshow().\n"
      ],
      "metadata": {
        "id": "LbD-qrPa8xdV"
      }
    },
    {
      "cell_type": "code",
      "source": [
        "# plt.imshow(train_set[38], 'Greys') ;"
      ],
      "metadata": {
        "id": "f2Jq--qbrKnn"
      },
      "execution_count": null,
      "outputs": []
    },
    {
      "cell_type": "markdown",
      "source": [
        "* Look at the response value in y for that image."
      ],
      "metadata": {
        "id": "bZwNghZ85hls"
      }
    },
    {
      "cell_type": "code",
      "source": [
        "target_set[341] # values of 1 are cat(s) values of 0 are dog(s)."
      ],
      "metadata": {
        "colab": {
          "base_uri": "https://localhost:8080/"
        },
        "id": "7S4XcnJ08owe",
        "outputId": "a7ac0cd3-49b3-402b-f421-d7114f6d4978"
      },
      "execution_count": null,
      "outputs": [
        {
          "output_type": "execute_result",
          "data": {
            "text/plain": [
              "1"
            ]
          },
          "metadata": {},
          "execution_count": 12
        }
      ]
    },
    {
      "cell_type": "markdown",
      "source": [
        "## Processing\n"
      ],
      "metadata": {
        "id": "Ij_fgEbh2hVk"
      }
    },
    {
      "cell_type": "markdown",
      "source": [
        "* Split X and y into training and testing sets."
      ],
      "metadata": {
        "id": "xL_dfC1N822S"
      }
    },
    {
      "cell_type": "code",
      "source": [
        "xtrain, xtest, ytrain, ytest = train_test_split(train_set, target_set, test_size = .2)"
      ],
      "metadata": {
        "id": "2Efloab12ouN"
      },
      "execution_count": null,
      "outputs": []
    },
    {
      "cell_type": "markdown",
      "source": [
        "*  Build a neural network:"
      ],
      "metadata": {
        "id": "4yFqtLai8_NS"
      }
    },
    {
      "cell_type": "code",
      "source": [
        "model = Sequential()"
      ],
      "metadata": {
        "id": "Z1w1e2SH2oOk"
      },
      "execution_count": null,
      "outputs": []
    },
    {
      "cell_type": "code",
      "source": [
        "# Add Convolutional and MaxPooling layers.\n",
        "model.add(\n",
        "  Conv2D(\n",
        "    name = \"Layer_1\",\n",
        "    input_shape = xtrain.shape[1:],\n",
        "    filters = 30,\n",
        "    kernel_size = (3,3),\n",
        "    activation = 'relu', #Relu is linear.\n",
        "  )\n",
        ")\n",
        "model.add(\n",
        "    MaxPooling2D(pool_size=(2,2))\n",
        ")\n",
        "\n",
        "model.add(\n",
        "  Conv2D(\n",
        "    name = \"Layer_2\",\n",
        "    input_shape = xtrain.shape[1:],\n",
        "    filters = 30,\n",
        "    kernel_size = (3,3),\n",
        "    activation = 'relu',\n",
        "  )\n",
        ")\n",
        "\n",
        "model.add(\n",
        "    MaxPooling2D(pool_size=(2,2))\n",
        ")\n",
        "\n",
        "model.add(\n",
        "  Conv2D(\n",
        "    name = \"Layer_3\",\n",
        "    input_shape = xtrain.shape[1:],\n",
        "    filters = 30,\n",
        "    kernel_size = (3,3),\n",
        "    activation = 'relu',\n",
        "  )\n",
        ")\n",
        "\n",
        "model.add(\n",
        "    MaxPooling2D(pool_size=(2,2))\n",
        ")\n"
      ],
      "metadata": {
        "id": "TyM5BoYq9wgO"
      },
      "execution_count": null,
      "outputs": []
    },
    {
      "cell_type": "code",
      "source": [
        "# Flatten and add a Dense Layer\n",
        "model.add(\n",
        "    Flatten()\n",
        ")\n",
        "\n",
        "model.add(\n",
        "  Dense(\n",
        "    name = 'binary output',\n",
        "    units = 1,\n",
        "    activation = 'sigmoid' #Sigmoid is binary\n",
        "  )\n",
        ")"
      ],
      "metadata": {
        "id": "KRRko8rI-Dpi"
      },
      "execution_count": null,
      "outputs": []
    },
    {
      "cell_type": "code",
      "source": [
        "# Compile model\n",
        "model.compile(\n",
        "  optimizer = 'adam',\n",
        "  loss = 'binary_crossentropy',\n",
        "  metrics = ['accuracy'],\n",
        ")"
      ],
      "metadata": {
        "id": "9DLGYMX__c44"
      },
      "execution_count": null,
      "outputs": []
    },
    {
      "cell_type": "markdown",
      "source": [
        "* Fit your model using the training set."
      ],
      "metadata": {
        "id": "T5NYo2HrAJ-0"
      }
    },
    {
      "cell_type": "code",
      "source": [
        "model.fit(xtrain, ytrain, epochs = 15)"
      ],
      "metadata": {
        "id": "RF5Ik1nAAH0H",
        "colab": {
          "base_uri": "https://localhost:8080/"
        },
        "outputId": "c8b300d1-6844-4759-c3fc-1d3fc6cd705e"
      },
      "execution_count": null,
      "outputs": [
        {
          "output_type": "stream",
          "name": "stdout",
          "text": [
            "Epoch 1/15\n",
            "624/624 [==============================] - 6s 9ms/step - loss: 0.6293 - accuracy: 0.6393\n",
            "Epoch 2/15\n",
            "624/624 [==============================] - 5s 8ms/step - loss: 0.5258 - accuracy: 0.7377\n",
            "Epoch 3/15\n",
            "624/624 [==============================] - 5s 8ms/step - loss: 0.4590 - accuracy: 0.7853\n",
            "Epoch 4/15\n",
            "624/624 [==============================] - 5s 9ms/step - loss: 0.4264 - accuracy: 0.8053\n",
            "Epoch 5/15\n",
            "624/624 [==============================] - 5s 8ms/step - loss: 0.3988 - accuracy: 0.8191\n",
            "Epoch 6/15\n",
            "624/624 [==============================] - 6s 9ms/step - loss: 0.3763 - accuracy: 0.8325\n",
            "Epoch 7/15\n",
            "624/624 [==============================] - 5s 8ms/step - loss: 0.3489 - accuracy: 0.8457\n",
            "Epoch 8/15\n",
            "624/624 [==============================] - 5s 8ms/step - loss: 0.3311 - accuracy: 0.8552\n",
            "Epoch 9/15\n",
            "624/624 [==============================] - 5s 9ms/step - loss: 0.3107 - accuracy: 0.8680\n",
            "Epoch 10/15\n",
            "624/624 [==============================] - 6s 10ms/step - loss: 0.2981 - accuracy: 0.8733\n",
            "Epoch 11/15\n",
            "624/624 [==============================] - 5s 9ms/step - loss: 0.2780 - accuracy: 0.8828\n",
            "Epoch 12/15\n",
            "624/624 [==============================] - 5s 8ms/step - loss: 0.2590 - accuracy: 0.8899\n",
            "Epoch 13/15\n",
            "624/624 [==============================] - 6s 9ms/step - loss: 0.2424 - accuracy: 0.8975\n",
            "Epoch 14/15\n",
            "624/624 [==============================] - 5s 8ms/step - loss: 0.2316 - accuracy: 0.9030\n",
            "Epoch 15/15\n",
            "624/624 [==============================] - 5s 9ms/step - loss: 0.2186 - accuracy: 0.9108\n"
          ]
        },
        {
          "output_type": "execute_result",
          "data": {
            "text/plain": [
              "<keras.src.callbacks.History at 0x7c71fc3d4610>"
            ]
          },
          "metadata": {},
          "execution_count": 26
        }
      ]
    },
    {
      "cell_type": "code",
      "source": [
        "from sklearn.metrics import confusion_matrix\n",
        "\n",
        "ypredicted = model.predict(xtest) > 0.5\n",
        "matrix = confusion_matrix(ytest, ypredicted)\n",
        "labels = ['Dog', 'Cat']\n",
        "\n",
        "sns.heatmap(matrix, square=True, annot=True, fmt='d', cbar=False, cmap='Blues',\n",
        "            xticklabels=labels, yticklabels=labels)\n",
        "\n",
        "plt.xlabel('Predicted label') ;\n",
        "plt.ylabel('Actual label') ;\n",
        "plt.title('Confusion') ;\n",
        "\n",
        "loss, accuracy = model.evaluate(xtest, ytest)\n",
        "print(f'{round(accuracy*100,2)}%')"
      ],
      "metadata": {
        "id": "3Rxkd8_nNC1U",
        "colab": {
          "base_uri": "https://localhost:8080/",
          "height": 524
        },
        "outputId": "fc3d4cda-604d-40ec-c50f-cdc1bcb57bad"
      },
      "execution_count": null,
      "outputs": [
        {
          "output_type": "stream",
          "name": "stdout",
          "text": [
            "156/156 [==============================] - 0s 3ms/step\n",
            "156/156 [==============================] - 1s 4ms/step - loss: 0.3768 - accuracy: 0.8501\n",
            "85.01%\n"
          ]
        },
        {
          "output_type": "display_data",
          "data": {
            "text/plain": [
              "<Figure size 640x480 with 1 Axes>"
            ],
            "image/png": "[encoded data removed]"
          },
          "metadata": {}
        }
      ]
    },
    {
      "cell_type": "markdown",
      "source": [
        "## Data Visualization/Communication of Results\n"
      ],
      "metadata": {
        "id": "gjDTKyc12jR7"
      }
    },
    {
      "cell_type": "code",
      "source": [
        "from PIL import Image\n",
        "from numpy import asarray"
      ],
      "metadata": {
        "id": "IlNH7PFy2k9-"
      },
      "execution_count": null,
      "outputs": []
    },
    {
      "cell_type": "code",
      "source": [
        "good_cone_boy = img.imread('https://ddc-datascience.s3.amazonaws.com/Projects/Project.6-Images/Data/dog.jpg')\n",
        "transform_gcb = np.array(Image.fromarray(good_cone_boy).convert('L').resize([100,100]))\n",
        "transform_gcb = transform_gcb.reshape((1,) + transform_gcb.shape)"
      ],
      "metadata": {
        "id": "5ku4nMWWxSmt"
      },
      "execution_count": null,
      "outputs": []
    },
    {
      "cell_type": "code",
      "source": [
        "our_prediction = model.predict(transform_gcb)\n",
        "if int(our_prediction[0][0]) == 0:\n",
        "  print('We predict the image is a dog :)')\n",
        "else:\n",
        "  print('We predict the image is a cat :)')"
      ],
      "metadata": {
        "id": "M0H4l5VrS4Aw",
        "colab": {
          "base_uri": "https://localhost:8080/"
        },
        "outputId": "c3b64e04-d41e-4c34-8066-2db718b60c02"
      },
      "execution_count": null,
      "outputs": [
        {
          "output_type": "stream",
          "name": "stdout",
          "text": [
            "1/1 [==============================] - 0s 122ms/step\n",
            "We predict the image is a dog :)\n"
          ]
        }
      ]
    },
    {
      "cell_type": "code",
      "source": [
        "def cat_dog_predictor(url_to_jpg = (str)):\n",
        "  ''' Using the predictive model we wrote in this notebook we will\n",
        "  transform a jpg image to a shape and see make a prediction of if it\n",
        "  is a dog or cat. Note: It will make the same prediction for jpgs that\n",
        "  are well not dogs or cats. This model works for individual jpgs of tensor 2.\n",
        "  '''\n",
        "\n",
        "  t2_array = img.imread(url_to_jpg)\n",
        "  gs_resize_array = np.array(Image.fromarray(t2_array).convert('L').resize([100,100]))\n",
        "  transform_array = gs_resize_array.reshape((1,) + gs_resize_array.shape)\n",
        "  our_prediction = model.predict(transform_array) ;\n",
        "\n",
        "  if int(our_prediction[0][0]) == 0:\n",
        "    return 'We predict the image is a dog :)'\n",
        "  else:\n",
        "    return 'We predict the image is a cat :)'\n"
      ],
      "metadata": {
        "id": "RjUtu2Fe7U7N"
      },
      "execution_count": null,
      "outputs": []
    },
    {
      "cell_type": "code",
      "source": [
        "is_cat = 'https://i.pinimg.com/originals/81/6d/a5/816da533638aee63cfbd315ea24cccbd.jpg'\n",
        "cat_dog_predictor(is_cat)"
      ],
      "metadata": {
        "id": "QrQ6impYVBVf",
        "outputId": "abf93525-d818-4a60-aa92-a8c560ddad47",
        "colab": {
          "base_uri": "https://localhost:8080/",
          "height": 53
        }
      },
      "execution_count": null,
      "outputs": [
        {
          "output_type": "stream",
          "name": "stdout",
          "text": [
            "1/1 [==============================] - 0s 19ms/step\n"
          ]
        },
        {
          "output_type": "execute_result",
          "data": {
            "text/plain": [
              "'We predict the image is a cat :)'"
            ],
            "application/vnd.google.colaboratory.intrinsic+json": {
              "type": "string"
            }
          },
          "metadata": {},
          "execution_count": 60
        }
      ]
    },
    {
      "cell_type": "code",
      "source": [
        "# def cats_and_dogs_predictor(list_of_urls = (list)):\n",
        "#   ''' This method takes ursl\n",
        "#   Using the predictive model we wrote in this notebook we will\n",
        "#   transform a jpg image to a shape and see make a prediction of if it\n",
        "#   is a dog or cat. Note: It will make the same prediction for jpgs that\n",
        "#   are well not dogs or cats. This model works for individual jpgs of tensor 2.\n",
        "#   '''\n",
        "\n",
        "#   nuggets = {}\n",
        "#   try:\n",
        "\n",
        "#     for nugget in list_of_urls:\n",
        "#       t2_array = img.imread(nugget)\n",
        "#       gs_resize_array = np.array(Image.fromarray(t2_array).convert('L').resize([100,100]))\n",
        "#       transform_array = gs_resize_array.reshape((1,) + gs_resize_array.shape)\n",
        "#       our_prediction = model.predict(transform_array) ;\n",
        "\n",
        "#     if int(our_prediction[0][0]) == 1:\n",
        "#       nuggets[nugget] = 'Probably a Dog :)'\n",
        "#     else:\n",
        "#       nuggets[nugget] = 'Probably a Cat :)'\n",
        "\n",
        "#   except:\n",
        "#     nuggets[nugget] = \"This one's unpredictable :)\"\n",
        "\n",
        "#   return pd.DataFrame(nuggets)"
      ],
      "metadata": {
        "id": "Jc2E434SVMe4"
      },
      "execution_count": null,
      "outputs": []
    },
    {
      "cell_type": "code",
      "source": [
        "cats_list = [\n",
        "    \"https://www.bluecross.org.uk/sites/default/files/assets/images/124044lpr.jpg\",\n",
        "    \"https://static.boredpanda.com/blog/wp-content/uploads/2018/04/5acb63d83493f__700-png.jpg\",\n",
        "    \"https://www.argospetinsurance.co.uk/assets/uploads/2017/12/cat-pet-animal-domestic-104827.jpeg\",\n",
        "    \"https://www.pets4homes.co.uk/images/articles/771/large/cat-lifespan-the-life-expectancy-of-cats-568e40723c336.jpg\",\n",
        "    \"http://www.catster.com/wp-content/uploads/2017/08/A-fluffy-cat-looking-funny-surprised-or-concerned.jpg\",\n",
        "    \"https://www.cats.org.uk/uploads/images/featurebox_sidebar_kids/grief-and-loss.jpg\",\n",
        "    \"https://upload.wikimedia.org/wikipedia/commons/thumb/3/3a/Cat03.jpg/1200px-Cat03.jpg\",\n",
        "    \"https://www.petmd.com/sites/default/files/petmd-cat-happy-13.jpg\",\n",
        "    \"https://r.hswstatic.com/w_907/gif/tesla-cat.jpg\",\n",
        "    \"https://images.pexels.com/photos/617278/pexels-photo-617278.jpeg?auto=compress&cs=tinysrgb&h=350\",\n",
        "    \"http://www.catster.com/wp-content/uploads/2017/08/Pixiebob-cat.jpg\",\n",
        "    \"http://www.petmd.com/sites/default/files/what-does-it-mean-when-cat-wags-tail.jpg\",\n",
        "    \"https://upload.wikimedia.org/wikipedia/commons/thumb/7/74/Cat-eating-prey.jpg/220px-Cat-eating-prey.jpg\",\n",
        "    \"https://i.ytimg.com/vi/YCaGYUIfdy4/maxresdefault.jpg\",\n",
        "    \"https://www.prestigeanimalhospital.com/sites/default/files/08-cat-cancer-4.jpeg\",\n",
        "    \"https://metrouk2.files.wordpress.com/2017/11/capture16.png?w=748&h=706&crop=1\",\n",
        "    \"https://i.pinimg.com/originals/81/6d/a5/816da533638aee63cfbd315ea24cccbd.jpg\",\n",
        "    \"https://img.purch.com/w/660/aHR0cDovL3d3dy5saXZlc2NpZW5jZS5jb20vaW1hZ2VzL2kvMDAwLzA5Ny85NTkvb3JpZ2luYWwvc2h1dHRlcnN0b2NrXzYzOTcxNjY1LmpwZw==\",\n",
        "    \"https://www.telegraph.co.uk/content/dam/pets/2017/01/06/1-JS117202740-yana-two-face-cat-news_trans_NvBQzQNjv4BqJNqHJA5DVIMqgv_1zKR2kxRY9bnFVTp4QZlQjJfe6H0.jpg?imwidth=450\",\n",
        "    \"https://img-aws.ehowcdn.com/600x600p/photos.demandstudios.com/getty/article/165/76/87490163.jpg\",\n",
        "    \"http://catsatthestudios.com/wp-content/uploads/2017/12/12920541_1345368955489850_5587934409579916708_n-2-960x410.jpg\",\n",
        "    \"http://www.petmania.ie/images/default-source/cat/petmania-kitten-1.jpg?sfvrsn=4\",\n",
        "    \"https://imagesvc.timeincapp.com/v3/mm/image?url=https%3A%2F%2Fpeopledotcom.files.wordpress.com%2F2018%2F04%2Floki_the_sphynx-01_1.jpg%3Fw%3D1800&w=700&q=85\",\n",
        "    \"https://pbs.twimg.com/profile_images/378800000532546226/dbe5f0727b69487016ffd67a6689e75a_400x400.jpeg\",\n",
        "    \"http://theorphanpet.com/wp-content/uploads/2016/06/13233136_788779574558512_3397930498291044113_n.jpg\",\n",
        "    \"http://r.ddmcdn.com/s_f/o_1/cx_462/cy_245/cw_1349/ch_1349/w_720/APL/uploads/2015/06/caturday-shutterstock_149320799.jpg\",\n",
        "    \"https://ichef.bbci.co.uk/images/ic/720x405/p0517py6.jpg\",\n",
        "    \"https://peopledotcom.files.wordpress.com/2017/12/smush-the-cat-1.jpg\",\n",
        "    \"http://i0.kym-cdn.com/entries/icons/original/000/002/232/bullet_cat.jpg\",\n",
        "    \"http://r.ddmcdn.com/s_f/o_1/cx_0/cy_157/cw_1327/ch_1327/w_720/APL/uploads/2013/01/smart-cat-article.jpg\",\n",
        "    \"https://images.pexels.com/photos/326875/pexels-photo-326875.jpeg?cs=srgb&dl=adorable-animal-blur-326875.jpg&fm=jpg\",\n",
        "    \"http://www.catster.com/wp-content/uploads/2017/08/Hairless-cat.jpg\",\n",
        "    \"https://www.vetbabble.com/wp-content/uploads/2016/11/hiding-cat.jpg\",\n",
        "    \"http://www.catbreedslist.com/cat-wallpapers/Persian-kitten-grass-white-2560x1600.jpg\",\n",
        "    \"https://bayonline.co.nz/wp-content/uploads/2016/10/4-ways-cheer-up-depressed-cat.jpg\",\n",
        "    \"https://i.ytimg.com/vi/OqQPv78AMw0/maxresdefault.jpg\",\n",
        "    \"https://lookaside.fbsbx.com/lookaside/crawler/media/?media_id=1915279545376970\",\n",
        "    \"https://localtvkstu.files.wordpress.com/2018/02/turtle-the-cat-1.jpg?quality=85&strip=all&w=2000\",\n",
        "    \"https://static.designboom.com/wp-content/uploads/2018/04/cat-VR-isobar-designboom-600.jpg\",\n",
        "    \"https://i.kinja-img.com/gawker-media/image/upload/s--kHrQ8nr7--/c_scale,f_auto,fl_progressive,q_80,w_800/18huxz4bvnfjbjpg.jpg\",\n",
        "    \"https://lookaside.fbsbx.com/lookaside/crawler/media/?media_id=1394987587246423\",\n",
        "    \"https://cbsnews1.cbsistatic.com/hub/i/r/2011/09/30/91f6cb1f-a643-11e2-a3f0-029118418759/resize/620x465/30aeb6468b2b25d07324e6d4ef3c9b47/twofacedcat_AP110928014\"]"
      ],
      "metadata": {
        "id": "atZH7OuCpsJd"
      },
      "execution_count": null,
      "outputs": []
    },
    {
      "cell_type": "code",
      "source": [
        "def cats_and_dogs_predictor(list_of_urls = (list)):\n",
        "  ''' This method takes ursl\n",
        "  Using the predictive model we wrote in this notebook we will\n",
        "  transform a jpg image to a shape and see make a prediction of if it\n",
        "  is a dog or cat. Note: It will make the same prediction for jpgs that\n",
        "  are well not dogs or cats. This model works for individual jpgs of tensor 2.\n",
        "  '''\n",
        "\n",
        "  predictionary = {}\n",
        "\n",
        "  cat_nuggets = []\n",
        "  dog_nuggets = []\n",
        "  unpredictable_nuggets = []\n",
        "\n",
        "  for nugget in list_of_urls:\n",
        "    try:\n",
        "      t2_array = img.imread(nugget)\n",
        "      gs_resize_array = np.array(Image.fromarray(t2_array).convert('L').resize([100,100]))\n",
        "      transform_array = gs_resize_array.reshape((1,) + gs_resize_array.shape)\n",
        "      our_prediction = model.predict(transform_array) ;\n",
        "\n",
        "      if int(our_prediction[0][0]) == 0:\n",
        "        dog_nuggets.append(nugget)\n",
        "      else:\n",
        "        cat_nuggets.append(nugget)\n",
        "\n",
        "    except:\n",
        "      unpredictable_nuggets.append(nugget)\n",
        "\n",
        "  cat_nuggets = pd.Series(cat_nuggets)\n",
        "  dog_nuggets = pd.Series(dog_nuggets),\n",
        "  unpredictable_nuggets = pd.Series(unpredictable_nuggets)\n",
        "\n",
        "  predictionary['Cats'] = cat_nuggets\n",
        "  predictionary['Dogs'] = dog_nuggets\n",
        "  predictionary['Unpredictable'] = unpredictable_nuggets\n",
        "\n",
        "  return predictionary, 100 * (\n",
        "     len(cat_nuggets) /\n",
        "   (len(cat_nuggets) + len(dog_nuggets))  )\n",
        "\n"
      ],
      "metadata": {
        "id": "LnGLN8_EUWbw"
      },
      "execution_count": null,
      "outputs": []
    },
    {
      "cell_type": "code",
      "source": [
        "cats_and_dogs_predictor(cats_list)"
      ],
      "metadata": {
        "id": "6DQQa2mdsBxe"
      },
      "execution_count": null,
      "outputs": []
    }
  ]
}