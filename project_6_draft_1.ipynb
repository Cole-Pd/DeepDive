{
  "nbformat": 4,
  "nbformat_minor": 0,
  "metadata": {
    "colab": {
      "provenance": [],
      "gpuType": "T4",
      "include_colab_link": true
    },
    "kernelspec": {
      "name": "python3",
      "display_name": "Python 3"
    },
    "language_info": {
      "name": "python"
    },
    "accelerator": "GPU"
  },
  "cells": [
    {
      "cell_type": "markdown",
      "metadata": {
        "id": "view-in-github",
        "colab_type": "text"
      },
      "source": [
        "<a href=\"https://colab.research.google.com/github/Cole-Pd/DeepDive/blob/main/project_6_draft_1.ipynb\" target=\"_parent\"><img src=\"https://colab.research.google.com/assets/colab-badge.svg\" alt=\"Open In Colab\"/></a>"
      ]
    },
    {
      "cell_type": "markdown",
      "source": [
        "# Project 6"
      ],
      "metadata": {
        "id": "cJG_e1vK2NMI"
      }
    },
    {
      "cell_type": "markdown",
      "source": [
        "## Problem Definition\n"
      ],
      "metadata": {
        "id": "Ugnt7mjT2Pyt"
      }
    },
    {
      "cell_type": "markdown",
      "source": [
        "State the business problem. Translate the business problem into a Data Science problem by stating what kind of problem it is ( supervised vs unsupervised ) and whether it is a classification, regression, or clustering problem."
      ],
      "metadata": {
        "id": "DJB41zc-2q-w"
      }
    },
    {
      "cell_type": "markdown",
      "source": [
        "## Data Collection/Sources\n"
      ],
      "metadata": {
        "id": "jaq46wHS2Uh1"
      }
    },
    {
      "cell_type": "code",
      "source": [
        "import pickle\n",
        "import pandas\n",
        "import tensorflow.keras as keras\n",
        "import numpy as np\n",
        "import matplotlib.pyplot as plt\n",
        "from keras.models import Sequential\n",
        "from keras.layers import Dense, Flatten, Conv2D, MaxPooling2D\n",
        "from keras.utils import plot_model\n",
        "from sklearn.model_selection import train_test_split\n",
        "import seaborn as sns"
      ],
      "metadata": {
        "id": "3VnMKC71j4b_"
      },
      "execution_count": null,
      "outputs": []
    },
    {
      "cell_type": "markdown",
      "source": [
        "\n",
        "* Load pickled data from X.pickle and y.pickle from the AWS S3 bucket.\n",
        "\n"
      ],
      "metadata": {
        "id": "DaGpv4TcXNpo"
      }
    },
    {
      "cell_type": "code",
      "source": [
        "# Feature set of Dogs and Cats\n",
        "x_pickle = '/content/X.pickle'\n",
        "train_set = pickle.load( open(x_pickle,'rb'))"
      ],
      "metadata": {
        "id": "mNOARr9i2qW8"
      },
      "execution_count": null,
      "outputs": []
    },
    {
      "cell_type": "code",
      "source": [
        "# Target set of Dogs and Cats\n",
        "y_pickle = '/content/y.pickle'\n",
        "target_set = pickle.load( open(y_pickle,'rb'))"
      ],
      "metadata": {
        "id": "Oz2Z6i-7ltJu"
      },
      "execution_count": null,
      "outputs": []
    },
    {
      "cell_type": "markdown",
      "source": [
        "## Data Cleaning\n"
      ],
      "metadata": {
        "id": "kvTak8Ka2db2"
      }
    },
    {
      "cell_type": "markdown",
      "source": [
        "\n",
        "* Scale the values in X so that they fall between 0 and 1 by dividing by 255.\n",
        "\n"
      ],
      "metadata": {
        "id": "DrJ-2JwDXMYk"
      }
    },
    {
      "cell_type": "code",
      "source": [
        "train_set = (train_set)/255"
      ],
      "metadata": {
        "id": "k4Q6cbo42paj"
      },
      "execution_count": null,
      "outputs": []
    },
    {
      "cell_type": "markdown",
      "source": [
        "## Exploratory Data Analysis\n"
      ],
      "metadata": {
        "id": "Gvh5r9Zs2fkc"
      }
    },
    {
      "cell_type": "markdown",
      "source": [
        "* Look at the shape of X and y. Ensure that X is 4 dimensional."
      ],
      "metadata": {
        "id": "ZvxNWoQE5UAe"
      }
    },
    {
      "cell_type": "code",
      "source": [
        "train_set.shape"
      ],
      "metadata": {
        "colab": {
          "base_uri": "https://localhost:8080/"
        },
        "id": "57o-4WjBqU_7",
        "outputId": "dcf02e10-3c8d-4532-f830-c0949610cb52"
      },
      "execution_count": null,
      "outputs": [
        {
          "output_type": "execute_result",
          "data": {
            "text/plain": [
              "(24946, 100, 100, 1)"
            ]
          },
          "metadata": {},
          "execution_count": 5
        }
      ]
    },
    {
      "cell_type": "markdown",
      "source": [
        "* Plot one of the images in X using plt.imshow().\n"
      ],
      "metadata": {
        "id": "3syvCbrj5dE7"
      }
    },
    {
      "cell_type": "code",
      "source": [
        "target_set = np.array(target_set)"
      ],
      "metadata": {
        "id": "KcqYKBCQ4mfx"
      },
      "execution_count": null,
      "outputs": []
    },
    {
      "cell_type": "code",
      "source": [
        "type(train_set)"
      ],
      "metadata": {
        "colab": {
          "base_uri": "https://localhost:8080/"
        },
        "id": "3ToZtMDs4jy1",
        "outputId": "77888084-4980-4d75-e27f-db4e43d010a5"
      },
      "execution_count": null,
      "outputs": [
        {
          "output_type": "execute_result",
          "data": {
            "text/plain": [
              "numpy.ndarray"
            ]
          },
          "metadata": {},
          "execution_count": 7
        }
      ]
    },
    {
      "cell_type": "code",
      "source": [],
      "metadata": {
        "id": "0ZWKCNS5AcID"
      },
      "execution_count": null,
      "outputs": []
    },
    {
      "cell_type": "markdown",
      "source": [
        "* Plot one of the images in X using plt.imshow().\n"
      ],
      "metadata": {
        "id": "LbD-qrPa8xdV"
      }
    },
    {
      "cell_type": "code",
      "source": [
        "#plt.imshow(train_set[341], cmap = 'Greys') #This is cursed."
      ],
      "metadata": {
        "id": "f2Jq--qbrKnn"
      },
      "execution_count": null,
      "outputs": []
    },
    {
      "cell_type": "markdown",
      "source": [
        "* Look at the response value in y for that image."
      ],
      "metadata": {
        "id": "bZwNghZ85hls"
      }
    },
    {
      "cell_type": "code",
      "source": [
        "target_set[341] # values of 1 are cat(s) values of 0 are dog(s)."
      ],
      "metadata": {
        "colab": {
          "base_uri": "https://localhost:8080/"
        },
        "id": "7S4XcnJ08owe",
        "outputId": "28669a69-9b80-4864-db05-3c20723f9bf0"
      },
      "execution_count": null,
      "outputs": [
        {
          "output_type": "execute_result",
          "data": {
            "text/plain": [
              "1"
            ]
          },
          "metadata": {},
          "execution_count": 9
        }
      ]
    },
    {
      "cell_type": "markdown",
      "source": [
        "## Processing\n"
      ],
      "metadata": {
        "id": "Ij_fgEbh2hVk"
      }
    },
    {
      "cell_type": "markdown",
      "source": [
        "* Split X and y into training and testing sets."
      ],
      "metadata": {
        "id": "xL_dfC1N822S"
      }
    },
    {
      "cell_type": "code",
      "source": [
        "xtrain, xtest, ytrain, ytest = train_test_split(train_set, target_set, test_size = .2)"
      ],
      "metadata": {
        "id": "2Efloab12ouN"
      },
      "execution_count": null,
      "outputs": []
    },
    {
      "cell_type": "markdown",
      "source": [
        "*  Build a neural network:"
      ],
      "metadata": {
        "id": "4yFqtLai8_NS"
      }
    },
    {
      "cell_type": "code",
      "source": [
        "model = Sequential()"
      ],
      "metadata": {
        "id": "Z1w1e2SH2oOk"
      },
      "execution_count": null,
      "outputs": []
    },
    {
      "cell_type": "code",
      "source": [
        "# Add Convolutional and MaxPooling layers.\n",
        "model.add(\n",
        "  Conv2D(\n",
        "    name = \"Layer_1\",\n",
        "    input_shape = xtrain.shape[1:],\n",
        "    filters = 30,\n",
        "    kernel_size = (3,3),\n",
        "    activation = 'relu', #Relu is linear.\n",
        "  )\n",
        ")\n",
        "model.add(\n",
        "    MaxPooling2D(pool_size=(2,2))\n",
        ")\n",
        "\n",
        "model.add(\n",
        "  Conv2D(\n",
        "    name = \"Layer_2\",\n",
        "    input_shape = xtrain.shape[1:],\n",
        "    filters = 30,\n",
        "    kernel_size = (3,3),\n",
        "    activation = 'relu',\n",
        "  )\n",
        ")\n",
        "\n",
        "model.add(\n",
        "    MaxPooling2D(pool_size=(2,2))\n",
        ")\n",
        "\n",
        "model.add(\n",
        "  Conv2D(\n",
        "    name = \"Layer_3\",\n",
        "    input_shape = xtrain.shape[1:],\n",
        "    filters = 30,\n",
        "    kernel_size = (3,3),\n",
        "    activation = 'relu',\n",
        "  )\n",
        ")\n",
        "\n",
        "model.add(\n",
        "    MaxPooling2D(pool_size=(2,2))\n",
        ")\n",
        "\n"
      ],
      "metadata": {
        "id": "TyM5BoYq9wgO"
      },
      "execution_count": null,
      "outputs": []
    },
    {
      "cell_type": "code",
      "source": [
        "# Flatten and add a Dense Layer\n",
        "model.add(\n",
        "    Flatten()\n",
        ")\n",
        "\n",
        "model.add(\n",
        "  Dense(\n",
        "    name = 'binary',\n",
        "    units = 1,\n",
        "    activation = 'sigmoid' #Sigmoid is binary\n",
        "  )\n",
        ")"
      ],
      "metadata": {
        "id": "KRRko8rI-Dpi"
      },
      "execution_count": null,
      "outputs": []
    },
    {
      "cell_type": "code",
      "source": [
        "# Compile model\n",
        "model.compile(\n",
        "  optimizer = 'adam',\n",
        "  loss = 'binary_crossentropy',\n",
        "  metrics = ['accuracy'],\n",
        ")"
      ],
      "metadata": {
        "id": "9DLGYMX__c44"
      },
      "execution_count": null,
      "outputs": []
    },
    {
      "cell_type": "markdown",
      "source": [
        "* Fit your model using the training set."
      ],
      "metadata": {
        "id": "T5NYo2HrAJ-0"
      }
    },
    {
      "cell_type": "code",
      "source": [
        "model.fit(xtrain, ytrain, epochs = 15)"
      ],
      "metadata": {
        "id": "RF5Ik1nAAH0H"
      },
      "execution_count": null,
      "outputs": []
    },
    {
      "cell_type": "code",
      "source": [
        "loss, accuracy = model.evaluate(xtest, ytest)\n",
        "print(f'{round(accuracy*100,2)}%')"
      ],
      "metadata": {
        "colab": {
          "base_uri": "https://localhost:8080/"
        },
        "id": "3l5MZGloE3w-",
        "outputId": "7f117b7d-8e51-4ccb-d76c-7c82eb402c3a"
      },
      "execution_count": null,
      "outputs": [
        {
          "output_type": "stream",
          "name": "stdout",
          "text": [
            "156/156 [==============================] - 1s 4ms/step - loss: 0.3838 - accuracy: 0.8467\n",
            "84.67%\n"
          ]
        }
      ]
    },
    {
      "cell_type": "code",
      "source": [
        "from sklearn.metrics import confusion_matrix\n",
        "\n",
        "ypredicted = model.predict(xtest) > 0.5\n",
        "matrix = confusion_matrix(ytest, ypredicted)\n",
        "labels = ['Dog', 'Cat']\n",
        "\n",
        "sns.heatmap(matrix, square=True, annot=True, fmt='d', cbar=False, cmap='Blues',\n",
        "            xticklabels=labels, yticklabels=labels)\n",
        "\n",
        "plt.xlabel('Predicted label') ;\n",
        "plt.ylabel('Actual label') ;\n",
        "plt.title('Confusion') ;\n",
        "\n",
        "loss, accuracy = model.evaluate(xtest, ytest)\n",
        "print(f'{round(accuracy*100,2)}%')"
      ],
      "metadata": {
        "id": "3Rxkd8_nNC1U"
      },
      "execution_count": null,
      "outputs": []
    },
    {
      "cell_type": "markdown",
      "source": [
        "## Data Visualization/Communication of Results\n"
      ],
      "metadata": {
        "id": "gjDTKyc12jR7"
      }
    },
    {
      "cell_type": "code",
      "source": [
        "from PIL import Image\n",
        "from numpy import asarray"
      ],
      "metadata": {
        "id": "IlNH7PFy2k9-"
      },
      "execution_count": null,
      "outputs": []
    },
    {
      "cell_type": "code",
      "source": [
        "dog = Image.open('/content/IMG_4752.jpg')"
      ],
      "metadata": {
        "id": "zY7PbzFUSlXy"
      },
      "execution_count": null,
      "outputs": []
    },
    {
      "cell_type": "code",
      "source": [
        "num_puppies = asarray(dog)\n",
        "num_puppies = num_puppies/255"
      ],
      "metadata": {
        "id": "M0H4l5VrS4Aw"
      },
      "execution_count": null,
      "outputs": []
    },
    {
      "cell_type": "code",
      "source": [
        "our_prediction = model.predict(num_puppies)"
      ],
      "metadata": {
        "id": "QrQ6impYVBVf"
      },
      "execution_count": null,
      "outputs": []
    },
    {
      "cell_type": "code",
      "source": [],
      "metadata": {
        "id": "Jc2E434SVMe4"
      },
      "execution_count": null,
      "outputs": []
    }
  ]
}