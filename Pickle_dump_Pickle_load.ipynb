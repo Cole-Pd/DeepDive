{
  "nbformat": 4,
  "nbformat_minor": 0,
  "metadata": {
    "colab": {
      "provenance": [],
      "include_colab_link": true
    },
    "kernelspec": {
      "name": "python3",
      "display_name": "Python 3"
    },
    "language_info": {
      "name": "python"
    }
  },
  "cells": [
    {
      "cell_type": "markdown",
      "metadata": {
        "id": "view-in-github",
        "colab_type": "text"
      },
      "source": [
        "<a href=\"https://colab.research.google.com/github/Cole-Pd/DeepDive/blob/main/Pickle_dump_Pickle_load.ipynb\" target=\"_parent\"><img src=\"https://colab.research.google.com/assets/colab-badge.svg\" alt=\"Open In Colab\"/></a>"
      ]
    },
    {
      "cell_type": "markdown",
      "source": [
        "# GPickleU"
      ],
      "metadata": {
        "id": "cJG_e1vK2NMI"
      }
    },
    {
      "cell_type": "markdown",
      "source": [
        "Run these cells and get your two pickle files."
      ],
      "metadata": {
        "id": "ForWrtPvYulE"
      }
    },
    {
      "cell_type": "code",
      "source": [
        "%%capture\n",
        "!python -m textblob.download_corpora"
      ],
      "metadata": {
        "id": "QtLzZ061ho9J"
      },
      "execution_count": 3,
      "outputs": []
    },
    {
      "cell_type": "code",
      "source": [
        "import pandas as pd\n",
        "from textblob import TextBlob, Word\n",
        "import pickle\n",
        "url = 'https://ddc-datascience.s3.amazonaws.com/Projects/Project.5-NLP/Data/NLP.csv'\n",
        "df = pd.read_csv(url)"
      ],
      "metadata": {
        "id": "3L_aN72kn1AM"
      },
      "execution_count": 11,
      "outputs": []
    },
    {
      "cell_type": "code",
      "source": [
        "df['tb'] = df['text'].apply(TextBlob)\n",
        "l = df['tb'][:20000].apply(lambda x: [x.singularize() for x in x.words])\n",
        "pickle.dump(l, open('pickle_part_1.p','wb'))\n",
        "%reset -f\n",
        "import pickle\n",
        "l = pickle.load(open('pickle_part_1.p','rb'))"
      ],
      "metadata": {
        "id": "UAsEoDVzblnR"
      },
      "execution_count": null,
      "outputs": []
    },
    {
      "cell_type": "code",
      "source": [
        "%%capture\n",
        "!python -m textblob.download_corpora"
      ],
      "metadata": {
        "id": "X21Zv55PZNZk"
      },
      "execution_count": 2,
      "outputs": []
    },
    {
      "cell_type": "code",
      "source": [
        "import pandas as pd\n",
        "from textblob import TextBlob, Word\n",
        "import pickle\n",
        "url = 'https://ddc-datascience.s3.amazonaws.com/Projects/Project.5-NLP/Data/NLP.csv'\n",
        "df = pd.read_csv(url)"
      ],
      "metadata": {
        "id": "-KrKGl9vZGj8"
      },
      "execution_count": 1,
      "outputs": []
    },
    {
      "cell_type": "code",
      "source": [
        "df['tb'] = df['text'].apply(TextBlob)\n",
        "a = df['tb'][20000:].apply(lambda x: [x.singularize() for x in x.words])\n",
        "pickle.dump(a, open('pickle_part_2.p','wb'))\n",
        "%reset -f\n",
        "import pickle\n",
        "a = pickle.load(open('pickle_part_2.p','rb'))"
      ],
      "metadata": {
        "id": "yIo-SmqNYEv0"
      },
      "execution_count": 7,
      "outputs": []
    }
  ]
}